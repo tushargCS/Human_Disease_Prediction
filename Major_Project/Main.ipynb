{
 "cells": [
  {
   "cell_type": "markdown",
   "id": "b69ca0a1",
   "metadata": {},
   "source": [
    "# Heart Disease prediction"
   ]
  },
  {
   "cell_type": "markdown",
   "id": "e79b3218",
   "metadata": {},
   "source": [
    "<h1 style=\"color:red\">Introduction"
   ]
  },
  {
   "cell_type": "markdown",
   "id": "18d763f3",
   "metadata": {},
   "source": [
    "<img src=\"hEART_dIS.jpg\"></img>"
   ]
  },
  {
   "cell_type": "code",
   "execution_count": 1,
   "id": "c82f625e",
   "metadata": {},
   "outputs": [],
   "source": [
    "import pandas as pd\n",
    "import numpy as np\n",
    "import seaborn as sns\n",
    "import matplotlib.pyplot as plt"
   ]
  },
  {
   "cell_type": "code",
   "execution_count": 2,
   "id": "21dde9a0",
   "metadata": {},
   "outputs": [],
   "source": [
    "heart = pd.read_csv('Datasets/final_heart_disease_dataSet.csv')"
   ]
  },
  {
   "cell_type": "code",
   "execution_count": 3,
   "id": "cdac7995",
   "metadata": {},
   "outputs": [
    {
     "data": {
      "text/html": [
       "<style type=\"text/css\">\n",
       "#T_0ba73_row0_col0, #T_0ba73_row0_col1, #T_0ba73_row0_col2, #T_0ba73_row0_col3, #T_0ba73_row0_col4, #T_0ba73_row0_col5, #T_0ba73_row0_col6, #T_0ba73_row0_col7, #T_0ba73_row0_col8, #T_0ba73_row0_col9, #T_0ba73_row0_col10, #T_0ba73_row0_col11, #T_0ba73_row0_col12, #T_0ba73_row0_col13, #T_0ba73_row0_col14, #T_0ba73_row1_col0, #T_0ba73_row1_col1, #T_0ba73_row1_col2, #T_0ba73_row1_col3, #T_0ba73_row1_col4, #T_0ba73_row1_col5, #T_0ba73_row1_col6, #T_0ba73_row1_col7, #T_0ba73_row1_col8, #T_0ba73_row1_col9, #T_0ba73_row1_col10, #T_0ba73_row1_col11, #T_0ba73_row1_col12, #T_0ba73_row1_col13, #T_0ba73_row1_col14, #T_0ba73_row2_col0, #T_0ba73_row2_col1, #T_0ba73_row2_col2, #T_0ba73_row2_col3, #T_0ba73_row2_col4, #T_0ba73_row2_col5, #T_0ba73_row2_col6, #T_0ba73_row2_col7, #T_0ba73_row2_col8, #T_0ba73_row2_col9, #T_0ba73_row2_col10, #T_0ba73_row2_col11, #T_0ba73_row2_col12, #T_0ba73_row2_col13, #T_0ba73_row2_col14, #T_0ba73_row3_col0, #T_0ba73_row3_col1, #T_0ba73_row3_col2, #T_0ba73_row3_col3, #T_0ba73_row3_col4, #T_0ba73_row3_col5, #T_0ba73_row3_col6, #T_0ba73_row3_col7, #T_0ba73_row3_col8, #T_0ba73_row3_col9, #T_0ba73_row3_col10, #T_0ba73_row3_col11, #T_0ba73_row3_col12, #T_0ba73_row3_col13, #T_0ba73_row3_col14, #T_0ba73_row4_col0, #T_0ba73_row4_col1, #T_0ba73_row4_col2, #T_0ba73_row4_col3, #T_0ba73_row4_col4, #T_0ba73_row4_col5, #T_0ba73_row4_col6, #T_0ba73_row4_col7, #T_0ba73_row4_col8, #T_0ba73_row4_col9, #T_0ba73_row4_col10, #T_0ba73_row4_col11, #T_0ba73_row4_col12, #T_0ba73_row4_col13, #T_0ba73_row4_col14 {\n",
       "  background-color: #b9e192;\n",
       "  color: black;\n",
       "  border-color: darkblack;\n",
       "}\n",
       "</style>\n",
       "<table id=\"T_0ba73\">\n",
       "  <thead>\n",
       "    <tr>\n",
       "      <th class=\"blank level0\" >&nbsp;</th>\n",
       "      <th id=\"T_0ba73_level0_col0\" class=\"col_heading level0 col0\" >Unnamed: 0</th>\n",
       "      <th id=\"T_0ba73_level0_col1\" class=\"col_heading level0 col1\" >age</th>\n",
       "      <th id=\"T_0ba73_level0_col2\" class=\"col_heading level0 col2\" >sex</th>\n",
       "      <th id=\"T_0ba73_level0_col3\" class=\"col_heading level0 col3\" >cp</th>\n",
       "      <th id=\"T_0ba73_level0_col4\" class=\"col_heading level0 col4\" >trestbps</th>\n",
       "      <th id=\"T_0ba73_level0_col5\" class=\"col_heading level0 col5\" >chol</th>\n",
       "      <th id=\"T_0ba73_level0_col6\" class=\"col_heading level0 col6\" >fbs</th>\n",
       "      <th id=\"T_0ba73_level0_col7\" class=\"col_heading level0 col7\" >restecg</th>\n",
       "      <th id=\"T_0ba73_level0_col8\" class=\"col_heading level0 col8\" >thalach</th>\n",
       "      <th id=\"T_0ba73_level0_col9\" class=\"col_heading level0 col9\" >exang</th>\n",
       "      <th id=\"T_0ba73_level0_col10\" class=\"col_heading level0 col10\" >oldpeak</th>\n",
       "      <th id=\"T_0ba73_level0_col11\" class=\"col_heading level0 col11\" >slope</th>\n",
       "      <th id=\"T_0ba73_level0_col12\" class=\"col_heading level0 col12\" >ca</th>\n",
       "      <th id=\"T_0ba73_level0_col13\" class=\"col_heading level0 col13\" >thal</th>\n",
       "      <th id=\"T_0ba73_level0_col14\" class=\"col_heading level0 col14\" >target</th>\n",
       "    </tr>\n",
       "  </thead>\n",
       "  <tbody>\n",
       "    <tr>\n",
       "      <th id=\"T_0ba73_level0_row0\" class=\"row_heading level0 row0\" >0</th>\n",
       "      <td id=\"T_0ba73_row0_col0\" class=\"data row0 col0\" >937</td>\n",
       "      <td id=\"T_0ba73_row0_col1\" class=\"data row0 col1\" >65</td>\n",
       "      <td id=\"T_0ba73_row0_col2\" class=\"data row0 col2\" >0</td>\n",
       "      <td id=\"T_0ba73_row0_col3\" class=\"data row0 col3\" >2</td>\n",
       "      <td id=\"T_0ba73_row0_col4\" class=\"data row0 col4\" >140</td>\n",
       "      <td id=\"T_0ba73_row0_col5\" class=\"data row0 col5\" >417</td>\n",
       "      <td id=\"T_0ba73_row0_col6\" class=\"data row0 col6\" >1</td>\n",
       "      <td id=\"T_0ba73_row0_col7\" class=\"data row0 col7\" >0</td>\n",
       "      <td id=\"T_0ba73_row0_col8\" class=\"data row0 col8\" >157</td>\n",
       "      <td id=\"T_0ba73_row0_col9\" class=\"data row0 col9\" >0</td>\n",
       "      <td id=\"T_0ba73_row0_col10\" class=\"data row0 col10\" >0.800000</td>\n",
       "      <td id=\"T_0ba73_row0_col11\" class=\"data row0 col11\" >2</td>\n",
       "      <td id=\"T_0ba73_row0_col12\" class=\"data row0 col12\" >1</td>\n",
       "      <td id=\"T_0ba73_row0_col13\" class=\"data row0 col13\" >2</td>\n",
       "      <td id=\"T_0ba73_row0_col14\" class=\"data row0 col14\" >1</td>\n",
       "    </tr>\n",
       "    <tr>\n",
       "      <th id=\"T_0ba73_level0_row1\" class=\"row_heading level0 row1\" >1</th>\n",
       "      <td id=\"T_0ba73_row1_col0\" class=\"data row1 col0\" >289</td>\n",
       "      <td id=\"T_0ba73_row1_col1\" class=\"data row1 col1\" >55</td>\n",
       "      <td id=\"T_0ba73_row1_col2\" class=\"data row1 col2\" >0</td>\n",
       "      <td id=\"T_0ba73_row1_col3\" class=\"data row1 col3\" >0</td>\n",
       "      <td id=\"T_0ba73_row1_col4\" class=\"data row1 col4\" >128</td>\n",
       "      <td id=\"T_0ba73_row1_col5\" class=\"data row1 col5\" >205</td>\n",
       "      <td id=\"T_0ba73_row1_col6\" class=\"data row1 col6\" >0</td>\n",
       "      <td id=\"T_0ba73_row1_col7\" class=\"data row1 col7\" >2</td>\n",
       "      <td id=\"T_0ba73_row1_col8\" class=\"data row1 col8\" >130</td>\n",
       "      <td id=\"T_0ba73_row1_col9\" class=\"data row1 col9\" >1</td>\n",
       "      <td id=\"T_0ba73_row1_col10\" class=\"data row1 col10\" >2.000000</td>\n",
       "      <td id=\"T_0ba73_row1_col11\" class=\"data row1 col11\" >1</td>\n",
       "      <td id=\"T_0ba73_row1_col12\" class=\"data row1 col12\" >1</td>\n",
       "      <td id=\"T_0ba73_row1_col13\" class=\"data row1 col13\" >3</td>\n",
       "      <td id=\"T_0ba73_row1_col14\" class=\"data row1 col14\" >0</td>\n",
       "    </tr>\n",
       "    <tr>\n",
       "      <th id=\"T_0ba73_level0_row2\" class=\"row_heading level0 row2\" >2</th>\n",
       "      <td id=\"T_0ba73_row2_col0\" class=\"data row2 col0\" >93</td>\n",
       "      <td id=\"T_0ba73_row2_col1\" class=\"data row2 col1\" >54</td>\n",
       "      <td id=\"T_0ba73_row2_col2\" class=\"data row2 col2\" >0</td>\n",
       "      <td id=\"T_0ba73_row2_col3\" class=\"data row2 col3\" >1</td>\n",
       "      <td id=\"T_0ba73_row2_col4\" class=\"data row2 col4\" >132</td>\n",
       "      <td id=\"T_0ba73_row2_col5\" class=\"data row2 col5\" >288</td>\n",
       "      <td id=\"T_0ba73_row2_col6\" class=\"data row2 col6\" >1</td>\n",
       "      <td id=\"T_0ba73_row2_col7\" class=\"data row2 col7\" >0</td>\n",
       "      <td id=\"T_0ba73_row2_col8\" class=\"data row2 col8\" >159</td>\n",
       "      <td id=\"T_0ba73_row2_col9\" class=\"data row2 col9\" >1</td>\n",
       "      <td id=\"T_0ba73_row2_col10\" class=\"data row2 col10\" >0.000000</td>\n",
       "      <td id=\"T_0ba73_row2_col11\" class=\"data row2 col11\" >2</td>\n",
       "      <td id=\"T_0ba73_row2_col12\" class=\"data row2 col12\" >1</td>\n",
       "      <td id=\"T_0ba73_row2_col13\" class=\"data row2 col13\" >2</td>\n",
       "      <td id=\"T_0ba73_row2_col14\" class=\"data row2 col14\" >1</td>\n",
       "    </tr>\n",
       "    <tr>\n",
       "      <th id=\"T_0ba73_level0_row3\" class=\"row_heading level0 row3\" >3</th>\n",
       "      <td id=\"T_0ba73_row3_col0\" class=\"data row3 col0\" >134</td>\n",
       "      <td id=\"T_0ba73_row3_col1\" class=\"data row3 col1\" >41</td>\n",
       "      <td id=\"T_0ba73_row3_col2\" class=\"data row3 col2\" >0</td>\n",
       "      <td id=\"T_0ba73_row3_col3\" class=\"data row3 col3\" >1</td>\n",
       "      <td id=\"T_0ba73_row3_col4\" class=\"data row3 col4\" >126</td>\n",
       "      <td id=\"T_0ba73_row3_col5\" class=\"data row3 col5\" >306</td>\n",
       "      <td id=\"T_0ba73_row3_col6\" class=\"data row3 col6\" >0</td>\n",
       "      <td id=\"T_0ba73_row3_col7\" class=\"data row3 col7\" >1</td>\n",
       "      <td id=\"T_0ba73_row3_col8\" class=\"data row3 col8\" >163</td>\n",
       "      <td id=\"T_0ba73_row3_col9\" class=\"data row3 col9\" >0</td>\n",
       "      <td id=\"T_0ba73_row3_col10\" class=\"data row3 col10\" >0.000000</td>\n",
       "      <td id=\"T_0ba73_row3_col11\" class=\"data row3 col11\" >2</td>\n",
       "      <td id=\"T_0ba73_row3_col12\" class=\"data row3 col12\" >0</td>\n",
       "      <td id=\"T_0ba73_row3_col13\" class=\"data row3 col13\" >2</td>\n",
       "      <td id=\"T_0ba73_row3_col14\" class=\"data row3 col14\" >1</td>\n",
       "    </tr>\n",
       "    <tr>\n",
       "      <th id=\"T_0ba73_level0_row4\" class=\"row_heading level0 row4\" >4</th>\n",
       "      <td id=\"T_0ba73_row4_col0\" class=\"data row4 col0\" >444</td>\n",
       "      <td id=\"T_0ba73_row4_col1\" class=\"data row4 col1\" >43</td>\n",
       "      <td id=\"T_0ba73_row4_col2\" class=\"data row4 col2\" >1</td>\n",
       "      <td id=\"T_0ba73_row4_col3\" class=\"data row4 col3\" >0</td>\n",
       "      <td id=\"T_0ba73_row4_col4\" class=\"data row4 col4\" >115</td>\n",
       "      <td id=\"T_0ba73_row4_col5\" class=\"data row4 col5\" >303</td>\n",
       "      <td id=\"T_0ba73_row4_col6\" class=\"data row4 col6\" >0</td>\n",
       "      <td id=\"T_0ba73_row4_col7\" class=\"data row4 col7\" >1</td>\n",
       "      <td id=\"T_0ba73_row4_col8\" class=\"data row4 col8\" >181</td>\n",
       "      <td id=\"T_0ba73_row4_col9\" class=\"data row4 col9\" >0</td>\n",
       "      <td id=\"T_0ba73_row4_col10\" class=\"data row4 col10\" >1.200000</td>\n",
       "      <td id=\"T_0ba73_row4_col11\" class=\"data row4 col11\" >1</td>\n",
       "      <td id=\"T_0ba73_row4_col12\" class=\"data row4 col12\" >0</td>\n",
       "      <td id=\"T_0ba73_row4_col13\" class=\"data row4 col13\" >2</td>\n",
       "      <td id=\"T_0ba73_row4_col14\" class=\"data row4 col14\" >1</td>\n",
       "    </tr>\n",
       "  </tbody>\n",
       "</table>\n"
      ],
      "text/plain": [
       "<pandas.io.formats.style.Styler at 0x7fd8ca4498d0>"
      ]
     },
     "execution_count": 3,
     "metadata": {},
     "output_type": "execute_result"
    }
   ],
   "source": [
    "heart.head().style.set_properties(**{'background-color': '#b9e192',\n",
    "'color': 'black',\n",
    "'border-color': 'darkblack'})"
   ]
  },
  {
   "cell_type": "raw",
   "id": "4dad4fcb",
   "metadata": {},
   "source": [
    "age: The person’s age in years"
   ]
  },
  {
   "cell_type": "raw",
   "id": "dcff384c",
   "metadata": {},
   "source": [
    "sex: The person’s sex (1 = male, 0 = female)"
   ]
  },
  {
   "cell_type": "raw",
   "id": "b3094f34",
   "metadata": {},
   "source": [
    "cp: chest pain type\n",
    "— Value 0: asymptomatic\n",
    "— Value 1: atypical angina\n",
    "— Value 2: non-anginal pain\n",
    "— Value 3: typical angina"
   ]
  },
  {
   "cell_type": "raw",
   "id": "25ac8a52",
   "metadata": {},
   "source": [
    "trestbps: The person’s resting blood pressure (mm Hg on admission to the hospital)"
   ]
  },
  {
   "cell_type": "raw",
   "id": "fecd9741",
   "metadata": {},
   "source": [
    "chol: The person’s cholesterol measurement in mg/dl"
   ]
  },
  {
   "cell_type": "raw",
   "id": "fe58e52a",
   "metadata": {},
   "source": [
    "fbs: The person’s fasting blood sugar (> 120 mg/dl, 1 = true; 0 = false)"
   ]
  },
  {
   "cell_type": "raw",
   "id": "43853dc1",
   "metadata": {},
   "source": [
    "restecg: resting electrocardiographic results\n",
    "— Value 0: showing probable or definite left ventricular hypertrophy by Estes’ criteria\n",
    "— Value 1: normal\n",
    "— Value 2: having ST-T wave abnormality (T wave inversions and/or ST elevation or depression of > 0.05 mV)"
   ]
  },
  {
   "cell_type": "raw",
   "id": "e8998787",
   "metadata": {},
   "source": [
    "thalach: The person’s maximum heart rate achieved"
   ]
  },
  {
   "cell_type": "raw",
   "id": "aae200d5",
   "metadata": {},
   "source": [
    "exang: Exercise induced angina (1 = yes; 0 = no)\n",
    "Exercise-induced angina (AP) is a common complaint of cardiac patients, especially when exercising in the cold. Angina is a condition where pressure, aching, or burning occurs in the chest, neck, jaw, shoulders, or arms during physical activity, emotional stress, or exposure to cold temperatures. It can also occur after big meals"
   ]
  },
  {
   "cell_type": "markdown",
   "id": "d3632283",
   "metadata": {},
   "source": [
    "oldpeak: ST depression induced by exercise relative to rest (‘ST’ relates to positions on the ECG plot. See more here)"
   ]
  },
  {
   "cell_type": "markdown",
   "id": "43558de1",
   "metadata": {},
   "source": [
    "slope: the slope of the peak exercise ST segment — 0: downsloping; 1: flat; 2: upsloping"
   ]
  },
  {
   "cell_type": "markdown",
   "id": "02293289",
   "metadata": {},
   "source": [
    "ca: The number of major vessels (0–3)"
   ]
  },
  {
   "cell_type": "markdown",
   "id": "ff5fd2a9",
   "metadata": {},
   "source": [
    "thal: A blood disorder called thalassemia Value 0: NULL (dropped from the dataset previously\n",
    "Value 1: fixed defect (no blood flow in some part of the heart)\n",
    "Value 2: normal blood flow\n",
    "Value 3: reversible defect (a blood flow is observed but it is not normal)"
   ]
  },
  {
   "cell_type": "markdown",
   "id": "769399b5",
   "metadata": {},
   "source": [
    "target: Heart disease (1 = no, 0= yes)"
   ]
  },
  {
   "cell_type": "code",
   "execution_count": 4,
   "id": "43035164",
   "metadata": {
    "scrolled": true
   },
   "outputs": [
    {
     "data": {
      "text/plain": [
       "(1212, 15)"
      ]
     },
     "execution_count": 4,
     "metadata": {},
     "output_type": "execute_result"
    }
   ],
   "source": [
    "heart.shape"
   ]
  },
  {
   "cell_type": "markdown",
   "id": "dc92f725",
   "metadata": {},
   "source": [
    "<h1 style='color:red'> Attributes </h1>"
   ]
  },
  {
   "cell_type": "markdown",
   "id": "37a5735a",
   "metadata": {},
   "source": [
    "<ul>\n",
    "<li><h3>Age</h3></li>\n",
    "    <br/>\n",
    "<li><h3>Sex</h3></li>\n",
    "     <br/>\n",
    "<li><h3>ChestPainType</h3></li>\n",
    " <br/>\n",
    "    <li><h3>trestbps:</h3> The Persons Resting BP [mm Hg]</li>\n",
    " <br/>\n",
    "    <li><h3>Cholesterol:</h3> Serum cholesterol [mm/dl]</li>\n",
    " <br/>\n",
    "    <li><h3>FastingBS:</h3> Fasting blood sugar [1: if FastingBS > 120 mg/dl, 0: otherwise]</li>\n",
    " <br/>\n",
    "    <li><h3>RestingECG:</h3> Resting electrocardiogram results [Normal: Normal, ST: having ST-T wave abnormality (T wave inversions and/or ST\n",
    "elevation or depression of > 0.05 mV), LVH: showing probable or definite left ventricular hypertrophy by Estes' criteria] </li>\n",
    "<br/>\n",
    "    <li><h3>(thalch)MaxHR:</h3> Maximum heart rate achieved [Numeric value between 60 and 202]</li>\n",
    "<br/>\n",
    "    <li><h3>ExerciseAngina:</h3> Exercise-induced angina [True, False]</li>\n",
    "<br/>\n",
    "    <li><h3>Oldpeak:</h3> Oldpeak = ST [Numeric value measured in depression]</li>\n",
    "<br/>\n",
    "    <li><h3>ST_Slope:</h3> The slope of the peak exercise ST segment [Up: upsloping, Flat: flat, Down: downsloping]</li>\n",
    "<br/>\n",
    "    <li><h3>ca</h3></li>\n",
    "<br/>\n",
    "    <li><h3>thal:</h3> People with thalassemia can get too much iron in their bodies, either from the disease or from frequent blood transfusions. Too much iron can result in damage to your heart, liver and endocrine system, which includes hormone-producing glands that regulate processes throughout your body.</li>\n",
    "</ul>"
   ]
  },
  {
   "cell_type": "code",
   "execution_count": 5,
   "id": "44b3b88c",
   "metadata": {
    "scrolled": true
   },
   "outputs": [
    {
     "name": "stdout",
     "output_type": "stream",
     "text": [
      "<class 'pandas.core.frame.DataFrame'>\n",
      "RangeIndex: 1212 entries, 0 to 1211\n",
      "Data columns (total 15 columns):\n",
      " #   Column      Non-Null Count  Dtype  \n",
      "---  ------      --------------  -----  \n",
      " 0   Unnamed: 0  1212 non-null   int64  \n",
      " 1   age         1212 non-null   int64  \n",
      " 2   sex         1212 non-null   int64  \n",
      " 3   cp          1212 non-null   int64  \n",
      " 4   trestbps    1212 non-null   int64  \n",
      " 5   chol        1212 non-null   int64  \n",
      " 6   fbs         1212 non-null   int64  \n",
      " 7   restecg     1212 non-null   int64  \n",
      " 8   thalach     1212 non-null   int64  \n",
      " 9   exang       1212 non-null   int64  \n",
      " 10  oldpeak     1212 non-null   float64\n",
      " 11  slope       1212 non-null   int64  \n",
      " 12  ca          1212 non-null   int64  \n",
      " 13  thal        1212 non-null   int64  \n",
      " 14  target      1212 non-null   int64  \n",
      "dtypes: float64(1), int64(14)\n",
      "memory usage: 142.2 KB\n"
     ]
    }
   ],
   "source": [
    "heart.info()"
   ]
  },
  {
   "cell_type": "code",
   "execution_count": 6,
   "id": "a693f960",
   "metadata": {},
   "outputs": [],
   "source": [
    "heart = heart.drop(labels='Unnamed: 0',axis=1)"
   ]
  },
  {
   "cell_type": "code",
   "execution_count": 7,
   "id": "0da121d6",
   "metadata": {},
   "outputs": [
    {
     "data": {
      "text/plain": [
       "array([2, 3, 1, 0])"
      ]
     },
     "execution_count": 7,
     "metadata": {},
     "output_type": "execute_result"
    }
   ],
   "source": [
    "heart['thal'].unique()"
   ]
  },
  {
   "cell_type": "code",
   "execution_count": 8,
   "id": "b45b7bff",
   "metadata": {},
   "outputs": [
    {
     "data": {
      "text/html": [
       "<style type=\"text/css\">\n",
       "#T_8f657_row0_col0, #T_8f657_row0_col1, #T_8f657_row0_col2, #T_8f657_row0_col3, #T_8f657_row0_col4, #T_8f657_row0_col5, #T_8f657_row0_col6, #T_8f657_row0_col7, #T_8f657_row0_col8, #T_8f657_row0_col9, #T_8f657_row0_col10, #T_8f657_row0_col11, #T_8f657_row0_col12, #T_8f657_row0_col13, #T_8f657_row1_col0, #T_8f657_row1_col1, #T_8f657_row1_col2, #T_8f657_row1_col3, #T_8f657_row1_col4, #T_8f657_row1_col5, #T_8f657_row1_col6, #T_8f657_row1_col7, #T_8f657_row1_col8, #T_8f657_row1_col9, #T_8f657_row1_col10, #T_8f657_row1_col11, #T_8f657_row1_col12, #T_8f657_row1_col13, #T_8f657_row2_col0, #T_8f657_row2_col1, #T_8f657_row2_col2, #T_8f657_row2_col3, #T_8f657_row2_col4, #T_8f657_row2_col5, #T_8f657_row2_col6, #T_8f657_row2_col7, #T_8f657_row2_col8, #T_8f657_row2_col9, #T_8f657_row2_col10, #T_8f657_row2_col11, #T_8f657_row2_col12, #T_8f657_row2_col13, #T_8f657_row3_col0, #T_8f657_row3_col1, #T_8f657_row3_col2, #T_8f657_row3_col3, #T_8f657_row3_col4, #T_8f657_row3_col5, #T_8f657_row3_col6, #T_8f657_row3_col7, #T_8f657_row3_col8, #T_8f657_row3_col9, #T_8f657_row3_col10, #T_8f657_row3_col11, #T_8f657_row3_col12, #T_8f657_row3_col13, #T_8f657_row4_col0, #T_8f657_row4_col1, #T_8f657_row4_col2, #T_8f657_row4_col3, #T_8f657_row4_col4, #T_8f657_row4_col5, #T_8f657_row4_col6, #T_8f657_row4_col7, #T_8f657_row4_col8, #T_8f657_row4_col9, #T_8f657_row4_col10, #T_8f657_row4_col11, #T_8f657_row4_col12, #T_8f657_row4_col13, #T_8f657_row5_col0, #T_8f657_row5_col1, #T_8f657_row5_col2, #T_8f657_row5_col3, #T_8f657_row5_col4, #T_8f657_row5_col5, #T_8f657_row5_col6, #T_8f657_row5_col7, #T_8f657_row5_col8, #T_8f657_row5_col9, #T_8f657_row5_col10, #T_8f657_row5_col11, #T_8f657_row5_col12, #T_8f657_row5_col13, #T_8f657_row6_col0, #T_8f657_row6_col1, #T_8f657_row6_col2, #T_8f657_row6_col3, #T_8f657_row6_col4, #T_8f657_row6_col5, #T_8f657_row6_col6, #T_8f657_row6_col7, #T_8f657_row6_col8, #T_8f657_row6_col9, #T_8f657_row6_col10, #T_8f657_row6_col11, #T_8f657_row6_col12, #T_8f657_row6_col13, #T_8f657_row7_col0, #T_8f657_row7_col1, #T_8f657_row7_col2, #T_8f657_row7_col3, #T_8f657_row7_col4, #T_8f657_row7_col5, #T_8f657_row7_col6, #T_8f657_row7_col7, #T_8f657_row7_col8, #T_8f657_row7_col9, #T_8f657_row7_col10, #T_8f657_row7_col11, #T_8f657_row7_col12, #T_8f657_row7_col13 {\n",
       "  background-color: #b9e192;\n",
       "  color: black;\n",
       "  border-color: darkblack;\n",
       "}\n",
       "</style>\n",
       "<table id=\"T_8f657\">\n",
       "  <thead>\n",
       "    <tr>\n",
       "      <th class=\"blank level0\" >&nbsp;</th>\n",
       "      <th id=\"T_8f657_level0_col0\" class=\"col_heading level0 col0\" >age</th>\n",
       "      <th id=\"T_8f657_level0_col1\" class=\"col_heading level0 col1\" >sex</th>\n",
       "      <th id=\"T_8f657_level0_col2\" class=\"col_heading level0 col2\" >cp</th>\n",
       "      <th id=\"T_8f657_level0_col3\" class=\"col_heading level0 col3\" >trestbps</th>\n",
       "      <th id=\"T_8f657_level0_col4\" class=\"col_heading level0 col4\" >chol</th>\n",
       "      <th id=\"T_8f657_level0_col5\" class=\"col_heading level0 col5\" >fbs</th>\n",
       "      <th id=\"T_8f657_level0_col6\" class=\"col_heading level0 col6\" >restecg</th>\n",
       "      <th id=\"T_8f657_level0_col7\" class=\"col_heading level0 col7\" >thalach</th>\n",
       "      <th id=\"T_8f657_level0_col8\" class=\"col_heading level0 col8\" >exang</th>\n",
       "      <th id=\"T_8f657_level0_col9\" class=\"col_heading level0 col9\" >oldpeak</th>\n",
       "      <th id=\"T_8f657_level0_col10\" class=\"col_heading level0 col10\" >slope</th>\n",
       "      <th id=\"T_8f657_level0_col11\" class=\"col_heading level0 col11\" >ca</th>\n",
       "      <th id=\"T_8f657_level0_col12\" class=\"col_heading level0 col12\" >thal</th>\n",
       "      <th id=\"T_8f657_level0_col13\" class=\"col_heading level0 col13\" >target</th>\n",
       "    </tr>\n",
       "  </thead>\n",
       "  <tbody>\n",
       "    <tr>\n",
       "      <th id=\"T_8f657_level0_row0\" class=\"row_heading level0 row0\" >count</th>\n",
       "      <td id=\"T_8f657_row0_col0\" class=\"data row0 col0\" >1212.000000</td>\n",
       "      <td id=\"T_8f657_row0_col1\" class=\"data row0 col1\" >1212.000000</td>\n",
       "      <td id=\"T_8f657_row0_col2\" class=\"data row0 col2\" >1212.000000</td>\n",
       "      <td id=\"T_8f657_row0_col3\" class=\"data row0 col3\" >1212.000000</td>\n",
       "      <td id=\"T_8f657_row0_col4\" class=\"data row0 col4\" >1212.000000</td>\n",
       "      <td id=\"T_8f657_row0_col5\" class=\"data row0 col5\" >1212.000000</td>\n",
       "      <td id=\"T_8f657_row0_col6\" class=\"data row0 col6\" >1212.000000</td>\n",
       "      <td id=\"T_8f657_row0_col7\" class=\"data row0 col7\" >1212.000000</td>\n",
       "      <td id=\"T_8f657_row0_col8\" class=\"data row0 col8\" >1212.000000</td>\n",
       "      <td id=\"T_8f657_row0_col9\" class=\"data row0 col9\" >1212.000000</td>\n",
       "      <td id=\"T_8f657_row0_col10\" class=\"data row0 col10\" >1212.000000</td>\n",
       "      <td id=\"T_8f657_row0_col11\" class=\"data row0 col11\" >1212.000000</td>\n",
       "      <td id=\"T_8f657_row0_col12\" class=\"data row0 col12\" >1212.000000</td>\n",
       "      <td id=\"T_8f657_row0_col13\" class=\"data row0 col13\" >1212.000000</td>\n",
       "    </tr>\n",
       "    <tr>\n",
       "      <th id=\"T_8f657_level0_row1\" class=\"row_heading level0 row1\" >mean</th>\n",
       "      <td id=\"T_8f657_row1_col0\" class=\"data row1 col0\" >54.366337</td>\n",
       "      <td id=\"T_8f657_row1_col1\" class=\"data row1 col1\" >0.683168</td>\n",
       "      <td id=\"T_8f657_row1_col2\" class=\"data row1 col2\" >0.966997</td>\n",
       "      <td id=\"T_8f657_row1_col3\" class=\"data row1 col3\" >131.623762</td>\n",
       "      <td id=\"T_8f657_row1_col4\" class=\"data row1 col4\" >246.264026</td>\n",
       "      <td id=\"T_8f657_row1_col5\" class=\"data row1 col5\" >0.148515</td>\n",
       "      <td id=\"T_8f657_row1_col6\" class=\"data row1 col6\" >0.528053</td>\n",
       "      <td id=\"T_8f657_row1_col7\" class=\"data row1 col7\" >149.646865</td>\n",
       "      <td id=\"T_8f657_row1_col8\" class=\"data row1 col8\" >0.326733</td>\n",
       "      <td id=\"T_8f657_row1_col9\" class=\"data row1 col9\" >1.039604</td>\n",
       "      <td id=\"T_8f657_row1_col10\" class=\"data row1 col10\" >1.399340</td>\n",
       "      <td id=\"T_8f657_row1_col11\" class=\"data row1 col11\" >0.729373</td>\n",
       "      <td id=\"T_8f657_row1_col12\" class=\"data row1 col12\" >2.313531</td>\n",
       "      <td id=\"T_8f657_row1_col13\" class=\"data row1 col13\" >0.544554</td>\n",
       "    </tr>\n",
       "    <tr>\n",
       "      <th id=\"T_8f657_level0_row2\" class=\"row_heading level0 row2\" >std</th>\n",
       "      <td id=\"T_8f657_row2_col0\" class=\"data row2 col0\" >9.070845</td>\n",
       "      <td id=\"T_8f657_row2_col1\" class=\"data row2 col1\" >0.465433</td>\n",
       "      <td id=\"T_8f657_row2_col2\" class=\"data row2 col2\" >1.030773</td>\n",
       "      <td id=\"T_8f657_row2_col3\" class=\"data row2 col3\" >17.516406</td>\n",
       "      <td id=\"T_8f657_row2_col4\" class=\"data row2 col4\" >51.766511</td>\n",
       "      <td id=\"T_8f657_row2_col5\" class=\"data row2 col5\" >0.355756</td>\n",
       "      <td id=\"T_8f657_row2_col6\" class=\"data row2 col6\" >0.525208</td>\n",
       "      <td id=\"T_8f657_row2_col7\" class=\"data row2 col7\" >22.876772</td>\n",
       "      <td id=\"T_8f657_row2_col8\" class=\"data row2 col8\" >0.469212</td>\n",
       "      <td id=\"T_8f657_row2_col9\" class=\"data row2 col9\" >1.159636</td>\n",
       "      <td id=\"T_8f657_row2_col10\" class=\"data row2 col10\" >0.615462</td>\n",
       "      <td id=\"T_8f657_row2_col11\" class=\"data row2 col11\" >1.021339</td>\n",
       "      <td id=\"T_8f657_row2_col12\" class=\"data row2 col12\" >0.611518</td>\n",
       "      <td id=\"T_8f657_row2_col13\" class=\"data row2 col13\" >0.498217</td>\n",
       "    </tr>\n",
       "    <tr>\n",
       "      <th id=\"T_8f657_level0_row3\" class=\"row_heading level0 row3\" >min</th>\n",
       "      <td id=\"T_8f657_row3_col0\" class=\"data row3 col0\" >29.000000</td>\n",
       "      <td id=\"T_8f657_row3_col1\" class=\"data row3 col1\" >0.000000</td>\n",
       "      <td id=\"T_8f657_row3_col2\" class=\"data row3 col2\" >0.000000</td>\n",
       "      <td id=\"T_8f657_row3_col3\" class=\"data row3 col3\" >94.000000</td>\n",
       "      <td id=\"T_8f657_row3_col4\" class=\"data row3 col4\" >126.000000</td>\n",
       "      <td id=\"T_8f657_row3_col5\" class=\"data row3 col5\" >0.000000</td>\n",
       "      <td id=\"T_8f657_row3_col6\" class=\"data row3 col6\" >0.000000</td>\n",
       "      <td id=\"T_8f657_row3_col7\" class=\"data row3 col7\" >71.000000</td>\n",
       "      <td id=\"T_8f657_row3_col8\" class=\"data row3 col8\" >0.000000</td>\n",
       "      <td id=\"T_8f657_row3_col9\" class=\"data row3 col9\" >0.000000</td>\n",
       "      <td id=\"T_8f657_row3_col10\" class=\"data row3 col10\" >0.000000</td>\n",
       "      <td id=\"T_8f657_row3_col11\" class=\"data row3 col11\" >0.000000</td>\n",
       "      <td id=\"T_8f657_row3_col12\" class=\"data row3 col12\" >0.000000</td>\n",
       "      <td id=\"T_8f657_row3_col13\" class=\"data row3 col13\" >0.000000</td>\n",
       "    </tr>\n",
       "    <tr>\n",
       "      <th id=\"T_8f657_level0_row4\" class=\"row_heading level0 row4\" >25%</th>\n",
       "      <td id=\"T_8f657_row4_col0\" class=\"data row4 col0\" >47.000000</td>\n",
       "      <td id=\"T_8f657_row4_col1\" class=\"data row4 col1\" >0.000000</td>\n",
       "      <td id=\"T_8f657_row4_col2\" class=\"data row4 col2\" >0.000000</td>\n",
       "      <td id=\"T_8f657_row4_col3\" class=\"data row4 col3\" >120.000000</td>\n",
       "      <td id=\"T_8f657_row4_col4\" class=\"data row4 col4\" >211.000000</td>\n",
       "      <td id=\"T_8f657_row4_col5\" class=\"data row4 col5\" >0.000000</td>\n",
       "      <td id=\"T_8f657_row4_col6\" class=\"data row4 col6\" >0.000000</td>\n",
       "      <td id=\"T_8f657_row4_col7\" class=\"data row4 col7\" >133.000000</td>\n",
       "      <td id=\"T_8f657_row4_col8\" class=\"data row4 col8\" >0.000000</td>\n",
       "      <td id=\"T_8f657_row4_col9\" class=\"data row4 col9\" >0.000000</td>\n",
       "      <td id=\"T_8f657_row4_col10\" class=\"data row4 col10\" >1.000000</td>\n",
       "      <td id=\"T_8f657_row4_col11\" class=\"data row4 col11\" >0.000000</td>\n",
       "      <td id=\"T_8f657_row4_col12\" class=\"data row4 col12\" >2.000000</td>\n",
       "      <td id=\"T_8f657_row4_col13\" class=\"data row4 col13\" >0.000000</td>\n",
       "    </tr>\n",
       "    <tr>\n",
       "      <th id=\"T_8f657_level0_row5\" class=\"row_heading level0 row5\" >50%</th>\n",
       "      <td id=\"T_8f657_row5_col0\" class=\"data row5 col0\" >55.000000</td>\n",
       "      <td id=\"T_8f657_row5_col1\" class=\"data row5 col1\" >1.000000</td>\n",
       "      <td id=\"T_8f657_row5_col2\" class=\"data row5 col2\" >1.000000</td>\n",
       "      <td id=\"T_8f657_row5_col3\" class=\"data row5 col3\" >130.000000</td>\n",
       "      <td id=\"T_8f657_row5_col4\" class=\"data row5 col4\" >240.000000</td>\n",
       "      <td id=\"T_8f657_row5_col5\" class=\"data row5 col5\" >0.000000</td>\n",
       "      <td id=\"T_8f657_row5_col6\" class=\"data row5 col6\" >1.000000</td>\n",
       "      <td id=\"T_8f657_row5_col7\" class=\"data row5 col7\" >153.000000</td>\n",
       "      <td id=\"T_8f657_row5_col8\" class=\"data row5 col8\" >0.000000</td>\n",
       "      <td id=\"T_8f657_row5_col9\" class=\"data row5 col9\" >0.800000</td>\n",
       "      <td id=\"T_8f657_row5_col10\" class=\"data row5 col10\" >1.000000</td>\n",
       "      <td id=\"T_8f657_row5_col11\" class=\"data row5 col11\" >0.000000</td>\n",
       "      <td id=\"T_8f657_row5_col12\" class=\"data row5 col12\" >2.000000</td>\n",
       "      <td id=\"T_8f657_row5_col13\" class=\"data row5 col13\" >1.000000</td>\n",
       "    </tr>\n",
       "    <tr>\n",
       "      <th id=\"T_8f657_level0_row6\" class=\"row_heading level0 row6\" >75%</th>\n",
       "      <td id=\"T_8f657_row6_col0\" class=\"data row6 col0\" >61.000000</td>\n",
       "      <td id=\"T_8f657_row6_col1\" class=\"data row6 col1\" >1.000000</td>\n",
       "      <td id=\"T_8f657_row6_col2\" class=\"data row6 col2\" >2.000000</td>\n",
       "      <td id=\"T_8f657_row6_col3\" class=\"data row6 col3\" >140.000000</td>\n",
       "      <td id=\"T_8f657_row6_col4\" class=\"data row6 col4\" >275.000000</td>\n",
       "      <td id=\"T_8f657_row6_col5\" class=\"data row6 col5\" >0.000000</td>\n",
       "      <td id=\"T_8f657_row6_col6\" class=\"data row6 col6\" >1.000000</td>\n",
       "      <td id=\"T_8f657_row6_col7\" class=\"data row6 col7\" >166.000000</td>\n",
       "      <td id=\"T_8f657_row6_col8\" class=\"data row6 col8\" >1.000000</td>\n",
       "      <td id=\"T_8f657_row6_col9\" class=\"data row6 col9\" >1.600000</td>\n",
       "      <td id=\"T_8f657_row6_col10\" class=\"data row6 col10\" >2.000000</td>\n",
       "      <td id=\"T_8f657_row6_col11\" class=\"data row6 col11\" >1.000000</td>\n",
       "      <td id=\"T_8f657_row6_col12\" class=\"data row6 col12\" >3.000000</td>\n",
       "      <td id=\"T_8f657_row6_col13\" class=\"data row6 col13\" >1.000000</td>\n",
       "    </tr>\n",
       "    <tr>\n",
       "      <th id=\"T_8f657_level0_row7\" class=\"row_heading level0 row7\" >max</th>\n",
       "      <td id=\"T_8f657_row7_col0\" class=\"data row7 col0\" >77.000000</td>\n",
       "      <td id=\"T_8f657_row7_col1\" class=\"data row7 col1\" >1.000000</td>\n",
       "      <td id=\"T_8f657_row7_col2\" class=\"data row7 col2\" >3.000000</td>\n",
       "      <td id=\"T_8f657_row7_col3\" class=\"data row7 col3\" >200.000000</td>\n",
       "      <td id=\"T_8f657_row7_col4\" class=\"data row7 col4\" >564.000000</td>\n",
       "      <td id=\"T_8f657_row7_col5\" class=\"data row7 col5\" >1.000000</td>\n",
       "      <td id=\"T_8f657_row7_col6\" class=\"data row7 col6\" >2.000000</td>\n",
       "      <td id=\"T_8f657_row7_col7\" class=\"data row7 col7\" >202.000000</td>\n",
       "      <td id=\"T_8f657_row7_col8\" class=\"data row7 col8\" >1.000000</td>\n",
       "      <td id=\"T_8f657_row7_col9\" class=\"data row7 col9\" >6.200000</td>\n",
       "      <td id=\"T_8f657_row7_col10\" class=\"data row7 col10\" >2.000000</td>\n",
       "      <td id=\"T_8f657_row7_col11\" class=\"data row7 col11\" >4.000000</td>\n",
       "      <td id=\"T_8f657_row7_col12\" class=\"data row7 col12\" >3.000000</td>\n",
       "      <td id=\"T_8f657_row7_col13\" class=\"data row7 col13\" >1.000000</td>\n",
       "    </tr>\n",
       "  </tbody>\n",
       "</table>\n"
      ],
      "text/plain": [
       "<pandas.io.formats.style.Styler at 0x7fd911935c90>"
      ]
     },
     "execution_count": 8,
     "metadata": {},
     "output_type": "execute_result"
    }
   ],
   "source": [
    "heart.describe().style.set_properties(**{'background-color': '#b9e192',\n",
    "'color': 'black',\n",
    "'border-color': 'darkblack'})"
   ]
  },
  {
   "cell_type": "code",
   "execution_count": 9,
   "id": "e1d24b0f",
   "metadata": {
    "scrolled": false
   },
   "outputs": [
    {
     "data": {
      "text/plain": [
       "age         0\n",
       "sex         0\n",
       "cp          0\n",
       "trestbps    0\n",
       "chol        0\n",
       "fbs         0\n",
       "restecg     0\n",
       "thalach     0\n",
       "exang       0\n",
       "oldpeak     0\n",
       "slope       0\n",
       "ca          0\n",
       "thal        0\n",
       "target      0\n",
       "dtype: int64"
      ]
     },
     "execution_count": 9,
     "metadata": {},
     "output_type": "execute_result"
    }
   ],
   "source": [
    "heart.isnull().sum()"
   ]
  },
  {
   "cell_type": "code",
   "execution_count": 10,
   "id": "b9edde2a",
   "metadata": {
    "scrolled": true
   },
   "outputs": [
    {
     "data": {
      "text/plain": [
       "age\n",
       "58    76\n",
       "57    68\n",
       "54    64\n",
       "59    56\n",
       "52    52\n",
       "51    48\n",
       "60    44\n",
       "56    44\n",
       "44    44\n",
       "62    44\n",
       "41    40\n",
       "64    40\n",
       "63    36\n",
       "67    36\n",
       "61    32\n",
       "55    32\n",
       "65    32\n",
       "45    32\n",
       "42    32\n",
       "53    32\n",
       "43    32\n",
       "46    28\n",
       "66    28\n",
       "48    28\n",
       "50    28\n",
       "49    20\n",
       "47    20\n",
       "39    16\n",
       "68    16\n",
       "35    16\n",
       "70    16\n",
       "38    12\n",
       "69    12\n",
       "71    12\n",
       "40    12\n",
       "34     8\n",
       "37     8\n",
       "77     4\n",
       "29     4\n",
       "76     4\n",
       "74     4\n",
       "Name: count, dtype: int64"
      ]
     },
     "execution_count": 10,
     "metadata": {},
     "output_type": "execute_result"
    }
   ],
   "source": [
    "heart['age'].value_counts()"
   ]
  },
  {
   "cell_type": "code",
   "execution_count": 18,
   "id": "0a51ca5c",
   "metadata": {},
   "outputs": [],
   "source": [
    "t = heart.iloc[:,0].value_counts()"
   ]
  },
  {
   "cell_type": "code",
   "execution_count": 19,
   "id": "5bf0be4a",
   "metadata": {},
   "outputs": [],
   "source": [
    "t = t.reset_index()"
   ]
  },
  {
   "cell_type": "code",
   "execution_count": 20,
   "id": "0bde3313",
   "metadata": {
    "scrolled": true
   },
   "outputs": [
    {
     "data": {
      "text/html": [
       "<div>\n",
       "<style scoped>\n",
       "    .dataframe tbody tr th:only-of-type {\n",
       "        vertical-align: middle;\n",
       "    }\n",
       "\n",
       "    .dataframe tbody tr th {\n",
       "        vertical-align: top;\n",
       "    }\n",
       "\n",
       "    .dataframe thead th {\n",
       "        text-align: right;\n",
       "    }\n",
       "</style>\n",
       "<table border=\"1\" class=\"dataframe\">\n",
       "  <thead>\n",
       "    <tr style=\"text-align: right;\">\n",
       "      <th></th>\n",
       "      <th>age</th>\n",
       "      <th>count</th>\n",
       "    </tr>\n",
       "  </thead>\n",
       "  <tbody>\n",
       "    <tr>\n",
       "      <th>0</th>\n",
       "      <td>58</td>\n",
       "      <td>76</td>\n",
       "    </tr>\n",
       "    <tr>\n",
       "      <th>1</th>\n",
       "      <td>57</td>\n",
       "      <td>68</td>\n",
       "    </tr>\n",
       "    <tr>\n",
       "      <th>2</th>\n",
       "      <td>54</td>\n",
       "      <td>64</td>\n",
       "    </tr>\n",
       "    <tr>\n",
       "      <th>3</th>\n",
       "      <td>59</td>\n",
       "      <td>56</td>\n",
       "    </tr>\n",
       "    <tr>\n",
       "      <th>4</th>\n",
       "      <td>52</td>\n",
       "      <td>52</td>\n",
       "    </tr>\n",
       "    <tr>\n",
       "      <th>5</th>\n",
       "      <td>51</td>\n",
       "      <td>48</td>\n",
       "    </tr>\n",
       "    <tr>\n",
       "      <th>6</th>\n",
       "      <td>60</td>\n",
       "      <td>44</td>\n",
       "    </tr>\n",
       "    <tr>\n",
       "      <th>7</th>\n",
       "      <td>56</td>\n",
       "      <td>44</td>\n",
       "    </tr>\n",
       "    <tr>\n",
       "      <th>8</th>\n",
       "      <td>44</td>\n",
       "      <td>44</td>\n",
       "    </tr>\n",
       "    <tr>\n",
       "      <th>9</th>\n",
       "      <td>62</td>\n",
       "      <td>44</td>\n",
       "    </tr>\n",
       "    <tr>\n",
       "      <th>10</th>\n",
       "      <td>41</td>\n",
       "      <td>40</td>\n",
       "    </tr>\n",
       "    <tr>\n",
       "      <th>11</th>\n",
       "      <td>64</td>\n",
       "      <td>40</td>\n",
       "    </tr>\n",
       "    <tr>\n",
       "      <th>12</th>\n",
       "      <td>63</td>\n",
       "      <td>36</td>\n",
       "    </tr>\n",
       "    <tr>\n",
       "      <th>13</th>\n",
       "      <td>67</td>\n",
       "      <td>36</td>\n",
       "    </tr>\n",
       "    <tr>\n",
       "      <th>14</th>\n",
       "      <td>61</td>\n",
       "      <td>32</td>\n",
       "    </tr>\n",
       "    <tr>\n",
       "      <th>15</th>\n",
       "      <td>55</td>\n",
       "      <td>32</td>\n",
       "    </tr>\n",
       "    <tr>\n",
       "      <th>16</th>\n",
       "      <td>65</td>\n",
       "      <td>32</td>\n",
       "    </tr>\n",
       "    <tr>\n",
       "      <th>17</th>\n",
       "      <td>45</td>\n",
       "      <td>32</td>\n",
       "    </tr>\n",
       "    <tr>\n",
       "      <th>18</th>\n",
       "      <td>42</td>\n",
       "      <td>32</td>\n",
       "    </tr>\n",
       "    <tr>\n",
       "      <th>19</th>\n",
       "      <td>53</td>\n",
       "      <td>32</td>\n",
       "    </tr>\n",
       "    <tr>\n",
       "      <th>20</th>\n",
       "      <td>43</td>\n",
       "      <td>32</td>\n",
       "    </tr>\n",
       "    <tr>\n",
       "      <th>21</th>\n",
       "      <td>46</td>\n",
       "      <td>28</td>\n",
       "    </tr>\n",
       "    <tr>\n",
       "      <th>22</th>\n",
       "      <td>66</td>\n",
       "      <td>28</td>\n",
       "    </tr>\n",
       "    <tr>\n",
       "      <th>23</th>\n",
       "      <td>48</td>\n",
       "      <td>28</td>\n",
       "    </tr>\n",
       "    <tr>\n",
       "      <th>24</th>\n",
       "      <td>50</td>\n",
       "      <td>28</td>\n",
       "    </tr>\n",
       "    <tr>\n",
       "      <th>25</th>\n",
       "      <td>49</td>\n",
       "      <td>20</td>\n",
       "    </tr>\n",
       "    <tr>\n",
       "      <th>26</th>\n",
       "      <td>47</td>\n",
       "      <td>20</td>\n",
       "    </tr>\n",
       "    <tr>\n",
       "      <th>27</th>\n",
       "      <td>39</td>\n",
       "      <td>16</td>\n",
       "    </tr>\n",
       "    <tr>\n",
       "      <th>28</th>\n",
       "      <td>68</td>\n",
       "      <td>16</td>\n",
       "    </tr>\n",
       "    <tr>\n",
       "      <th>29</th>\n",
       "      <td>35</td>\n",
       "      <td>16</td>\n",
       "    </tr>\n",
       "    <tr>\n",
       "      <th>30</th>\n",
       "      <td>70</td>\n",
       "      <td>16</td>\n",
       "    </tr>\n",
       "    <tr>\n",
       "      <th>31</th>\n",
       "      <td>38</td>\n",
       "      <td>12</td>\n",
       "    </tr>\n",
       "    <tr>\n",
       "      <th>32</th>\n",
       "      <td>69</td>\n",
       "      <td>12</td>\n",
       "    </tr>\n",
       "    <tr>\n",
       "      <th>33</th>\n",
       "      <td>71</td>\n",
       "      <td>12</td>\n",
       "    </tr>\n",
       "    <tr>\n",
       "      <th>34</th>\n",
       "      <td>40</td>\n",
       "      <td>12</td>\n",
       "    </tr>\n",
       "    <tr>\n",
       "      <th>35</th>\n",
       "      <td>34</td>\n",
       "      <td>8</td>\n",
       "    </tr>\n",
       "    <tr>\n",
       "      <th>36</th>\n",
       "      <td>37</td>\n",
       "      <td>8</td>\n",
       "    </tr>\n",
       "    <tr>\n",
       "      <th>37</th>\n",
       "      <td>77</td>\n",
       "      <td>4</td>\n",
       "    </tr>\n",
       "    <tr>\n",
       "      <th>38</th>\n",
       "      <td>29</td>\n",
       "      <td>4</td>\n",
       "    </tr>\n",
       "    <tr>\n",
       "      <th>39</th>\n",
       "      <td>76</td>\n",
       "      <td>4</td>\n",
       "    </tr>\n",
       "    <tr>\n",
       "      <th>40</th>\n",
       "      <td>74</td>\n",
       "      <td>4</td>\n",
       "    </tr>\n",
       "  </tbody>\n",
       "</table>\n",
       "</div>"
      ],
      "text/plain": [
       "    age  count\n",
       "0    58     76\n",
       "1    57     68\n",
       "2    54     64\n",
       "3    59     56\n",
       "4    52     52\n",
       "5    51     48\n",
       "6    60     44\n",
       "7    56     44\n",
       "8    44     44\n",
       "9    62     44\n",
       "10   41     40\n",
       "11   64     40\n",
       "12   63     36\n",
       "13   67     36\n",
       "14   61     32\n",
       "15   55     32\n",
       "16   65     32\n",
       "17   45     32\n",
       "18   42     32\n",
       "19   53     32\n",
       "20   43     32\n",
       "21   46     28\n",
       "22   66     28\n",
       "23   48     28\n",
       "24   50     28\n",
       "25   49     20\n",
       "26   47     20\n",
       "27   39     16\n",
       "28   68     16\n",
       "29   35     16\n",
       "30   70     16\n",
       "31   38     12\n",
       "32   69     12\n",
       "33   71     12\n",
       "34   40     12\n",
       "35   34      8\n",
       "36   37      8\n",
       "37   77      4\n",
       "38   29      4\n",
       "39   76      4\n",
       "40   74      4"
      ]
     },
     "execution_count": 20,
     "metadata": {},
     "output_type": "execute_result"
    }
   ],
   "source": [
    "t"
   ]
  },
  {
   "cell_type": "code",
   "execution_count": 21,
   "id": "a386b989",
   "metadata": {
    "scrolled": true
   },
   "outputs": [
    {
     "data": {
      "image/png": "[encoded data removed]",
      "text/plain": [
       "<Figure size 640x480 with 1 Axes>"
      ]
     },
     "metadata": {},
     "output_type": "display_data"
    }
   ],
   "source": [
    "t.plot(x='age', y='count', kind='line')\n",
    "plt.xlabel('Age')\n",
    "plt.ylabel('Count')\n",
    "plt.title('Count vs. Age')\n",
    "plt.show()"
   ]
  },
  {
   "cell_type": "code",
   "execution_count": 22,
   "id": "ce7e74fb",
   "metadata": {
    "scrolled": true
   },
   "outputs": [
    {
     "name": "stdout",
     "output_type": "stream",
     "text": [
      "Percentage of Women with probability of HeartDisease: 75.0 %\n",
      "Percentage of Men with probability of HeartDisease : 45.0 %\n"
     ]
    }
   ],
   "source": [
    "Women = heart[heart['sex'] == 0][\"target\"]\n",
    "rate_women = (Women.sum()/len(Women)).round(2)*100\n",
    "print(\"Percentage of Women with probability of HeartDisease:\", rate_women,\"%\")\n",
    "Men = heart.loc[heart['sex'] == 1][\"target\"]\n",
    "rate_men = (Men.sum()/len(Men)).round(2)*100\n",
    "print(\"Percentage of Men with probability of HeartDisease :\", rate_men,\"%\")"
   ]
  },
  {
   "cell_type": "markdown",
   "id": "628ab2a2",
   "metadata": {},
   "source": [
    "# Diabetes Prediction"
   ]
  },
  {
   "cell_type": "markdown",
   "id": "ead422e6",
   "metadata": {},
   "source": [
    "<img src=\"Diabets.jpeg\"></img>"
   ]
  },
  {
   "cell_type": "code",
   "execution_count": 23,
   "id": "0987a576",
   "metadata": {},
   "outputs": [],
   "source": [
    "DB = pd.read_csv('Datasets/final_diabetes_disease_dataSet.csv')"
   ]
  },
  {
   "cell_type": "code",
   "execution_count": 24,
   "id": "69c5f602",
   "metadata": {
    "scrolled": false
   },
   "outputs": [
    {
     "data": {
      "text/html": [
       "<style type=\"text/css\">\n",
       "#T_e44f1_row0_col0, #T_e44f1_row0_col1, #T_e44f1_row0_col2, #T_e44f1_row0_col3, #T_e44f1_row0_col4, #T_e44f1_row0_col5, #T_e44f1_row0_col6, #T_e44f1_row0_col7, #T_e44f1_row0_col8, #T_e44f1_row1_col0, #T_e44f1_row1_col1, #T_e44f1_row1_col2, #T_e44f1_row1_col3, #T_e44f1_row1_col4, #T_e44f1_row1_col5, #T_e44f1_row1_col6, #T_e44f1_row1_col7, #T_e44f1_row1_col8, #T_e44f1_row2_col0, #T_e44f1_row2_col1, #T_e44f1_row2_col2, #T_e44f1_row2_col3, #T_e44f1_row2_col4, #T_e44f1_row2_col5, #T_e44f1_row2_col6, #T_e44f1_row2_col7, #T_e44f1_row2_col8, #T_e44f1_row3_col0, #T_e44f1_row3_col1, #T_e44f1_row3_col2, #T_e44f1_row3_col3, #T_e44f1_row3_col4, #T_e44f1_row3_col5, #T_e44f1_row3_col6, #T_e44f1_row3_col7, #T_e44f1_row3_col8, #T_e44f1_row4_col0, #T_e44f1_row4_col1, #T_e44f1_row4_col2, #T_e44f1_row4_col3, #T_e44f1_row4_col4, #T_e44f1_row4_col5, #T_e44f1_row4_col6, #T_e44f1_row4_col7, #T_e44f1_row4_col8 {\n",
       "  background-color: #b9e192;\n",
       "  color: black;\n",
       "  border-color: darkblack;\n",
       "}\n",
       "</style>\n",
       "<table id=\"T_e44f1\">\n",
       "  <thead>\n",
       "    <tr>\n",
       "      <th class=\"blank level0\" >&nbsp;</th>\n",
       "      <th id=\"T_e44f1_level0_col0\" class=\"col_heading level0 col0\" >Unnamed: 0</th>\n",
       "      <th id=\"T_e44f1_level0_col1\" class=\"col_heading level0 col1\" >Glucose</th>\n",
       "      <th id=\"T_e44f1_level0_col2\" class=\"col_heading level0 col2\" >BloodPressure</th>\n",
       "      <th id=\"T_e44f1_level0_col3\" class=\"col_heading level0 col3\" >SkinThickness</th>\n",
       "      <th id=\"T_e44f1_level0_col4\" class=\"col_heading level0 col4\" >Insulin</th>\n",
       "      <th id=\"T_e44f1_level0_col5\" class=\"col_heading level0 col5\" >BMI</th>\n",
       "      <th id=\"T_e44f1_level0_col6\" class=\"col_heading level0 col6\" >DiabetesPedigreeFunction</th>\n",
       "      <th id=\"T_e44f1_level0_col7\" class=\"col_heading level0 col7\" >Age</th>\n",
       "      <th id=\"T_e44f1_level0_col8\" class=\"col_heading level0 col8\" >Outcome</th>\n",
       "    </tr>\n",
       "  </thead>\n",
       "  <tbody>\n",
       "    <tr>\n",
       "      <th id=\"T_e44f1_level0_row0\" class=\"row_heading level0 row0\" >0</th>\n",
       "      <td id=\"T_e44f1_row0_col0\" class=\"data row0 col0\" >0</td>\n",
       "      <td id=\"T_e44f1_row0_col1\" class=\"data row0 col1\" >148</td>\n",
       "      <td id=\"T_e44f1_row0_col2\" class=\"data row0 col2\" >72</td>\n",
       "      <td id=\"T_e44f1_row0_col3\" class=\"data row0 col3\" >35</td>\n",
       "      <td id=\"T_e44f1_row0_col4\" class=\"data row0 col4\" >0</td>\n",
       "      <td id=\"T_e44f1_row0_col5\" class=\"data row0 col5\" >33.600000</td>\n",
       "      <td id=\"T_e44f1_row0_col6\" class=\"data row0 col6\" >0.627000</td>\n",
       "      <td id=\"T_e44f1_row0_col7\" class=\"data row0 col7\" >50</td>\n",
       "      <td id=\"T_e44f1_row0_col8\" class=\"data row0 col8\" >1</td>\n",
       "    </tr>\n",
       "    <tr>\n",
       "      <th id=\"T_e44f1_level0_row1\" class=\"row_heading level0 row1\" >1</th>\n",
       "      <td id=\"T_e44f1_row1_col0\" class=\"data row1 col0\" >1</td>\n",
       "      <td id=\"T_e44f1_row1_col1\" class=\"data row1 col1\" >85</td>\n",
       "      <td id=\"T_e44f1_row1_col2\" class=\"data row1 col2\" >66</td>\n",
       "      <td id=\"T_e44f1_row1_col3\" class=\"data row1 col3\" >29</td>\n",
       "      <td id=\"T_e44f1_row1_col4\" class=\"data row1 col4\" >0</td>\n",
       "      <td id=\"T_e44f1_row1_col5\" class=\"data row1 col5\" >26.600000</td>\n",
       "      <td id=\"T_e44f1_row1_col6\" class=\"data row1 col6\" >0.351000</td>\n",
       "      <td id=\"T_e44f1_row1_col7\" class=\"data row1 col7\" >31</td>\n",
       "      <td id=\"T_e44f1_row1_col8\" class=\"data row1 col8\" >0</td>\n",
       "    </tr>\n",
       "    <tr>\n",
       "      <th id=\"T_e44f1_level0_row2\" class=\"row_heading level0 row2\" >2</th>\n",
       "      <td id=\"T_e44f1_row2_col0\" class=\"data row2 col0\" >2</td>\n",
       "      <td id=\"T_e44f1_row2_col1\" class=\"data row2 col1\" >183</td>\n",
       "      <td id=\"T_e44f1_row2_col2\" class=\"data row2 col2\" >64</td>\n",
       "      <td id=\"T_e44f1_row2_col3\" class=\"data row2 col3\" >0</td>\n",
       "      <td id=\"T_e44f1_row2_col4\" class=\"data row2 col4\" >0</td>\n",
       "      <td id=\"T_e44f1_row2_col5\" class=\"data row2 col5\" >23.300000</td>\n",
       "      <td id=\"T_e44f1_row2_col6\" class=\"data row2 col6\" >0.672000</td>\n",
       "      <td id=\"T_e44f1_row2_col7\" class=\"data row2 col7\" >32</td>\n",
       "      <td id=\"T_e44f1_row2_col8\" class=\"data row2 col8\" >1</td>\n",
       "    </tr>\n",
       "    <tr>\n",
       "      <th id=\"T_e44f1_level0_row3\" class=\"row_heading level0 row3\" >3</th>\n",
       "      <td id=\"T_e44f1_row3_col0\" class=\"data row3 col0\" >3</td>\n",
       "      <td id=\"T_e44f1_row3_col1\" class=\"data row3 col1\" >89</td>\n",
       "      <td id=\"T_e44f1_row3_col2\" class=\"data row3 col2\" >66</td>\n",
       "      <td id=\"T_e44f1_row3_col3\" class=\"data row3 col3\" >23</td>\n",
       "      <td id=\"T_e44f1_row3_col4\" class=\"data row3 col4\" >94</td>\n",
       "      <td id=\"T_e44f1_row3_col5\" class=\"data row3 col5\" >28.100000</td>\n",
       "      <td id=\"T_e44f1_row3_col6\" class=\"data row3 col6\" >0.167000</td>\n",
       "      <td id=\"T_e44f1_row3_col7\" class=\"data row3 col7\" >21</td>\n",
       "      <td id=\"T_e44f1_row3_col8\" class=\"data row3 col8\" >0</td>\n",
       "    </tr>\n",
       "    <tr>\n",
       "      <th id=\"T_e44f1_level0_row4\" class=\"row_heading level0 row4\" >4</th>\n",
       "      <td id=\"T_e44f1_row4_col0\" class=\"data row4 col0\" >4</td>\n",
       "      <td id=\"T_e44f1_row4_col1\" class=\"data row4 col1\" >137</td>\n",
       "      <td id=\"T_e44f1_row4_col2\" class=\"data row4 col2\" >40</td>\n",
       "      <td id=\"T_e44f1_row4_col3\" class=\"data row4 col3\" >35</td>\n",
       "      <td id=\"T_e44f1_row4_col4\" class=\"data row4 col4\" >168</td>\n",
       "      <td id=\"T_e44f1_row4_col5\" class=\"data row4 col5\" >43.100000</td>\n",
       "      <td id=\"T_e44f1_row4_col6\" class=\"data row4 col6\" >2.288000</td>\n",
       "      <td id=\"T_e44f1_row4_col7\" class=\"data row4 col7\" >33</td>\n",
       "      <td id=\"T_e44f1_row4_col8\" class=\"data row4 col8\" >1</td>\n",
       "    </tr>\n",
       "  </tbody>\n",
       "</table>\n"
      ],
      "text/plain": [
       "<pandas.io.formats.style.Styler at 0x7fd8c5a47050>"
      ]
     },
     "execution_count": 24,
     "metadata": {},
     "output_type": "execute_result"
    }
   ],
   "source": [
    "DB.head().style.set_properties(**{'background-color': '#b9e192',\n",
    "'color': 'black',\n",
    "'border-color': 'darkblack'})"
   ]
  },
  {
   "cell_type": "code",
   "execution_count": 25,
   "id": "f4205514",
   "metadata": {},
   "outputs": [],
   "source": [
    "DB = DB.drop(labels='Unnamed: 0',axis=1)"
   ]
  },
  {
   "cell_type": "code",
   "execution_count": 26,
   "id": "c2b67f6a",
   "metadata": {},
   "outputs": [
    {
     "name": "stdout",
     "output_type": "stream",
     "text": [
      "<class 'pandas.core.frame.DataFrame'>\n",
      "RangeIndex: 768 entries, 0 to 767\n",
      "Data columns (total 8 columns):\n",
      " #   Column                    Non-Null Count  Dtype  \n",
      "---  ------                    --------------  -----  \n",
      " 0   Glucose                   768 non-null    int64  \n",
      " 1   BloodPressure             768 non-null    int64  \n",
      " 2   SkinThickness             768 non-null    int64  \n",
      " 3   Insulin                   768 non-null    int64  \n",
      " 4   BMI                       768 non-null    float64\n",
      " 5   DiabetesPedigreeFunction  768 non-null    float64\n",
      " 6   Age                       768 non-null    int64  \n",
      " 7   Outcome                   768 non-null    int64  \n",
      "dtypes: float64(2), int64(6)\n",
      "memory usage: 48.1 KB\n"
     ]
    }
   ],
   "source": [
    "DB.info()"
   ]
  },
  {
   "cell_type": "code",
   "execution_count": 27,
   "id": "7c5e0a96",
   "metadata": {},
   "outputs": [
    {
     "data": {
      "text/html": [
       "<style type=\"text/css\">\n",
       "#T_2e7d6_row0_col0, #T_2e7d6_row0_col1, #T_2e7d6_row0_col2, #T_2e7d6_row0_col3, #T_2e7d6_row0_col4, #T_2e7d6_row0_col5, #T_2e7d6_row0_col6, #T_2e7d6_row0_col7, #T_2e7d6_row1_col0, #T_2e7d6_row1_col1, #T_2e7d6_row1_col2, #T_2e7d6_row1_col3, #T_2e7d6_row1_col4, #T_2e7d6_row1_col5, #T_2e7d6_row1_col6, #T_2e7d6_row1_col7, #T_2e7d6_row2_col0, #T_2e7d6_row2_col1, #T_2e7d6_row2_col2, #T_2e7d6_row2_col3, #T_2e7d6_row2_col4, #T_2e7d6_row2_col5, #T_2e7d6_row2_col6, #T_2e7d6_row2_col7, #T_2e7d6_row3_col0, #T_2e7d6_row3_col1, #T_2e7d6_row3_col2, #T_2e7d6_row3_col3, #T_2e7d6_row3_col4, #T_2e7d6_row3_col5, #T_2e7d6_row3_col6, #T_2e7d6_row3_col7, #T_2e7d6_row4_col0, #T_2e7d6_row4_col1, #T_2e7d6_row4_col2, #T_2e7d6_row4_col3, #T_2e7d6_row4_col4, #T_2e7d6_row4_col5, #T_2e7d6_row4_col6, #T_2e7d6_row4_col7, #T_2e7d6_row5_col0, #T_2e7d6_row5_col1, #T_2e7d6_row5_col2, #T_2e7d6_row5_col3, #T_2e7d6_row5_col4, #T_2e7d6_row5_col5, #T_2e7d6_row5_col6, #T_2e7d6_row5_col7, #T_2e7d6_row6_col0, #T_2e7d6_row6_col1, #T_2e7d6_row6_col2, #T_2e7d6_row6_col3, #T_2e7d6_row6_col4, #T_2e7d6_row6_col5, #T_2e7d6_row6_col6, #T_2e7d6_row6_col7, #T_2e7d6_row7_col0, #T_2e7d6_row7_col1, #T_2e7d6_row7_col2, #T_2e7d6_row7_col3, #T_2e7d6_row7_col4, #T_2e7d6_row7_col5, #T_2e7d6_row7_col6, #T_2e7d6_row7_col7 {\n",
       "  background-color: #b9e192;\n",
       "  color: black;\n",
       "  border-color: darkblack;\n",
       "}\n",
       "</style>\n",
       "<table id=\"T_2e7d6\">\n",
       "  <thead>\n",
       "    <tr>\n",
       "      <th class=\"blank level0\" >&nbsp;</th>\n",
       "      <th id=\"T_2e7d6_level0_col0\" class=\"col_heading level0 col0\" >Glucose</th>\n",
       "      <th id=\"T_2e7d6_level0_col1\" class=\"col_heading level0 col1\" >BloodPressure</th>\n",
       "      <th id=\"T_2e7d6_level0_col2\" class=\"col_heading level0 col2\" >SkinThickness</th>\n",
       "      <th id=\"T_2e7d6_level0_col3\" class=\"col_heading level0 col3\" >Insulin</th>\n",
       "      <th id=\"T_2e7d6_level0_col4\" class=\"col_heading level0 col4\" >BMI</th>\n",
       "      <th id=\"T_2e7d6_level0_col5\" class=\"col_heading level0 col5\" >DiabetesPedigreeFunction</th>\n",
       "      <th id=\"T_2e7d6_level0_col6\" class=\"col_heading level0 col6\" >Age</th>\n",
       "      <th id=\"T_2e7d6_level0_col7\" class=\"col_heading level0 col7\" >Outcome</th>\n",
       "    </tr>\n",
       "  </thead>\n",
       "  <tbody>\n",
       "    <tr>\n",
       "      <th id=\"T_2e7d6_level0_row0\" class=\"row_heading level0 row0\" >count</th>\n",
       "      <td id=\"T_2e7d6_row0_col0\" class=\"data row0 col0\" >768.000000</td>\n",
       "      <td id=\"T_2e7d6_row0_col1\" class=\"data row0 col1\" >768.000000</td>\n",
       "      <td id=\"T_2e7d6_row0_col2\" class=\"data row0 col2\" >768.000000</td>\n",
       "      <td id=\"T_2e7d6_row0_col3\" class=\"data row0 col3\" >768.000000</td>\n",
       "      <td id=\"T_2e7d6_row0_col4\" class=\"data row0 col4\" >768.000000</td>\n",
       "      <td id=\"T_2e7d6_row0_col5\" class=\"data row0 col5\" >768.000000</td>\n",
       "      <td id=\"T_2e7d6_row0_col6\" class=\"data row0 col6\" >768.000000</td>\n",
       "      <td id=\"T_2e7d6_row0_col7\" class=\"data row0 col7\" >768.000000</td>\n",
       "    </tr>\n",
       "    <tr>\n",
       "      <th id=\"T_2e7d6_level0_row1\" class=\"row_heading level0 row1\" >mean</th>\n",
       "      <td id=\"T_2e7d6_row1_col0\" class=\"data row1 col0\" >120.894531</td>\n",
       "      <td id=\"T_2e7d6_row1_col1\" class=\"data row1 col1\" >69.105469</td>\n",
       "      <td id=\"T_2e7d6_row1_col2\" class=\"data row1 col2\" >20.536458</td>\n",
       "      <td id=\"T_2e7d6_row1_col3\" class=\"data row1 col3\" >79.799479</td>\n",
       "      <td id=\"T_2e7d6_row1_col4\" class=\"data row1 col4\" >31.992578</td>\n",
       "      <td id=\"T_2e7d6_row1_col5\" class=\"data row1 col5\" >0.471876</td>\n",
       "      <td id=\"T_2e7d6_row1_col6\" class=\"data row1 col6\" >33.240885</td>\n",
       "      <td id=\"T_2e7d6_row1_col7\" class=\"data row1 col7\" >0.348958</td>\n",
       "    </tr>\n",
       "    <tr>\n",
       "      <th id=\"T_2e7d6_level0_row2\" class=\"row_heading level0 row2\" >std</th>\n",
       "      <td id=\"T_2e7d6_row2_col0\" class=\"data row2 col0\" >31.972618</td>\n",
       "      <td id=\"T_2e7d6_row2_col1\" class=\"data row2 col1\" >19.355807</td>\n",
       "      <td id=\"T_2e7d6_row2_col2\" class=\"data row2 col2\" >15.952218</td>\n",
       "      <td id=\"T_2e7d6_row2_col3\" class=\"data row2 col3\" >115.244002</td>\n",
       "      <td id=\"T_2e7d6_row2_col4\" class=\"data row2 col4\" >7.884160</td>\n",
       "      <td id=\"T_2e7d6_row2_col5\" class=\"data row2 col5\" >0.331329</td>\n",
       "      <td id=\"T_2e7d6_row2_col6\" class=\"data row2 col6\" >11.760232</td>\n",
       "      <td id=\"T_2e7d6_row2_col7\" class=\"data row2 col7\" >0.476951</td>\n",
       "    </tr>\n",
       "    <tr>\n",
       "      <th id=\"T_2e7d6_level0_row3\" class=\"row_heading level0 row3\" >min</th>\n",
       "      <td id=\"T_2e7d6_row3_col0\" class=\"data row3 col0\" >0.000000</td>\n",
       "      <td id=\"T_2e7d6_row3_col1\" class=\"data row3 col1\" >0.000000</td>\n",
       "      <td id=\"T_2e7d6_row3_col2\" class=\"data row3 col2\" >0.000000</td>\n",
       "      <td id=\"T_2e7d6_row3_col3\" class=\"data row3 col3\" >0.000000</td>\n",
       "      <td id=\"T_2e7d6_row3_col4\" class=\"data row3 col4\" >0.000000</td>\n",
       "      <td id=\"T_2e7d6_row3_col5\" class=\"data row3 col5\" >0.078000</td>\n",
       "      <td id=\"T_2e7d6_row3_col6\" class=\"data row3 col6\" >21.000000</td>\n",
       "      <td id=\"T_2e7d6_row3_col7\" class=\"data row3 col7\" >0.000000</td>\n",
       "    </tr>\n",
       "    <tr>\n",
       "      <th id=\"T_2e7d6_level0_row4\" class=\"row_heading level0 row4\" >25%</th>\n",
       "      <td id=\"T_2e7d6_row4_col0\" class=\"data row4 col0\" >99.000000</td>\n",
       "      <td id=\"T_2e7d6_row4_col1\" class=\"data row4 col1\" >62.000000</td>\n",
       "      <td id=\"T_2e7d6_row4_col2\" class=\"data row4 col2\" >0.000000</td>\n",
       "      <td id=\"T_2e7d6_row4_col3\" class=\"data row4 col3\" >0.000000</td>\n",
       "      <td id=\"T_2e7d6_row4_col4\" class=\"data row4 col4\" >27.300000</td>\n",
       "      <td id=\"T_2e7d6_row4_col5\" class=\"data row4 col5\" >0.243750</td>\n",
       "      <td id=\"T_2e7d6_row4_col6\" class=\"data row4 col6\" >24.000000</td>\n",
       "      <td id=\"T_2e7d6_row4_col7\" class=\"data row4 col7\" >0.000000</td>\n",
       "    </tr>\n",
       "    <tr>\n",
       "      <th id=\"T_2e7d6_level0_row5\" class=\"row_heading level0 row5\" >50%</th>\n",
       "      <td id=\"T_2e7d6_row5_col0\" class=\"data row5 col0\" >117.000000</td>\n",
       "      <td id=\"T_2e7d6_row5_col1\" class=\"data row5 col1\" >72.000000</td>\n",
       "      <td id=\"T_2e7d6_row5_col2\" class=\"data row5 col2\" >23.000000</td>\n",
       "      <td id=\"T_2e7d6_row5_col3\" class=\"data row5 col3\" >30.500000</td>\n",
       "      <td id=\"T_2e7d6_row5_col4\" class=\"data row5 col4\" >32.000000</td>\n",
       "      <td id=\"T_2e7d6_row5_col5\" class=\"data row5 col5\" >0.372500</td>\n",
       "      <td id=\"T_2e7d6_row5_col6\" class=\"data row5 col6\" >29.000000</td>\n",
       "      <td id=\"T_2e7d6_row5_col7\" class=\"data row5 col7\" >0.000000</td>\n",
       "    </tr>\n",
       "    <tr>\n",
       "      <th id=\"T_2e7d6_level0_row6\" class=\"row_heading level0 row6\" >75%</th>\n",
       "      <td id=\"T_2e7d6_row6_col0\" class=\"data row6 col0\" >140.250000</td>\n",
       "      <td id=\"T_2e7d6_row6_col1\" class=\"data row6 col1\" >80.000000</td>\n",
       "      <td id=\"T_2e7d6_row6_col2\" class=\"data row6 col2\" >32.000000</td>\n",
       "      <td id=\"T_2e7d6_row6_col3\" class=\"data row6 col3\" >127.250000</td>\n",
       "      <td id=\"T_2e7d6_row6_col4\" class=\"data row6 col4\" >36.600000</td>\n",
       "      <td id=\"T_2e7d6_row6_col5\" class=\"data row6 col5\" >0.626250</td>\n",
       "      <td id=\"T_2e7d6_row6_col6\" class=\"data row6 col6\" >41.000000</td>\n",
       "      <td id=\"T_2e7d6_row6_col7\" class=\"data row6 col7\" >1.000000</td>\n",
       "    </tr>\n",
       "    <tr>\n",
       "      <th id=\"T_2e7d6_level0_row7\" class=\"row_heading level0 row7\" >max</th>\n",
       "      <td id=\"T_2e7d6_row7_col0\" class=\"data row7 col0\" >199.000000</td>\n",
       "      <td id=\"T_2e7d6_row7_col1\" class=\"data row7 col1\" >122.000000</td>\n",
       "      <td id=\"T_2e7d6_row7_col2\" class=\"data row7 col2\" >99.000000</td>\n",
       "      <td id=\"T_2e7d6_row7_col3\" class=\"data row7 col3\" >846.000000</td>\n",
       "      <td id=\"T_2e7d6_row7_col4\" class=\"data row7 col4\" >67.100000</td>\n",
       "      <td id=\"T_2e7d6_row7_col5\" class=\"data row7 col5\" >2.420000</td>\n",
       "      <td id=\"T_2e7d6_row7_col6\" class=\"data row7 col6\" >81.000000</td>\n",
       "      <td id=\"T_2e7d6_row7_col7\" class=\"data row7 col7\" >1.000000</td>\n",
       "    </tr>\n",
       "  </tbody>\n",
       "</table>\n"
      ],
      "text/plain": [
       "<pandas.io.formats.style.Styler at 0x7fd8c77b2a50>"
      ]
     },
     "execution_count": 27,
     "metadata": {},
     "output_type": "execute_result"
    }
   ],
   "source": [
    "DB.describe().style.set_properties(**{'background-color': '#b9e192',\n",
    "'color': 'black',\n",
    "'border-color': 'darkblack'})"
   ]
  },
  {
   "cell_type": "code",
   "execution_count": 28,
   "id": "e5799d5b",
   "metadata": {},
   "outputs": [
    {
     "data": {
      "text/plain": [
       "Glucose                     0\n",
       "BloodPressure               0\n",
       "SkinThickness               0\n",
       "Insulin                     0\n",
       "BMI                         0\n",
       "DiabetesPedigreeFunction    0\n",
       "Age                         0\n",
       "Outcome                     0\n",
       "dtype: int64"
      ]
     },
     "execution_count": 28,
     "metadata": {},
     "output_type": "execute_result"
    }
   ],
   "source": [
    "DB.isnull().sum()"
   ]
  },
  {
   "cell_type": "code",
   "execution_count": 29,
   "id": "ccbe15a5",
   "metadata": {},
   "outputs": [
    {
     "data": {
      "text/plain": [
       "Age\n",
       "22    72\n",
       "21    63\n",
       "25    48\n",
       "24    46\n",
       "23    38\n",
       "28    35\n",
       "26    33\n",
       "27    32\n",
       "29    29\n",
       "31    24\n",
       "41    22\n",
       "30    21\n",
       "37    19\n",
       "42    18\n",
       "33    17\n",
       "38    16\n",
       "36    16\n",
       "32    16\n",
       "45    15\n",
       "34    14\n",
       "46    13\n",
       "43    13\n",
       "40    13\n",
       "39    12\n",
       "35    10\n",
       "50     8\n",
       "51     8\n",
       "52     8\n",
       "44     8\n",
       "58     7\n",
       "47     6\n",
       "54     6\n",
       "49     5\n",
       "48     5\n",
       "57     5\n",
       "53     5\n",
       "60     5\n",
       "66     4\n",
       "63     4\n",
       "62     4\n",
       "55     4\n",
       "67     3\n",
       "56     3\n",
       "59     3\n",
       "65     3\n",
       "69     2\n",
       "61     2\n",
       "72     1\n",
       "81     1\n",
       "64     1\n",
       "70     1\n",
       "68     1\n",
       "Name: count, dtype: int64"
      ]
     },
     "execution_count": 29,
     "metadata": {},
     "output_type": "execute_result"
    }
   ],
   "source": [
    "DB['Age'].value_counts()"
   ]
  },
  {
   "cell_type": "markdown",
   "id": "7a2772bc",
   "metadata": {},
   "source": [
    "<h1 style='color:red'>Attributes</h1>"
   ]
  },
  {
   "cell_type": "markdown",
   "id": "a79662ff",
   "metadata": {},
   "source": [
    "<ul>\n",
    "<li>Glucose: Plasma glucose concentration a 2 hours in an oral glucose tolerance test</li>\n",
    "<li>BloodPressure: Diastolic blood pressure (mm Hg)</li>\n",
    "<li>SkinThickness: Triceps skin fold thickness (mm)</li>\n",
    "<li>Insulin: 2-Hour serum insulin (mu U/ml)</li>\n",
    "<li>BMI: Body mass index (weight in kg/(height in m)^2)</li>\n",
    "<li>DiabetesPedigreeFunction: Diabetes pedigree function</li>\n",
    "<li>Age: Age (years)</li>\n",
    "<li>Outcome: Class variable (0 or 1)</li>\n",
    "</ul>"
   ]
  },
  {
   "cell_type": "markdown",
   "id": "6c5597d6",
   "metadata": {},
   "source": [
    "# Final Feature Selection"
   ]
  },
  {
   "cell_type": "markdown",
   "id": "b01c73b9",
   "metadata": {},
   "source": [
    "## Heart Dataset"
   ]
  },
  {
   "cell_type": "code",
   "execution_count": 30,
   "id": "c6b3fe2b",
   "metadata": {},
   "outputs": [
    {
     "data": {
      "text/html": [
       "<style type=\"text/css\">\n",
       "#T_0f5bf_row0_col0, #T_0f5bf_row0_col1, #T_0f5bf_row0_col2, #T_0f5bf_row0_col3, #T_0f5bf_row0_col4, #T_0f5bf_row0_col5, #T_0f5bf_row0_col6, #T_0f5bf_row0_col7, #T_0f5bf_row0_col8, #T_0f5bf_row0_col9, #T_0f5bf_row0_col10, #T_0f5bf_row0_col11, #T_0f5bf_row0_col12, #T_0f5bf_row0_col13, #T_0f5bf_row1_col0, #T_0f5bf_row1_col1, #T_0f5bf_row1_col2, #T_0f5bf_row1_col3, #T_0f5bf_row1_col4, #T_0f5bf_row1_col5, #T_0f5bf_row1_col6, #T_0f5bf_row1_col7, #T_0f5bf_row1_col8, #T_0f5bf_row1_col9, #T_0f5bf_row1_col10, #T_0f5bf_row1_col11, #T_0f5bf_row1_col12, #T_0f5bf_row1_col13, #T_0f5bf_row2_col0, #T_0f5bf_row2_col1, #T_0f5bf_row2_col2, #T_0f5bf_row2_col3, #T_0f5bf_row2_col4, #T_0f5bf_row2_col5, #T_0f5bf_row2_col6, #T_0f5bf_row2_col7, #T_0f5bf_row2_col8, #T_0f5bf_row2_col9, #T_0f5bf_row2_col10, #T_0f5bf_row2_col11, #T_0f5bf_row2_col12, #T_0f5bf_row2_col13, #T_0f5bf_row3_col0, #T_0f5bf_row3_col1, #T_0f5bf_row3_col2, #T_0f5bf_row3_col3, #T_0f5bf_row3_col4, #T_0f5bf_row3_col5, #T_0f5bf_row3_col6, #T_0f5bf_row3_col7, #T_0f5bf_row3_col8, #T_0f5bf_row3_col9, #T_0f5bf_row3_col10, #T_0f5bf_row3_col11, #T_0f5bf_row3_col12, #T_0f5bf_row3_col13, #T_0f5bf_row4_col0, #T_0f5bf_row4_col1, #T_0f5bf_row4_col2, #T_0f5bf_row4_col3, #T_0f5bf_row4_col4, #T_0f5bf_row4_col5, #T_0f5bf_row4_col6, #T_0f5bf_row4_col7, #T_0f5bf_row4_col8, #T_0f5bf_row4_col9, #T_0f5bf_row4_col10, #T_0f5bf_row4_col11, #T_0f5bf_row4_col12, #T_0f5bf_row4_col13 {\n",
       "  background-color: #b9e192;\n",
       "  color: black;\n",
       "  border-color: darkblack;\n",
       "}\n",
       "</style>\n",
       "<table id=\"T_0f5bf\">\n",
       "  <thead>\n",
       "    <tr>\n",
       "      <th class=\"blank level0\" >&nbsp;</th>\n",
       "      <th id=\"T_0f5bf_level0_col0\" class=\"col_heading level0 col0\" >age</th>\n",
       "      <th id=\"T_0f5bf_level0_col1\" class=\"col_heading level0 col1\" >sex</th>\n",
       "      <th id=\"T_0f5bf_level0_col2\" class=\"col_heading level0 col2\" >cp</th>\n",
       "      <th id=\"T_0f5bf_level0_col3\" class=\"col_heading level0 col3\" >trestbps</th>\n",
       "      <th id=\"T_0f5bf_level0_col4\" class=\"col_heading level0 col4\" >chol</th>\n",
       "      <th id=\"T_0f5bf_level0_col5\" class=\"col_heading level0 col5\" >fbs</th>\n",
       "      <th id=\"T_0f5bf_level0_col6\" class=\"col_heading level0 col6\" >restecg</th>\n",
       "      <th id=\"T_0f5bf_level0_col7\" class=\"col_heading level0 col7\" >thalach</th>\n",
       "      <th id=\"T_0f5bf_level0_col8\" class=\"col_heading level0 col8\" >exang</th>\n",
       "      <th id=\"T_0f5bf_level0_col9\" class=\"col_heading level0 col9\" >oldpeak</th>\n",
       "      <th id=\"T_0f5bf_level0_col10\" class=\"col_heading level0 col10\" >slope</th>\n",
       "      <th id=\"T_0f5bf_level0_col11\" class=\"col_heading level0 col11\" >ca</th>\n",
       "      <th id=\"T_0f5bf_level0_col12\" class=\"col_heading level0 col12\" >thal</th>\n",
       "      <th id=\"T_0f5bf_level0_col13\" class=\"col_heading level0 col13\" >target</th>\n",
       "    </tr>\n",
       "  </thead>\n",
       "  <tbody>\n",
       "    <tr>\n",
       "      <th id=\"T_0f5bf_level0_row0\" class=\"row_heading level0 row0\" >0</th>\n",
       "      <td id=\"T_0f5bf_row0_col0\" class=\"data row0 col0\" >65</td>\n",
       "      <td id=\"T_0f5bf_row0_col1\" class=\"data row0 col1\" >0</td>\n",
       "      <td id=\"T_0f5bf_row0_col2\" class=\"data row0 col2\" >2</td>\n",
       "      <td id=\"T_0f5bf_row0_col3\" class=\"data row0 col3\" >140</td>\n",
       "      <td id=\"T_0f5bf_row0_col4\" class=\"data row0 col4\" >417</td>\n",
       "      <td id=\"T_0f5bf_row0_col5\" class=\"data row0 col5\" >1</td>\n",
       "      <td id=\"T_0f5bf_row0_col6\" class=\"data row0 col6\" >0</td>\n",
       "      <td id=\"T_0f5bf_row0_col7\" class=\"data row0 col7\" >157</td>\n",
       "      <td id=\"T_0f5bf_row0_col8\" class=\"data row0 col8\" >0</td>\n",
       "      <td id=\"T_0f5bf_row0_col9\" class=\"data row0 col9\" >0.800000</td>\n",
       "      <td id=\"T_0f5bf_row0_col10\" class=\"data row0 col10\" >2</td>\n",
       "      <td id=\"T_0f5bf_row0_col11\" class=\"data row0 col11\" >1</td>\n",
       "      <td id=\"T_0f5bf_row0_col12\" class=\"data row0 col12\" >2</td>\n",
       "      <td id=\"T_0f5bf_row0_col13\" class=\"data row0 col13\" >1</td>\n",
       "    </tr>\n",
       "    <tr>\n",
       "      <th id=\"T_0f5bf_level0_row1\" class=\"row_heading level0 row1\" >1</th>\n",
       "      <td id=\"T_0f5bf_row1_col0\" class=\"data row1 col0\" >55</td>\n",
       "      <td id=\"T_0f5bf_row1_col1\" class=\"data row1 col1\" >0</td>\n",
       "      <td id=\"T_0f5bf_row1_col2\" class=\"data row1 col2\" >0</td>\n",
       "      <td id=\"T_0f5bf_row1_col3\" class=\"data row1 col3\" >128</td>\n",
       "      <td id=\"T_0f5bf_row1_col4\" class=\"data row1 col4\" >205</td>\n",
       "      <td id=\"T_0f5bf_row1_col5\" class=\"data row1 col5\" >0</td>\n",
       "      <td id=\"T_0f5bf_row1_col6\" class=\"data row1 col6\" >2</td>\n",
       "      <td id=\"T_0f5bf_row1_col7\" class=\"data row1 col7\" >130</td>\n",
       "      <td id=\"T_0f5bf_row1_col8\" class=\"data row1 col8\" >1</td>\n",
       "      <td id=\"T_0f5bf_row1_col9\" class=\"data row1 col9\" >2.000000</td>\n",
       "      <td id=\"T_0f5bf_row1_col10\" class=\"data row1 col10\" >1</td>\n",
       "      <td id=\"T_0f5bf_row1_col11\" class=\"data row1 col11\" >1</td>\n",
       "      <td id=\"T_0f5bf_row1_col12\" class=\"data row1 col12\" >3</td>\n",
       "      <td id=\"T_0f5bf_row1_col13\" class=\"data row1 col13\" >0</td>\n",
       "    </tr>\n",
       "    <tr>\n",
       "      <th id=\"T_0f5bf_level0_row2\" class=\"row_heading level0 row2\" >2</th>\n",
       "      <td id=\"T_0f5bf_row2_col0\" class=\"data row2 col0\" >54</td>\n",
       "      <td id=\"T_0f5bf_row2_col1\" class=\"data row2 col1\" >0</td>\n",
       "      <td id=\"T_0f5bf_row2_col2\" class=\"data row2 col2\" >1</td>\n",
       "      <td id=\"T_0f5bf_row2_col3\" class=\"data row2 col3\" >132</td>\n",
       "      <td id=\"T_0f5bf_row2_col4\" class=\"data row2 col4\" >288</td>\n",
       "      <td id=\"T_0f5bf_row2_col5\" class=\"data row2 col5\" >1</td>\n",
       "      <td id=\"T_0f5bf_row2_col6\" class=\"data row2 col6\" >0</td>\n",
       "      <td id=\"T_0f5bf_row2_col7\" class=\"data row2 col7\" >159</td>\n",
       "      <td id=\"T_0f5bf_row2_col8\" class=\"data row2 col8\" >1</td>\n",
       "      <td id=\"T_0f5bf_row2_col9\" class=\"data row2 col9\" >0.000000</td>\n",
       "      <td id=\"T_0f5bf_row2_col10\" class=\"data row2 col10\" >2</td>\n",
       "      <td id=\"T_0f5bf_row2_col11\" class=\"data row2 col11\" >1</td>\n",
       "      <td id=\"T_0f5bf_row2_col12\" class=\"data row2 col12\" >2</td>\n",
       "      <td id=\"T_0f5bf_row2_col13\" class=\"data row2 col13\" >1</td>\n",
       "    </tr>\n",
       "    <tr>\n",
       "      <th id=\"T_0f5bf_level0_row3\" class=\"row_heading level0 row3\" >3</th>\n",
       "      <td id=\"T_0f5bf_row3_col0\" class=\"data row3 col0\" >41</td>\n",
       "      <td id=\"T_0f5bf_row3_col1\" class=\"data row3 col1\" >0</td>\n",
       "      <td id=\"T_0f5bf_row3_col2\" class=\"data row3 col2\" >1</td>\n",
       "      <td id=\"T_0f5bf_row3_col3\" class=\"data row3 col3\" >126</td>\n",
       "      <td id=\"T_0f5bf_row3_col4\" class=\"data row3 col4\" >306</td>\n",
       "      <td id=\"T_0f5bf_row3_col5\" class=\"data row3 col5\" >0</td>\n",
       "      <td id=\"T_0f5bf_row3_col6\" class=\"data row3 col6\" >1</td>\n",
       "      <td id=\"T_0f5bf_row3_col7\" class=\"data row3 col7\" >163</td>\n",
       "      <td id=\"T_0f5bf_row3_col8\" class=\"data row3 col8\" >0</td>\n",
       "      <td id=\"T_0f5bf_row3_col9\" class=\"data row3 col9\" >0.000000</td>\n",
       "      <td id=\"T_0f5bf_row3_col10\" class=\"data row3 col10\" >2</td>\n",
       "      <td id=\"T_0f5bf_row3_col11\" class=\"data row3 col11\" >0</td>\n",
       "      <td id=\"T_0f5bf_row3_col12\" class=\"data row3 col12\" >2</td>\n",
       "      <td id=\"T_0f5bf_row3_col13\" class=\"data row3 col13\" >1</td>\n",
       "    </tr>\n",
       "    <tr>\n",
       "      <th id=\"T_0f5bf_level0_row4\" class=\"row_heading level0 row4\" >4</th>\n",
       "      <td id=\"T_0f5bf_row4_col0\" class=\"data row4 col0\" >43</td>\n",
       "      <td id=\"T_0f5bf_row4_col1\" class=\"data row4 col1\" >1</td>\n",
       "      <td id=\"T_0f5bf_row4_col2\" class=\"data row4 col2\" >0</td>\n",
       "      <td id=\"T_0f5bf_row4_col3\" class=\"data row4 col3\" >115</td>\n",
       "      <td id=\"T_0f5bf_row4_col4\" class=\"data row4 col4\" >303</td>\n",
       "      <td id=\"T_0f5bf_row4_col5\" class=\"data row4 col5\" >0</td>\n",
       "      <td id=\"T_0f5bf_row4_col6\" class=\"data row4 col6\" >1</td>\n",
       "      <td id=\"T_0f5bf_row4_col7\" class=\"data row4 col7\" >181</td>\n",
       "      <td id=\"T_0f5bf_row4_col8\" class=\"data row4 col8\" >0</td>\n",
       "      <td id=\"T_0f5bf_row4_col9\" class=\"data row4 col9\" >1.200000</td>\n",
       "      <td id=\"T_0f5bf_row4_col10\" class=\"data row4 col10\" >1</td>\n",
       "      <td id=\"T_0f5bf_row4_col11\" class=\"data row4 col11\" >0</td>\n",
       "      <td id=\"T_0f5bf_row4_col12\" class=\"data row4 col12\" >2</td>\n",
       "      <td id=\"T_0f5bf_row4_col13\" class=\"data row4 col13\" >1</td>\n",
       "    </tr>\n",
       "  </tbody>\n",
       "</table>\n"
      ],
      "text/plain": [
       "<pandas.io.formats.style.Styler at 0x7fd8c5a99610>"
      ]
     },
     "execution_count": 30,
     "metadata": {},
     "output_type": "execute_result"
    }
   ],
   "source": [
    "heart.head().style.set_properties(**{'background-color': '#b9e192',\n",
    "'color': 'black',\n",
    "'border-color': 'darkblack'})"
   ]
  },
  {
   "cell_type": "code",
   "execution_count": 31,
   "id": "fba4d1cd",
   "metadata": {},
   "outputs": [],
   "source": [
    "new_Heart_Dataset = heart[['age','sex','cp','thalach','oldpeak','exang','slope','ca','thal','target']]"
   ]
  },
  {
   "cell_type": "code",
   "execution_count": 32,
   "id": "43c742c7",
   "metadata": {},
   "outputs": [
    {
     "data": {
      "text/plain": [
       "(1212, 10)"
      ]
     },
     "execution_count": 32,
     "metadata": {},
     "output_type": "execute_result"
    }
   ],
   "source": [
    "new_Heart_Dataset.shape"
   ]
  },
  {
   "cell_type": "code",
   "execution_count": 33,
   "id": "fb3a0574",
   "metadata": {},
   "outputs": [
    {
     "data": {
      "text/html": [
       "<style type=\"text/css\">\n",
       "#T_86a40_row0_col0, #T_86a40_row0_col1, #T_86a40_row0_col2, #T_86a40_row0_col3, #T_86a40_row0_col4, #T_86a40_row0_col5, #T_86a40_row0_col6, #T_86a40_row0_col7, #T_86a40_row0_col8, #T_86a40_row0_col9, #T_86a40_row0_col10, #T_86a40_row0_col11, #T_86a40_row0_col12, #T_86a40_row0_col13, #T_86a40_row1_col0, #T_86a40_row1_col1, #T_86a40_row1_col2, #T_86a40_row1_col3, #T_86a40_row1_col4, #T_86a40_row1_col5, #T_86a40_row1_col6, #T_86a40_row1_col7, #T_86a40_row1_col8, #T_86a40_row1_col9, #T_86a40_row1_col10, #T_86a40_row1_col11, #T_86a40_row1_col12, #T_86a40_row1_col13, #T_86a40_row2_col0, #T_86a40_row2_col1, #T_86a40_row2_col2, #T_86a40_row2_col3, #T_86a40_row2_col4, #T_86a40_row2_col5, #T_86a40_row2_col6, #T_86a40_row2_col7, #T_86a40_row2_col8, #T_86a40_row2_col9, #T_86a40_row2_col10, #T_86a40_row2_col11, #T_86a40_row2_col12, #T_86a40_row2_col13, #T_86a40_row3_col0, #T_86a40_row3_col1, #T_86a40_row3_col2, #T_86a40_row3_col3, #T_86a40_row3_col4, #T_86a40_row3_col5, #T_86a40_row3_col6, #T_86a40_row3_col7, #T_86a40_row3_col8, #T_86a40_row3_col9, #T_86a40_row3_col10, #T_86a40_row3_col11, #T_86a40_row3_col12, #T_86a40_row3_col13, #T_86a40_row4_col0, #T_86a40_row4_col1, #T_86a40_row4_col2, #T_86a40_row4_col3, #T_86a40_row4_col4, #T_86a40_row4_col5, #T_86a40_row4_col6, #T_86a40_row4_col7, #T_86a40_row4_col8, #T_86a40_row4_col9, #T_86a40_row4_col10, #T_86a40_row4_col11, #T_86a40_row4_col12, #T_86a40_row4_col13, #T_86a40_row5_col0, #T_86a40_row5_col1, #T_86a40_row5_col2, #T_86a40_row5_col3, #T_86a40_row5_col4, #T_86a40_row5_col5, #T_86a40_row5_col6, #T_86a40_row5_col7, #T_86a40_row5_col8, #T_86a40_row5_col9, #T_86a40_row5_col10, #T_86a40_row5_col11, #T_86a40_row5_col12, #T_86a40_row5_col13, #T_86a40_row6_col0, #T_86a40_row6_col1, #T_86a40_row6_col2, #T_86a40_row6_col3, #T_86a40_row6_col4, #T_86a40_row6_col5, #T_86a40_row6_col6, #T_86a40_row6_col7, #T_86a40_row6_col8, #T_86a40_row6_col9, #T_86a40_row6_col10, #T_86a40_row6_col11, #T_86a40_row6_col12, #T_86a40_row6_col13, #T_86a40_row7_col0, #T_86a40_row7_col1, #T_86a40_row7_col2, #T_86a40_row7_col3, #T_86a40_row7_col4, #T_86a40_row7_col5, #T_86a40_row7_col6, #T_86a40_row7_col7, #T_86a40_row7_col8, #T_86a40_row7_col9, #T_86a40_row7_col10, #T_86a40_row7_col11, #T_86a40_row7_col12, #T_86a40_row7_col13, #T_86a40_row8_col0, #T_86a40_row8_col1, #T_86a40_row8_col2, #T_86a40_row8_col3, #T_86a40_row8_col4, #T_86a40_row8_col5, #T_86a40_row8_col6, #T_86a40_row8_col7, #T_86a40_row8_col8, #T_86a40_row8_col9, #T_86a40_row8_col10, #T_86a40_row8_col11, #T_86a40_row8_col12, #T_86a40_row8_col13, #T_86a40_row9_col0, #T_86a40_row9_col1, #T_86a40_row9_col2, #T_86a40_row9_col3, #T_86a40_row9_col4, #T_86a40_row9_col5, #T_86a40_row9_col6, #T_86a40_row9_col7, #T_86a40_row9_col8, #T_86a40_row9_col9, #T_86a40_row9_col10, #T_86a40_row9_col11, #T_86a40_row9_col12, #T_86a40_row9_col13, #T_86a40_row10_col0, #T_86a40_row10_col1, #T_86a40_row10_col2, #T_86a40_row10_col3, #T_86a40_row10_col4, #T_86a40_row10_col5, #T_86a40_row10_col6, #T_86a40_row10_col7, #T_86a40_row10_col8, #T_86a40_row10_col9, #T_86a40_row10_col10, #T_86a40_row10_col11, #T_86a40_row10_col12, #T_86a40_row10_col13, #T_86a40_row11_col0, #T_86a40_row11_col1, #T_86a40_row11_col2, #T_86a40_row11_col3, #T_86a40_row11_col4, #T_86a40_row11_col5, #T_86a40_row11_col6, #T_86a40_row11_col7, #T_86a40_row11_col8, #T_86a40_row11_col9, #T_86a40_row11_col10, #T_86a40_row11_col11, #T_86a40_row11_col12, #T_86a40_row11_col13, #T_86a40_row12_col0, #T_86a40_row12_col1, #T_86a40_row12_col2, #T_86a40_row12_col3, #T_86a40_row12_col4, #T_86a40_row12_col5, #T_86a40_row12_col6, #T_86a40_row12_col7, #T_86a40_row12_col8, #T_86a40_row12_col9, #T_86a40_row12_col10, #T_86a40_row12_col11, #T_86a40_row12_col12, #T_86a40_row12_col13, #T_86a40_row13_col0, #T_86a40_row13_col1, #T_86a40_row13_col2, #T_86a40_row13_col3, #T_86a40_row13_col4, #T_86a40_row13_col5, #T_86a40_row13_col6, #T_86a40_row13_col7, #T_86a40_row13_col8, #T_86a40_row13_col9, #T_86a40_row13_col10, #T_86a40_row13_col11, #T_86a40_row13_col12, #T_86a40_row13_col13 {\n",
       "  background-color: #b9e192;\n",
       "  color: black;\n",
       "  border-color: darkblack;\n",
       "}\n",
       "</style>\n",
       "<table id=\"T_86a40\">\n",
       "  <thead>\n",
       "    <tr>\n",
       "      <th class=\"blank level0\" >&nbsp;</th>\n",
       "      <th id=\"T_86a40_level0_col0\" class=\"col_heading level0 col0\" >age</th>\n",
       "      <th id=\"T_86a40_level0_col1\" class=\"col_heading level0 col1\" >sex</th>\n",
       "      <th id=\"T_86a40_level0_col2\" class=\"col_heading level0 col2\" >cp</th>\n",
       "      <th id=\"T_86a40_level0_col3\" class=\"col_heading level0 col3\" >trestbps</th>\n",
       "      <th id=\"T_86a40_level0_col4\" class=\"col_heading level0 col4\" >chol</th>\n",
       "      <th id=\"T_86a40_level0_col5\" class=\"col_heading level0 col5\" >fbs</th>\n",
       "      <th id=\"T_86a40_level0_col6\" class=\"col_heading level0 col6\" >restecg</th>\n",
       "      <th id=\"T_86a40_level0_col7\" class=\"col_heading level0 col7\" >thalach</th>\n",
       "      <th id=\"T_86a40_level0_col8\" class=\"col_heading level0 col8\" >exang</th>\n",
       "      <th id=\"T_86a40_level0_col9\" class=\"col_heading level0 col9\" >oldpeak</th>\n",
       "      <th id=\"T_86a40_level0_col10\" class=\"col_heading level0 col10\" >slope</th>\n",
       "      <th id=\"T_86a40_level0_col11\" class=\"col_heading level0 col11\" >ca</th>\n",
       "      <th id=\"T_86a40_level0_col12\" class=\"col_heading level0 col12\" >thal</th>\n",
       "      <th id=\"T_86a40_level0_col13\" class=\"col_heading level0 col13\" >target</th>\n",
       "    </tr>\n",
       "  </thead>\n",
       "  <tbody>\n",
       "    <tr>\n",
       "      <th id=\"T_86a40_level0_row0\" class=\"row_heading level0 row0\" >age</th>\n",
       "      <td id=\"T_86a40_row0_col0\" class=\"data row0 col0\" >1.000000</td>\n",
       "      <td id=\"T_86a40_row0_col1\" class=\"data row0 col1\" >-0.098447</td>\n",
       "      <td id=\"T_86a40_row0_col2\" class=\"data row0 col2\" >-0.068653</td>\n",
       "      <td id=\"T_86a40_row0_col3\" class=\"data row0 col3\" >0.279351</td>\n",
       "      <td id=\"T_86a40_row0_col4\" class=\"data row0 col4\" >0.213678</td>\n",
       "      <td id=\"T_86a40_row0_col5\" class=\"data row0 col5\" >0.121308</td>\n",
       "      <td id=\"T_86a40_row0_col6\" class=\"data row0 col6\" >-0.116211</td>\n",
       "      <td id=\"T_86a40_row0_col7\" class=\"data row0 col7\" >-0.398522</td>\n",
       "      <td id=\"T_86a40_row0_col8\" class=\"data row0 col8\" >0.096801</td>\n",
       "      <td id=\"T_86a40_row0_col9\" class=\"data row0 col9\" >0.210013</td>\n",
       "      <td id=\"T_86a40_row0_col10\" class=\"data row0 col10\" >-0.168814</td>\n",
       "      <td id=\"T_86a40_row0_col11\" class=\"data row0 col11\" >0.276326</td>\n",
       "      <td id=\"T_86a40_row0_col12\" class=\"data row0 col12\" >0.068001</td>\n",
       "      <td id=\"T_86a40_row0_col13\" class=\"data row0 col13\" >-0.225439</td>\n",
       "    </tr>\n",
       "    <tr>\n",
       "      <th id=\"T_86a40_level0_row1\" class=\"row_heading level0 row1\" >sex</th>\n",
       "      <td id=\"T_86a40_row1_col0\" class=\"data row1 col0\" >-0.098447</td>\n",
       "      <td id=\"T_86a40_row1_col1\" class=\"data row1 col1\" >1.000000</td>\n",
       "      <td id=\"T_86a40_row1_col2\" class=\"data row1 col2\" >-0.049353</td>\n",
       "      <td id=\"T_86a40_row1_col3\" class=\"data row1 col3\" >-0.056769</td>\n",
       "      <td id=\"T_86a40_row1_col4\" class=\"data row1 col4\" >-0.197912</td>\n",
       "      <td id=\"T_86a40_row1_col5\" class=\"data row1 col5\" >0.045032</td>\n",
       "      <td id=\"T_86a40_row1_col6\" class=\"data row1 col6\" >-0.058196</td>\n",
       "      <td id=\"T_86a40_row1_col7\" class=\"data row1 col7\" >-0.044020</td>\n",
       "      <td id=\"T_86a40_row1_col8\" class=\"data row1 col8\" >0.141664</td>\n",
       "      <td id=\"T_86a40_row1_col9\" class=\"data row1 col9\" >0.096093</td>\n",
       "      <td id=\"T_86a40_row1_col10\" class=\"data row1 col10\" >-0.030711</td>\n",
       "      <td id=\"T_86a40_row1_col11\" class=\"data row1 col11\" >0.118261</td>\n",
       "      <td id=\"T_86a40_row1_col12\" class=\"data row1 col12\" >0.210041</td>\n",
       "      <td id=\"T_86a40_row1_col13\" class=\"data row1 col13\" >-0.280937</td>\n",
       "    </tr>\n",
       "    <tr>\n",
       "      <th id=\"T_86a40_level0_row2\" class=\"row_heading level0 row2\" >cp</th>\n",
       "      <td id=\"T_86a40_row2_col0\" class=\"data row2 col0\" >-0.068653</td>\n",
       "      <td id=\"T_86a40_row2_col1\" class=\"data row2 col1\" >-0.049353</td>\n",
       "      <td id=\"T_86a40_row2_col2\" class=\"data row2 col2\" >1.000000</td>\n",
       "      <td id=\"T_86a40_row2_col3\" class=\"data row2 col3\" >0.047608</td>\n",
       "      <td id=\"T_86a40_row2_col4\" class=\"data row2 col4\" >-0.076904</td>\n",
       "      <td id=\"T_86a40_row2_col5\" class=\"data row2 col5\" >0.094444</td>\n",
       "      <td id=\"T_86a40_row2_col6\" class=\"data row2 col6\" >0.044421</td>\n",
       "      <td id=\"T_86a40_row2_col7\" class=\"data row2 col7\" >0.295762</td>\n",
       "      <td id=\"T_86a40_row2_col8\" class=\"data row2 col8\" >-0.394280</td>\n",
       "      <td id=\"T_86a40_row2_col9\" class=\"data row2 col9\" >-0.149230</td>\n",
       "      <td id=\"T_86a40_row2_col10\" class=\"data row2 col10\" >0.119717</td>\n",
       "      <td id=\"T_86a40_row2_col11\" class=\"data row2 col11\" >-0.181053</td>\n",
       "      <td id=\"T_86a40_row2_col12\" class=\"data row2 col12\" >-0.161736</td>\n",
       "      <td id=\"T_86a40_row2_col13\" class=\"data row2 col13\" >0.433798</td>\n",
       "    </tr>\n",
       "    <tr>\n",
       "      <th id=\"T_86a40_level0_row3\" class=\"row_heading level0 row3\" >trestbps</th>\n",
       "      <td id=\"T_86a40_row3_col0\" class=\"data row3 col0\" >0.279351</td>\n",
       "      <td id=\"T_86a40_row3_col1\" class=\"data row3 col1\" >-0.056769</td>\n",
       "      <td id=\"T_86a40_row3_col2\" class=\"data row3 col2\" >0.047608</td>\n",
       "      <td id=\"T_86a40_row3_col3\" class=\"data row3 col3\" >1.000000</td>\n",
       "      <td id=\"T_86a40_row3_col4\" class=\"data row3 col4\" >0.123174</td>\n",
       "      <td id=\"T_86a40_row3_col5\" class=\"data row3 col5\" >0.177531</td>\n",
       "      <td id=\"T_86a40_row3_col6\" class=\"data row3 col6\" >-0.114103</td>\n",
       "      <td id=\"T_86a40_row3_col7\" class=\"data row3 col7\" >-0.046698</td>\n",
       "      <td id=\"T_86a40_row3_col8\" class=\"data row3 col8\" >0.067616</td>\n",
       "      <td id=\"T_86a40_row3_col9\" class=\"data row3 col9\" >0.193216</td>\n",
       "      <td id=\"T_86a40_row3_col10\" class=\"data row3 col10\" >-0.121475</td>\n",
       "      <td id=\"T_86a40_row3_col11\" class=\"data row3 col11\" >0.101389</td>\n",
       "      <td id=\"T_86a40_row3_col12\" class=\"data row3 col12\" >0.062210</td>\n",
       "      <td id=\"T_86a40_row3_col13\" class=\"data row3 col13\" >-0.144931</td>\n",
       "    </tr>\n",
       "    <tr>\n",
       "      <th id=\"T_86a40_level0_row4\" class=\"row_heading level0 row4\" >chol</th>\n",
       "      <td id=\"T_86a40_row4_col0\" class=\"data row4 col0\" >0.213678</td>\n",
       "      <td id=\"T_86a40_row4_col1\" class=\"data row4 col1\" >-0.197912</td>\n",
       "      <td id=\"T_86a40_row4_col2\" class=\"data row4 col2\" >-0.076904</td>\n",
       "      <td id=\"T_86a40_row4_col3\" class=\"data row4 col3\" >0.123174</td>\n",
       "      <td id=\"T_86a40_row4_col4\" class=\"data row4 col4\" >1.000000</td>\n",
       "      <td id=\"T_86a40_row4_col5\" class=\"data row4 col5\" >0.013294</td>\n",
       "      <td id=\"T_86a40_row4_col6\" class=\"data row4 col6\" >-0.151040</td>\n",
       "      <td id=\"T_86a40_row4_col7\" class=\"data row4 col7\" >-0.009940</td>\n",
       "      <td id=\"T_86a40_row4_col8\" class=\"data row4 col8\" >0.067023</td>\n",
       "      <td id=\"T_86a40_row4_col9\" class=\"data row4 col9\" >0.053952</td>\n",
       "      <td id=\"T_86a40_row4_col10\" class=\"data row4 col10\" >-0.004038</td>\n",
       "      <td id=\"T_86a40_row4_col11\" class=\"data row4 col11\" >0.070511</td>\n",
       "      <td id=\"T_86a40_row4_col12\" class=\"data row4 col12\" >0.098803</td>\n",
       "      <td id=\"T_86a40_row4_col13\" class=\"data row4 col13\" >-0.085239</td>\n",
       "    </tr>\n",
       "    <tr>\n",
       "      <th id=\"T_86a40_level0_row5\" class=\"row_heading level0 row5\" >fbs</th>\n",
       "      <td id=\"T_86a40_row5_col0\" class=\"data row5 col0\" >0.121308</td>\n",
       "      <td id=\"T_86a40_row5_col1\" class=\"data row5 col1\" >0.045032</td>\n",
       "      <td id=\"T_86a40_row5_col2\" class=\"data row5 col2\" >0.094444</td>\n",
       "      <td id=\"T_86a40_row5_col3\" class=\"data row5 col3\" >0.177531</td>\n",
       "      <td id=\"T_86a40_row5_col4\" class=\"data row5 col4\" >0.013294</td>\n",
       "      <td id=\"T_86a40_row5_col5\" class=\"data row5 col5\" >1.000000</td>\n",
       "      <td id=\"T_86a40_row5_col6\" class=\"data row5 col6\" >-0.084189</td>\n",
       "      <td id=\"T_86a40_row5_col7\" class=\"data row5 col7\" >-0.008567</td>\n",
       "      <td id=\"T_86a40_row5_col8\" class=\"data row5 col8\" >0.025665</td>\n",
       "      <td id=\"T_86a40_row5_col9\" class=\"data row5 col9\" >0.005747</td>\n",
       "      <td id=\"T_86a40_row5_col10\" class=\"data row5 col10\" >-0.059894</td>\n",
       "      <td id=\"T_86a40_row5_col11\" class=\"data row5 col11\" >0.137979</td>\n",
       "      <td id=\"T_86a40_row5_col12\" class=\"data row5 col12\" >-0.032019</td>\n",
       "      <td id=\"T_86a40_row5_col13\" class=\"data row5 col13\" >-0.028046</td>\n",
       "    </tr>\n",
       "    <tr>\n",
       "      <th id=\"T_86a40_level0_row6\" class=\"row_heading level0 row6\" >restecg</th>\n",
       "      <td id=\"T_86a40_row6_col0\" class=\"data row6 col0\" >-0.116211</td>\n",
       "      <td id=\"T_86a40_row6_col1\" class=\"data row6 col1\" >-0.058196</td>\n",
       "      <td id=\"T_86a40_row6_col2\" class=\"data row6 col2\" >0.044421</td>\n",
       "      <td id=\"T_86a40_row6_col3\" class=\"data row6 col3\" >-0.114103</td>\n",
       "      <td id=\"T_86a40_row6_col4\" class=\"data row6 col4\" >-0.151040</td>\n",
       "      <td id=\"T_86a40_row6_col5\" class=\"data row6 col5\" >-0.084189</td>\n",
       "      <td id=\"T_86a40_row6_col6\" class=\"data row6 col6\" >1.000000</td>\n",
       "      <td id=\"T_86a40_row6_col7\" class=\"data row6 col7\" >0.044123</td>\n",
       "      <td id=\"T_86a40_row6_col8\" class=\"data row6 col8\" >-0.070733</td>\n",
       "      <td id=\"T_86a40_row6_col9\" class=\"data row6 col9\" >-0.058770</td>\n",
       "      <td id=\"T_86a40_row6_col10\" class=\"data row6 col10\" >0.093045</td>\n",
       "      <td id=\"T_86a40_row6_col11\" class=\"data row6 col11\" >-0.072042</td>\n",
       "      <td id=\"T_86a40_row6_col12\" class=\"data row6 col12\" >-0.011981</td>\n",
       "      <td id=\"T_86a40_row6_col13\" class=\"data row6 col13\" >0.137230</td>\n",
       "    </tr>\n",
       "    <tr>\n",
       "      <th id=\"T_86a40_level0_row7\" class=\"row_heading level0 row7\" >thalach</th>\n",
       "      <td id=\"T_86a40_row7_col0\" class=\"data row7 col0\" >-0.398522</td>\n",
       "      <td id=\"T_86a40_row7_col1\" class=\"data row7 col1\" >-0.044020</td>\n",
       "      <td id=\"T_86a40_row7_col2\" class=\"data row7 col2\" >0.295762</td>\n",
       "      <td id=\"T_86a40_row7_col3\" class=\"data row7 col3\" >-0.046698</td>\n",
       "      <td id=\"T_86a40_row7_col4\" class=\"data row7 col4\" >-0.009940</td>\n",
       "      <td id=\"T_86a40_row7_col5\" class=\"data row7 col5\" >-0.008567</td>\n",
       "      <td id=\"T_86a40_row7_col6\" class=\"data row7 col6\" >0.044123</td>\n",
       "      <td id=\"T_86a40_row7_col7\" class=\"data row7 col7\" >1.000000</td>\n",
       "      <td id=\"T_86a40_row7_col8\" class=\"data row7 col8\" >-0.378812</td>\n",
       "      <td id=\"T_86a40_row7_col9\" class=\"data row7 col9\" >-0.344187</td>\n",
       "      <td id=\"T_86a40_row7_col10\" class=\"data row7 col10\" >0.386784</td>\n",
       "      <td id=\"T_86a40_row7_col11\" class=\"data row7 col11\" >-0.213177</td>\n",
       "      <td id=\"T_86a40_row7_col12\" class=\"data row7 col12\" >-0.096439</td>\n",
       "      <td id=\"T_86a40_row7_col13\" class=\"data row7 col13\" >0.421741</td>\n",
       "    </tr>\n",
       "    <tr>\n",
       "      <th id=\"T_86a40_level0_row8\" class=\"row_heading level0 row8\" >exang</th>\n",
       "      <td id=\"T_86a40_row8_col0\" class=\"data row8 col0\" >0.096801</td>\n",
       "      <td id=\"T_86a40_row8_col1\" class=\"data row8 col1\" >0.141664</td>\n",
       "      <td id=\"T_86a40_row8_col2\" class=\"data row8 col2\" >-0.394280</td>\n",
       "      <td id=\"T_86a40_row8_col3\" class=\"data row8 col3\" >0.067616</td>\n",
       "      <td id=\"T_86a40_row8_col4\" class=\"data row8 col4\" >0.067023</td>\n",
       "      <td id=\"T_86a40_row8_col5\" class=\"data row8 col5\" >0.025665</td>\n",
       "      <td id=\"T_86a40_row8_col6\" class=\"data row8 col6\" >-0.070733</td>\n",
       "      <td id=\"T_86a40_row8_col7\" class=\"data row8 col7\" >-0.378812</td>\n",
       "      <td id=\"T_86a40_row8_col8\" class=\"data row8 col8\" >1.000000</td>\n",
       "      <td id=\"T_86a40_row8_col9\" class=\"data row8 col9\" >0.288223</td>\n",
       "      <td id=\"T_86a40_row8_col10\" class=\"data row8 col10\" >-0.257748</td>\n",
       "      <td id=\"T_86a40_row8_col11\" class=\"data row8 col11\" >0.115739</td>\n",
       "      <td id=\"T_86a40_row8_col12\" class=\"data row8 col12\" >0.206754</td>\n",
       "      <td id=\"T_86a40_row8_col13\" class=\"data row8 col13\" >-0.436757</td>\n",
       "    </tr>\n",
       "    <tr>\n",
       "      <th id=\"T_86a40_level0_row9\" class=\"row_heading level0 row9\" >oldpeak</th>\n",
       "      <td id=\"T_86a40_row9_col0\" class=\"data row9 col0\" >0.210013</td>\n",
       "      <td id=\"T_86a40_row9_col1\" class=\"data row9 col1\" >0.096093</td>\n",
       "      <td id=\"T_86a40_row9_col2\" class=\"data row9 col2\" >-0.149230</td>\n",
       "      <td id=\"T_86a40_row9_col3\" class=\"data row9 col3\" >0.193216</td>\n",
       "      <td id=\"T_86a40_row9_col4\" class=\"data row9 col4\" >0.053952</td>\n",
       "      <td id=\"T_86a40_row9_col5\" class=\"data row9 col5\" >0.005747</td>\n",
       "      <td id=\"T_86a40_row9_col6\" class=\"data row9 col6\" >-0.058770</td>\n",
       "      <td id=\"T_86a40_row9_col7\" class=\"data row9 col7\" >-0.344187</td>\n",
       "      <td id=\"T_86a40_row9_col8\" class=\"data row9 col8\" >0.288223</td>\n",
       "      <td id=\"T_86a40_row9_col9\" class=\"data row9 col9\" >1.000000</td>\n",
       "      <td id=\"T_86a40_row9_col10\" class=\"data row9 col10\" >-0.577537</td>\n",
       "      <td id=\"T_86a40_row9_col11\" class=\"data row9 col11\" >0.222682</td>\n",
       "      <td id=\"T_86a40_row9_col12\" class=\"data row9 col12\" >0.210244</td>\n",
       "      <td id=\"T_86a40_row9_col13\" class=\"data row9 col13\" >-0.430696</td>\n",
       "    </tr>\n",
       "    <tr>\n",
       "      <th id=\"T_86a40_level0_row10\" class=\"row_heading level0 row10\" >slope</th>\n",
       "      <td id=\"T_86a40_row10_col0\" class=\"data row10 col0\" >-0.168814</td>\n",
       "      <td id=\"T_86a40_row10_col1\" class=\"data row10 col1\" >-0.030711</td>\n",
       "      <td id=\"T_86a40_row10_col2\" class=\"data row10 col2\" >0.119717</td>\n",
       "      <td id=\"T_86a40_row10_col3\" class=\"data row10 col3\" >-0.121475</td>\n",
       "      <td id=\"T_86a40_row10_col4\" class=\"data row10 col4\" >-0.004038</td>\n",
       "      <td id=\"T_86a40_row10_col5\" class=\"data row10 col5\" >-0.059894</td>\n",
       "      <td id=\"T_86a40_row10_col6\" class=\"data row10 col6\" >0.093045</td>\n",
       "      <td id=\"T_86a40_row10_col7\" class=\"data row10 col7\" >0.386784</td>\n",
       "      <td id=\"T_86a40_row10_col8\" class=\"data row10 col8\" >-0.257748</td>\n",
       "      <td id=\"T_86a40_row10_col9\" class=\"data row10 col9\" >-0.577537</td>\n",
       "      <td id=\"T_86a40_row10_col10\" class=\"data row10 col10\" >1.000000</td>\n",
       "      <td id=\"T_86a40_row10_col11\" class=\"data row10 col11\" >-0.080155</td>\n",
       "      <td id=\"T_86a40_row10_col12\" class=\"data row10 col12\" >-0.104764</td>\n",
       "      <td id=\"T_86a40_row10_col13\" class=\"data row10 col13\" >0.345877</td>\n",
       "    </tr>\n",
       "    <tr>\n",
       "      <th id=\"T_86a40_level0_row11\" class=\"row_heading level0 row11\" >ca</th>\n",
       "      <td id=\"T_86a40_row11_col0\" class=\"data row11 col0\" >0.276326</td>\n",
       "      <td id=\"T_86a40_row11_col1\" class=\"data row11 col1\" >0.118261</td>\n",
       "      <td id=\"T_86a40_row11_col2\" class=\"data row11 col2\" >-0.181053</td>\n",
       "      <td id=\"T_86a40_row11_col3\" class=\"data row11 col3\" >0.101389</td>\n",
       "      <td id=\"T_86a40_row11_col4\" class=\"data row11 col4\" >0.070511</td>\n",
       "      <td id=\"T_86a40_row11_col5\" class=\"data row11 col5\" >0.137979</td>\n",
       "      <td id=\"T_86a40_row11_col6\" class=\"data row11 col6\" >-0.072042</td>\n",
       "      <td id=\"T_86a40_row11_col7\" class=\"data row11 col7\" >-0.213177</td>\n",
       "      <td id=\"T_86a40_row11_col8\" class=\"data row11 col8\" >0.115739</td>\n",
       "      <td id=\"T_86a40_row11_col9\" class=\"data row11 col9\" >0.222682</td>\n",
       "      <td id=\"T_86a40_row11_col10\" class=\"data row11 col10\" >-0.080155</td>\n",
       "      <td id=\"T_86a40_row11_col11\" class=\"data row11 col11\" >1.000000</td>\n",
       "      <td id=\"T_86a40_row11_col12\" class=\"data row11 col12\" >0.151832</td>\n",
       "      <td id=\"T_86a40_row11_col13\" class=\"data row11 col13\" >-0.391724</td>\n",
       "    </tr>\n",
       "    <tr>\n",
       "      <th id=\"T_86a40_level0_row12\" class=\"row_heading level0 row12\" >thal</th>\n",
       "      <td id=\"T_86a40_row12_col0\" class=\"data row12 col0\" >0.068001</td>\n",
       "      <td id=\"T_86a40_row12_col1\" class=\"data row12 col1\" >0.210041</td>\n",
       "      <td id=\"T_86a40_row12_col2\" class=\"data row12 col2\" >-0.161736</td>\n",
       "      <td id=\"T_86a40_row12_col3\" class=\"data row12 col3\" >0.062210</td>\n",
       "      <td id=\"T_86a40_row12_col4\" class=\"data row12 col4\" >0.098803</td>\n",
       "      <td id=\"T_86a40_row12_col5\" class=\"data row12 col5\" >-0.032019</td>\n",
       "      <td id=\"T_86a40_row12_col6\" class=\"data row12 col6\" >-0.011981</td>\n",
       "      <td id=\"T_86a40_row12_col7\" class=\"data row12 col7\" >-0.096439</td>\n",
       "      <td id=\"T_86a40_row12_col8\" class=\"data row12 col8\" >0.206754</td>\n",
       "      <td id=\"T_86a40_row12_col9\" class=\"data row12 col9\" >0.210244</td>\n",
       "      <td id=\"T_86a40_row12_col10\" class=\"data row12 col10\" >-0.104764</td>\n",
       "      <td id=\"T_86a40_row12_col11\" class=\"data row12 col11\" >0.151832</td>\n",
       "      <td id=\"T_86a40_row12_col12\" class=\"data row12 col12\" >1.000000</td>\n",
       "      <td id=\"T_86a40_row12_col13\" class=\"data row12 col13\" >-0.344029</td>\n",
       "    </tr>\n",
       "    <tr>\n",
       "      <th id=\"T_86a40_level0_row13\" class=\"row_heading level0 row13\" >target</th>\n",
       "      <td id=\"T_86a40_row13_col0\" class=\"data row13 col0\" >-0.225439</td>\n",
       "      <td id=\"T_86a40_row13_col1\" class=\"data row13 col1\" >-0.280937</td>\n",
       "      <td id=\"T_86a40_row13_col2\" class=\"data row13 col2\" >0.433798</td>\n",
       "      <td id=\"T_86a40_row13_col3\" class=\"data row13 col3\" >-0.144931</td>\n",
       "      <td id=\"T_86a40_row13_col4\" class=\"data row13 col4\" >-0.085239</td>\n",
       "      <td id=\"T_86a40_row13_col5\" class=\"data row13 col5\" >-0.028046</td>\n",
       "      <td id=\"T_86a40_row13_col6\" class=\"data row13 col6\" >0.137230</td>\n",
       "      <td id=\"T_86a40_row13_col7\" class=\"data row13 col7\" >0.421741</td>\n",
       "      <td id=\"T_86a40_row13_col8\" class=\"data row13 col8\" >-0.436757</td>\n",
       "      <td id=\"T_86a40_row13_col9\" class=\"data row13 col9\" >-0.430696</td>\n",
       "      <td id=\"T_86a40_row13_col10\" class=\"data row13 col10\" >0.345877</td>\n",
       "      <td id=\"T_86a40_row13_col11\" class=\"data row13 col11\" >-0.391724</td>\n",
       "      <td id=\"T_86a40_row13_col12\" class=\"data row13 col12\" >-0.344029</td>\n",
       "      <td id=\"T_86a40_row13_col13\" class=\"data row13 col13\" >1.000000</td>\n",
       "    </tr>\n",
       "  </tbody>\n",
       "</table>\n"
      ],
      "text/plain": [
       "<pandas.io.formats.style.Styler at 0x7fd8c5a551d0>"
      ]
     },
     "execution_count": 33,
     "metadata": {},
     "output_type": "execute_result"
    }
   ],
   "source": [
    "heart.corr().style.set_properties(**{'background-color': '#b9e192',\n",
    "'color': 'black',\n",
    "'border-color': 'darkblack'})"
   ]
  },
  {
   "cell_type": "code",
   "execution_count": 34,
   "id": "112c9298",
   "metadata": {
    "scrolled": false
   },
   "outputs": [
    {
     "data": {
      "text/html": [
       "<style type=\"text/css\">\n",
       "#T_533be_row0_col0, #T_533be_row0_col1, #T_533be_row0_col2, #T_533be_row0_col3, #T_533be_row0_col4, #T_533be_row0_col5, #T_533be_row0_col6, #T_533be_row0_col7, #T_533be_row0_col8, #T_533be_row0_col9, #T_533be_row1_col0, #T_533be_row1_col1, #T_533be_row1_col2, #T_533be_row1_col3, #T_533be_row1_col4, #T_533be_row1_col5, #T_533be_row1_col6, #T_533be_row1_col7, #T_533be_row1_col8, #T_533be_row1_col9, #T_533be_row2_col0, #T_533be_row2_col1, #T_533be_row2_col2, #T_533be_row2_col3, #T_533be_row2_col4, #T_533be_row2_col5, #T_533be_row2_col6, #T_533be_row2_col7, #T_533be_row2_col8, #T_533be_row2_col9, #T_533be_row3_col0, #T_533be_row3_col1, #T_533be_row3_col2, #T_533be_row3_col3, #T_533be_row3_col4, #T_533be_row3_col5, #T_533be_row3_col6, #T_533be_row3_col7, #T_533be_row3_col8, #T_533be_row3_col9, #T_533be_row4_col0, #T_533be_row4_col1, #T_533be_row4_col2, #T_533be_row4_col3, #T_533be_row4_col4, #T_533be_row4_col5, #T_533be_row4_col6, #T_533be_row4_col7, #T_533be_row4_col8, #T_533be_row4_col9, #T_533be_row5_col0, #T_533be_row5_col1, #T_533be_row5_col2, #T_533be_row5_col3, #T_533be_row5_col4, #T_533be_row5_col5, #T_533be_row5_col6, #T_533be_row5_col7, #T_533be_row5_col8, #T_533be_row5_col9, #T_533be_row6_col0, #T_533be_row6_col1, #T_533be_row6_col2, #T_533be_row6_col3, #T_533be_row6_col4, #T_533be_row6_col5, #T_533be_row6_col6, #T_533be_row6_col7, #T_533be_row6_col8, #T_533be_row6_col9, #T_533be_row7_col0, #T_533be_row7_col1, #T_533be_row7_col2, #T_533be_row7_col3, #T_533be_row7_col4, #T_533be_row7_col5, #T_533be_row7_col6, #T_533be_row7_col7, #T_533be_row7_col8, #T_533be_row7_col9, #T_533be_row8_col0, #T_533be_row8_col1, #T_533be_row8_col2, #T_533be_row8_col3, #T_533be_row8_col4, #T_533be_row8_col5, #T_533be_row8_col6, #T_533be_row8_col7, #T_533be_row8_col8, #T_533be_row8_col9, #T_533be_row9_col0, #T_533be_row9_col1, #T_533be_row9_col2, #T_533be_row9_col3, #T_533be_row9_col4, #T_533be_row9_col5, #T_533be_row9_col6, #T_533be_row9_col7, #T_533be_row9_col8, #T_533be_row9_col9 {\n",
       "  background-color: #b9e192;\n",
       "  color: black;\n",
       "  border-color: darkblack;\n",
       "}\n",
       "</style>\n",
       "<table id=\"T_533be\">\n",
       "  <thead>\n",
       "    <tr>\n",
       "      <th class=\"blank level0\" >&nbsp;</th>\n",
       "      <th id=\"T_533be_level0_col0\" class=\"col_heading level0 col0\" >age</th>\n",
       "      <th id=\"T_533be_level0_col1\" class=\"col_heading level0 col1\" >sex</th>\n",
       "      <th id=\"T_533be_level0_col2\" class=\"col_heading level0 col2\" >cp</th>\n",
       "      <th id=\"T_533be_level0_col3\" class=\"col_heading level0 col3\" >thalach</th>\n",
       "      <th id=\"T_533be_level0_col4\" class=\"col_heading level0 col4\" >oldpeak</th>\n",
       "      <th id=\"T_533be_level0_col5\" class=\"col_heading level0 col5\" >exang</th>\n",
       "      <th id=\"T_533be_level0_col6\" class=\"col_heading level0 col6\" >slope</th>\n",
       "      <th id=\"T_533be_level0_col7\" class=\"col_heading level0 col7\" >ca</th>\n",
       "      <th id=\"T_533be_level0_col8\" class=\"col_heading level0 col8\" >thal</th>\n",
       "      <th id=\"T_533be_level0_col9\" class=\"col_heading level0 col9\" >target</th>\n",
       "    </tr>\n",
       "  </thead>\n",
       "  <tbody>\n",
       "    <tr>\n",
       "      <th id=\"T_533be_level0_row0\" class=\"row_heading level0 row0\" >age</th>\n",
       "      <td id=\"T_533be_row0_col0\" class=\"data row0 col0\" >1.000000</td>\n",
       "      <td id=\"T_533be_row0_col1\" class=\"data row0 col1\" >-0.098447</td>\n",
       "      <td id=\"T_533be_row0_col2\" class=\"data row0 col2\" >-0.068653</td>\n",
       "      <td id=\"T_533be_row0_col3\" class=\"data row0 col3\" >-0.398522</td>\n",
       "      <td id=\"T_533be_row0_col4\" class=\"data row0 col4\" >0.210013</td>\n",
       "      <td id=\"T_533be_row0_col5\" class=\"data row0 col5\" >0.096801</td>\n",
       "      <td id=\"T_533be_row0_col6\" class=\"data row0 col6\" >-0.168814</td>\n",
       "      <td id=\"T_533be_row0_col7\" class=\"data row0 col7\" >0.276326</td>\n",
       "      <td id=\"T_533be_row0_col8\" class=\"data row0 col8\" >0.068001</td>\n",
       "      <td id=\"T_533be_row0_col9\" class=\"data row0 col9\" >-0.225439</td>\n",
       "    </tr>\n",
       "    <tr>\n",
       "      <th id=\"T_533be_level0_row1\" class=\"row_heading level0 row1\" >sex</th>\n",
       "      <td id=\"T_533be_row1_col0\" class=\"data row1 col0\" >-0.098447</td>\n",
       "      <td id=\"T_533be_row1_col1\" class=\"data row1 col1\" >1.000000</td>\n",
       "      <td id=\"T_533be_row1_col2\" class=\"data row1 col2\" >-0.049353</td>\n",
       "      <td id=\"T_533be_row1_col3\" class=\"data row1 col3\" >-0.044020</td>\n",
       "      <td id=\"T_533be_row1_col4\" class=\"data row1 col4\" >0.096093</td>\n",
       "      <td id=\"T_533be_row1_col5\" class=\"data row1 col5\" >0.141664</td>\n",
       "      <td id=\"T_533be_row1_col6\" class=\"data row1 col6\" >-0.030711</td>\n",
       "      <td id=\"T_533be_row1_col7\" class=\"data row1 col7\" >0.118261</td>\n",
       "      <td id=\"T_533be_row1_col8\" class=\"data row1 col8\" >0.210041</td>\n",
       "      <td id=\"T_533be_row1_col9\" class=\"data row1 col9\" >-0.280937</td>\n",
       "    </tr>\n",
       "    <tr>\n",
       "      <th id=\"T_533be_level0_row2\" class=\"row_heading level0 row2\" >cp</th>\n",
       "      <td id=\"T_533be_row2_col0\" class=\"data row2 col0\" >-0.068653</td>\n",
       "      <td id=\"T_533be_row2_col1\" class=\"data row2 col1\" >-0.049353</td>\n",
       "      <td id=\"T_533be_row2_col2\" class=\"data row2 col2\" >1.000000</td>\n",
       "      <td id=\"T_533be_row2_col3\" class=\"data row2 col3\" >0.295762</td>\n",
       "      <td id=\"T_533be_row2_col4\" class=\"data row2 col4\" >-0.149230</td>\n",
       "      <td id=\"T_533be_row2_col5\" class=\"data row2 col5\" >-0.394280</td>\n",
       "      <td id=\"T_533be_row2_col6\" class=\"data row2 col6\" >0.119717</td>\n",
       "      <td id=\"T_533be_row2_col7\" class=\"data row2 col7\" >-0.181053</td>\n",
       "      <td id=\"T_533be_row2_col8\" class=\"data row2 col8\" >-0.161736</td>\n",
       "      <td id=\"T_533be_row2_col9\" class=\"data row2 col9\" >0.433798</td>\n",
       "    </tr>\n",
       "    <tr>\n",
       "      <th id=\"T_533be_level0_row3\" class=\"row_heading level0 row3\" >thalach</th>\n",
       "      <td id=\"T_533be_row3_col0\" class=\"data row3 col0\" >-0.398522</td>\n",
       "      <td id=\"T_533be_row3_col1\" class=\"data row3 col1\" >-0.044020</td>\n",
       "      <td id=\"T_533be_row3_col2\" class=\"data row3 col2\" >0.295762</td>\n",
       "      <td id=\"T_533be_row3_col3\" class=\"data row3 col3\" >1.000000</td>\n",
       "      <td id=\"T_533be_row3_col4\" class=\"data row3 col4\" >-0.344187</td>\n",
       "      <td id=\"T_533be_row3_col5\" class=\"data row3 col5\" >-0.378812</td>\n",
       "      <td id=\"T_533be_row3_col6\" class=\"data row3 col6\" >0.386784</td>\n",
       "      <td id=\"T_533be_row3_col7\" class=\"data row3 col7\" >-0.213177</td>\n",
       "      <td id=\"T_533be_row3_col8\" class=\"data row3 col8\" >-0.096439</td>\n",
       "      <td id=\"T_533be_row3_col9\" class=\"data row3 col9\" >0.421741</td>\n",
       "    </tr>\n",
       "    <tr>\n",
       "      <th id=\"T_533be_level0_row4\" class=\"row_heading level0 row4\" >oldpeak</th>\n",
       "      <td id=\"T_533be_row4_col0\" class=\"data row4 col0\" >0.210013</td>\n",
       "      <td id=\"T_533be_row4_col1\" class=\"data row4 col1\" >0.096093</td>\n",
       "      <td id=\"T_533be_row4_col2\" class=\"data row4 col2\" >-0.149230</td>\n",
       "      <td id=\"T_533be_row4_col3\" class=\"data row4 col3\" >-0.344187</td>\n",
       "      <td id=\"T_533be_row4_col4\" class=\"data row4 col4\" >1.000000</td>\n",
       "      <td id=\"T_533be_row4_col5\" class=\"data row4 col5\" >0.288223</td>\n",
       "      <td id=\"T_533be_row4_col6\" class=\"data row4 col6\" >-0.577537</td>\n",
       "      <td id=\"T_533be_row4_col7\" class=\"data row4 col7\" >0.222682</td>\n",
       "      <td id=\"T_533be_row4_col8\" class=\"data row4 col8\" >0.210244</td>\n",
       "      <td id=\"T_533be_row4_col9\" class=\"data row4 col9\" >-0.430696</td>\n",
       "    </tr>\n",
       "    <tr>\n",
       "      <th id=\"T_533be_level0_row5\" class=\"row_heading level0 row5\" >exang</th>\n",
       "      <td id=\"T_533be_row5_col0\" class=\"data row5 col0\" >0.096801</td>\n",
       "      <td id=\"T_533be_row5_col1\" class=\"data row5 col1\" >0.141664</td>\n",
       "      <td id=\"T_533be_row5_col2\" class=\"data row5 col2\" >-0.394280</td>\n",
       "      <td id=\"T_533be_row5_col3\" class=\"data row5 col3\" >-0.378812</td>\n",
       "      <td id=\"T_533be_row5_col4\" class=\"data row5 col4\" >0.288223</td>\n",
       "      <td id=\"T_533be_row5_col5\" class=\"data row5 col5\" >1.000000</td>\n",
       "      <td id=\"T_533be_row5_col6\" class=\"data row5 col6\" >-0.257748</td>\n",
       "      <td id=\"T_533be_row5_col7\" class=\"data row5 col7\" >0.115739</td>\n",
       "      <td id=\"T_533be_row5_col8\" class=\"data row5 col8\" >0.206754</td>\n",
       "      <td id=\"T_533be_row5_col9\" class=\"data row5 col9\" >-0.436757</td>\n",
       "    </tr>\n",
       "    <tr>\n",
       "      <th id=\"T_533be_level0_row6\" class=\"row_heading level0 row6\" >slope</th>\n",
       "      <td id=\"T_533be_row6_col0\" class=\"data row6 col0\" >-0.168814</td>\n",
       "      <td id=\"T_533be_row6_col1\" class=\"data row6 col1\" >-0.030711</td>\n",
       "      <td id=\"T_533be_row6_col2\" class=\"data row6 col2\" >0.119717</td>\n",
       "      <td id=\"T_533be_row6_col3\" class=\"data row6 col3\" >0.386784</td>\n",
       "      <td id=\"T_533be_row6_col4\" class=\"data row6 col4\" >-0.577537</td>\n",
       "      <td id=\"T_533be_row6_col5\" class=\"data row6 col5\" >-0.257748</td>\n",
       "      <td id=\"T_533be_row6_col6\" class=\"data row6 col6\" >1.000000</td>\n",
       "      <td id=\"T_533be_row6_col7\" class=\"data row6 col7\" >-0.080155</td>\n",
       "      <td id=\"T_533be_row6_col8\" class=\"data row6 col8\" >-0.104764</td>\n",
       "      <td id=\"T_533be_row6_col9\" class=\"data row6 col9\" >0.345877</td>\n",
       "    </tr>\n",
       "    <tr>\n",
       "      <th id=\"T_533be_level0_row7\" class=\"row_heading level0 row7\" >ca</th>\n",
       "      <td id=\"T_533be_row7_col0\" class=\"data row7 col0\" >0.276326</td>\n",
       "      <td id=\"T_533be_row7_col1\" class=\"data row7 col1\" >0.118261</td>\n",
       "      <td id=\"T_533be_row7_col2\" class=\"data row7 col2\" >-0.181053</td>\n",
       "      <td id=\"T_533be_row7_col3\" class=\"data row7 col3\" >-0.213177</td>\n",
       "      <td id=\"T_533be_row7_col4\" class=\"data row7 col4\" >0.222682</td>\n",
       "      <td id=\"T_533be_row7_col5\" class=\"data row7 col5\" >0.115739</td>\n",
       "      <td id=\"T_533be_row7_col6\" class=\"data row7 col6\" >-0.080155</td>\n",
       "      <td id=\"T_533be_row7_col7\" class=\"data row7 col7\" >1.000000</td>\n",
       "      <td id=\"T_533be_row7_col8\" class=\"data row7 col8\" >0.151832</td>\n",
       "      <td id=\"T_533be_row7_col9\" class=\"data row7 col9\" >-0.391724</td>\n",
       "    </tr>\n",
       "    <tr>\n",
       "      <th id=\"T_533be_level0_row8\" class=\"row_heading level0 row8\" >thal</th>\n",
       "      <td id=\"T_533be_row8_col0\" class=\"data row8 col0\" >0.068001</td>\n",
       "      <td id=\"T_533be_row8_col1\" class=\"data row8 col1\" >0.210041</td>\n",
       "      <td id=\"T_533be_row8_col2\" class=\"data row8 col2\" >-0.161736</td>\n",
       "      <td id=\"T_533be_row8_col3\" class=\"data row8 col3\" >-0.096439</td>\n",
       "      <td id=\"T_533be_row8_col4\" class=\"data row8 col4\" >0.210244</td>\n",
       "      <td id=\"T_533be_row8_col5\" class=\"data row8 col5\" >0.206754</td>\n",
       "      <td id=\"T_533be_row8_col6\" class=\"data row8 col6\" >-0.104764</td>\n",
       "      <td id=\"T_533be_row8_col7\" class=\"data row8 col7\" >0.151832</td>\n",
       "      <td id=\"T_533be_row8_col8\" class=\"data row8 col8\" >1.000000</td>\n",
       "      <td id=\"T_533be_row8_col9\" class=\"data row8 col9\" >-0.344029</td>\n",
       "    </tr>\n",
       "    <tr>\n",
       "      <th id=\"T_533be_level0_row9\" class=\"row_heading level0 row9\" >target</th>\n",
       "      <td id=\"T_533be_row9_col0\" class=\"data row9 col0\" >-0.225439</td>\n",
       "      <td id=\"T_533be_row9_col1\" class=\"data row9 col1\" >-0.280937</td>\n",
       "      <td id=\"T_533be_row9_col2\" class=\"data row9 col2\" >0.433798</td>\n",
       "      <td id=\"T_533be_row9_col3\" class=\"data row9 col3\" >0.421741</td>\n",
       "      <td id=\"T_533be_row9_col4\" class=\"data row9 col4\" >-0.430696</td>\n",
       "      <td id=\"T_533be_row9_col5\" class=\"data row9 col5\" >-0.436757</td>\n",
       "      <td id=\"T_533be_row9_col6\" class=\"data row9 col6\" >0.345877</td>\n",
       "      <td id=\"T_533be_row9_col7\" class=\"data row9 col7\" >-0.391724</td>\n",
       "      <td id=\"T_533be_row9_col8\" class=\"data row9 col8\" >-0.344029</td>\n",
       "      <td id=\"T_533be_row9_col9\" class=\"data row9 col9\" >1.000000</td>\n",
       "    </tr>\n",
       "  </tbody>\n",
       "</table>\n"
      ],
      "text/plain": [
       "<pandas.io.formats.style.Styler at 0x7fd8c5a88f50>"
      ]
     },
     "execution_count": 34,
     "metadata": {},
     "output_type": "execute_result"
    }
   ],
   "source": [
    "new_Heart_Dataset.corr().style.set_properties(**{'background-color': '#b9e192',\n",
    "'color': 'black',\n",
    "'border-color': 'darkblack'})"
   ]
  },
  {
   "cell_type": "markdown",
   "id": "00aecc94",
   "metadata": {},
   "source": [
    "## Diabetes"
   ]
  },
  {
   "cell_type": "code",
   "execution_count": 35,
   "id": "414c0500",
   "metadata": {},
   "outputs": [
    {
     "data": {
      "text/html": [
       "<style type=\"text/css\">\n",
       "#T_0425b_row0_col0, #T_0425b_row0_col1, #T_0425b_row0_col2, #T_0425b_row0_col3, #T_0425b_row0_col4, #T_0425b_row0_col5, #T_0425b_row0_col6, #T_0425b_row0_col7, #T_0425b_row1_col0, #T_0425b_row1_col1, #T_0425b_row1_col2, #T_0425b_row1_col3, #T_0425b_row1_col4, #T_0425b_row1_col5, #T_0425b_row1_col6, #T_0425b_row1_col7, #T_0425b_row2_col0, #T_0425b_row2_col1, #T_0425b_row2_col2, #T_0425b_row2_col3, #T_0425b_row2_col4, #T_0425b_row2_col5, #T_0425b_row2_col6, #T_0425b_row2_col7, #T_0425b_row3_col0, #T_0425b_row3_col1, #T_0425b_row3_col2, #T_0425b_row3_col3, #T_0425b_row3_col4, #T_0425b_row3_col5, #T_0425b_row3_col6, #T_0425b_row3_col7, #T_0425b_row4_col0, #T_0425b_row4_col1, #T_0425b_row4_col2, #T_0425b_row4_col3, #T_0425b_row4_col4, #T_0425b_row4_col5, #T_0425b_row4_col6, #T_0425b_row4_col7, #T_0425b_row5_col0, #T_0425b_row5_col1, #T_0425b_row5_col2, #T_0425b_row5_col3, #T_0425b_row5_col4, #T_0425b_row5_col5, #T_0425b_row5_col6, #T_0425b_row5_col7, #T_0425b_row6_col0, #T_0425b_row6_col1, #T_0425b_row6_col2, #T_0425b_row6_col3, #T_0425b_row6_col4, #T_0425b_row6_col5, #T_0425b_row6_col6, #T_0425b_row6_col7, #T_0425b_row7_col0, #T_0425b_row7_col1, #T_0425b_row7_col2, #T_0425b_row7_col3, #T_0425b_row7_col4, #T_0425b_row7_col5, #T_0425b_row7_col6, #T_0425b_row7_col7 {\n",
       "  background-color: #b9e192;\n",
       "  color: black;\n",
       "  border-color: darkblack;\n",
       "}\n",
       "</style>\n",
       "<table id=\"T_0425b\">\n",
       "  <thead>\n",
       "    <tr>\n",
       "      <th class=\"blank level0\" >&nbsp;</th>\n",
       "      <th id=\"T_0425b_level0_col0\" class=\"col_heading level0 col0\" >Glucose</th>\n",
       "      <th id=\"T_0425b_level0_col1\" class=\"col_heading level0 col1\" >BloodPressure</th>\n",
       "      <th id=\"T_0425b_level0_col2\" class=\"col_heading level0 col2\" >SkinThickness</th>\n",
       "      <th id=\"T_0425b_level0_col3\" class=\"col_heading level0 col3\" >Insulin</th>\n",
       "      <th id=\"T_0425b_level0_col4\" class=\"col_heading level0 col4\" >BMI</th>\n",
       "      <th id=\"T_0425b_level0_col5\" class=\"col_heading level0 col5\" >DiabetesPedigreeFunction</th>\n",
       "      <th id=\"T_0425b_level0_col6\" class=\"col_heading level0 col6\" >Age</th>\n",
       "      <th id=\"T_0425b_level0_col7\" class=\"col_heading level0 col7\" >Outcome</th>\n",
       "    </tr>\n",
       "  </thead>\n",
       "  <tbody>\n",
       "    <tr>\n",
       "      <th id=\"T_0425b_level0_row0\" class=\"row_heading level0 row0\" >Glucose</th>\n",
       "      <td id=\"T_0425b_row0_col0\" class=\"data row0 col0\" >1.000000</td>\n",
       "      <td id=\"T_0425b_row0_col1\" class=\"data row0 col1\" >0.152590</td>\n",
       "      <td id=\"T_0425b_row0_col2\" class=\"data row0 col2\" >0.057328</td>\n",
       "      <td id=\"T_0425b_row0_col3\" class=\"data row0 col3\" >0.331357</td>\n",
       "      <td id=\"T_0425b_row0_col4\" class=\"data row0 col4\" >0.221071</td>\n",
       "      <td id=\"T_0425b_row0_col5\" class=\"data row0 col5\" >0.137337</td>\n",
       "      <td id=\"T_0425b_row0_col6\" class=\"data row0 col6\" >0.263514</td>\n",
       "      <td id=\"T_0425b_row0_col7\" class=\"data row0 col7\" >0.466581</td>\n",
       "    </tr>\n",
       "    <tr>\n",
       "      <th id=\"T_0425b_level0_row1\" class=\"row_heading level0 row1\" >BloodPressure</th>\n",
       "      <td id=\"T_0425b_row1_col0\" class=\"data row1 col0\" >0.152590</td>\n",
       "      <td id=\"T_0425b_row1_col1\" class=\"data row1 col1\" >1.000000</td>\n",
       "      <td id=\"T_0425b_row1_col2\" class=\"data row1 col2\" >0.207371</td>\n",
       "      <td id=\"T_0425b_row1_col3\" class=\"data row1 col3\" >0.088933</td>\n",
       "      <td id=\"T_0425b_row1_col4\" class=\"data row1 col4\" >0.281805</td>\n",
       "      <td id=\"T_0425b_row1_col5\" class=\"data row1 col5\" >0.041265</td>\n",
       "      <td id=\"T_0425b_row1_col6\" class=\"data row1 col6\" >0.239528</td>\n",
       "      <td id=\"T_0425b_row1_col7\" class=\"data row1 col7\" >0.065068</td>\n",
       "    </tr>\n",
       "    <tr>\n",
       "      <th id=\"T_0425b_level0_row2\" class=\"row_heading level0 row2\" >SkinThickness</th>\n",
       "      <td id=\"T_0425b_row2_col0\" class=\"data row2 col0\" >0.057328</td>\n",
       "      <td id=\"T_0425b_row2_col1\" class=\"data row2 col1\" >0.207371</td>\n",
       "      <td id=\"T_0425b_row2_col2\" class=\"data row2 col2\" >1.000000</td>\n",
       "      <td id=\"T_0425b_row2_col3\" class=\"data row2 col3\" >0.436783</td>\n",
       "      <td id=\"T_0425b_row2_col4\" class=\"data row2 col4\" >0.392573</td>\n",
       "      <td id=\"T_0425b_row2_col5\" class=\"data row2 col5\" >0.183928</td>\n",
       "      <td id=\"T_0425b_row2_col6\" class=\"data row2 col6\" >-0.113970</td>\n",
       "      <td id=\"T_0425b_row2_col7\" class=\"data row2 col7\" >0.074752</td>\n",
       "    </tr>\n",
       "    <tr>\n",
       "      <th id=\"T_0425b_level0_row3\" class=\"row_heading level0 row3\" >Insulin</th>\n",
       "      <td id=\"T_0425b_row3_col0\" class=\"data row3 col0\" >0.331357</td>\n",
       "      <td id=\"T_0425b_row3_col1\" class=\"data row3 col1\" >0.088933</td>\n",
       "      <td id=\"T_0425b_row3_col2\" class=\"data row3 col2\" >0.436783</td>\n",
       "      <td id=\"T_0425b_row3_col3\" class=\"data row3 col3\" >1.000000</td>\n",
       "      <td id=\"T_0425b_row3_col4\" class=\"data row3 col4\" >0.197859</td>\n",
       "      <td id=\"T_0425b_row3_col5\" class=\"data row3 col5\" >0.185071</td>\n",
       "      <td id=\"T_0425b_row3_col6\" class=\"data row3 col6\" >-0.042163</td>\n",
       "      <td id=\"T_0425b_row3_col7\" class=\"data row3 col7\" >0.130548</td>\n",
       "    </tr>\n",
       "    <tr>\n",
       "      <th id=\"T_0425b_level0_row4\" class=\"row_heading level0 row4\" >BMI</th>\n",
       "      <td id=\"T_0425b_row4_col0\" class=\"data row4 col0\" >0.221071</td>\n",
       "      <td id=\"T_0425b_row4_col1\" class=\"data row4 col1\" >0.281805</td>\n",
       "      <td id=\"T_0425b_row4_col2\" class=\"data row4 col2\" >0.392573</td>\n",
       "      <td id=\"T_0425b_row4_col3\" class=\"data row4 col3\" >0.197859</td>\n",
       "      <td id=\"T_0425b_row4_col4\" class=\"data row4 col4\" >1.000000</td>\n",
       "      <td id=\"T_0425b_row4_col5\" class=\"data row4 col5\" >0.140647</td>\n",
       "      <td id=\"T_0425b_row4_col6\" class=\"data row4 col6\" >0.036242</td>\n",
       "      <td id=\"T_0425b_row4_col7\" class=\"data row4 col7\" >0.292695</td>\n",
       "    </tr>\n",
       "    <tr>\n",
       "      <th id=\"T_0425b_level0_row5\" class=\"row_heading level0 row5\" >DiabetesPedigreeFunction</th>\n",
       "      <td id=\"T_0425b_row5_col0\" class=\"data row5 col0\" >0.137337</td>\n",
       "      <td id=\"T_0425b_row5_col1\" class=\"data row5 col1\" >0.041265</td>\n",
       "      <td id=\"T_0425b_row5_col2\" class=\"data row5 col2\" >0.183928</td>\n",
       "      <td id=\"T_0425b_row5_col3\" class=\"data row5 col3\" >0.185071</td>\n",
       "      <td id=\"T_0425b_row5_col4\" class=\"data row5 col4\" >0.140647</td>\n",
       "      <td id=\"T_0425b_row5_col5\" class=\"data row5 col5\" >1.000000</td>\n",
       "      <td id=\"T_0425b_row5_col6\" class=\"data row5 col6\" >0.033561</td>\n",
       "      <td id=\"T_0425b_row5_col7\" class=\"data row5 col7\" >0.173844</td>\n",
       "    </tr>\n",
       "    <tr>\n",
       "      <th id=\"T_0425b_level0_row6\" class=\"row_heading level0 row6\" >Age</th>\n",
       "      <td id=\"T_0425b_row6_col0\" class=\"data row6 col0\" >0.263514</td>\n",
       "      <td id=\"T_0425b_row6_col1\" class=\"data row6 col1\" >0.239528</td>\n",
       "      <td id=\"T_0425b_row6_col2\" class=\"data row6 col2\" >-0.113970</td>\n",
       "      <td id=\"T_0425b_row6_col3\" class=\"data row6 col3\" >-0.042163</td>\n",
       "      <td id=\"T_0425b_row6_col4\" class=\"data row6 col4\" >0.036242</td>\n",
       "      <td id=\"T_0425b_row6_col5\" class=\"data row6 col5\" >0.033561</td>\n",
       "      <td id=\"T_0425b_row6_col6\" class=\"data row6 col6\" >1.000000</td>\n",
       "      <td id=\"T_0425b_row6_col7\" class=\"data row6 col7\" >0.238356</td>\n",
       "    </tr>\n",
       "    <tr>\n",
       "      <th id=\"T_0425b_level0_row7\" class=\"row_heading level0 row7\" >Outcome</th>\n",
       "      <td id=\"T_0425b_row7_col0\" class=\"data row7 col0\" >0.466581</td>\n",
       "      <td id=\"T_0425b_row7_col1\" class=\"data row7 col1\" >0.065068</td>\n",
       "      <td id=\"T_0425b_row7_col2\" class=\"data row7 col2\" >0.074752</td>\n",
       "      <td id=\"T_0425b_row7_col3\" class=\"data row7 col3\" >0.130548</td>\n",
       "      <td id=\"T_0425b_row7_col4\" class=\"data row7 col4\" >0.292695</td>\n",
       "      <td id=\"T_0425b_row7_col5\" class=\"data row7 col5\" >0.173844</td>\n",
       "      <td id=\"T_0425b_row7_col6\" class=\"data row7 col6\" >0.238356</td>\n",
       "      <td id=\"T_0425b_row7_col7\" class=\"data row7 col7\" >1.000000</td>\n",
       "    </tr>\n",
       "  </tbody>\n",
       "</table>\n"
      ],
      "text/plain": [
       "<pandas.io.formats.style.Styler at 0x7fd8c5a98dd0>"
      ]
     },
     "execution_count": 35,
     "metadata": {},
     "output_type": "execute_result"
    }
   ],
   "source": [
    "DB.corr().style.set_properties(**{'background-color': '#b9e192',\n",
    "'color': 'black',\n",
    "'border-color': 'darkblack'})"
   ]
  },
  {
   "cell_type": "code",
   "execution_count": 36,
   "id": "0d670881",
   "metadata": {},
   "outputs": [],
   "source": [
    "from sklearn.model_selection import train_test_split\n",
    "from sklearn.linear_model import LogisticRegression\n",
    "from sklearn.metrics import accuracy_score"
   ]
  },
  {
   "cell_type": "code",
   "execution_count": 37,
   "id": "db1709c5",
   "metadata": {},
   "outputs": [
    {
     "data": {
      "text/plain": [
       "target\n",
       "1    660\n",
       "0    552\n",
       "Name: count, dtype: int64"
      ]
     },
     "execution_count": 37,
     "metadata": {},
     "output_type": "execute_result"
    }
   ],
   "source": [
    "new_Heart_Dataset['target'].value_counts()"
   ]
  },
  {
   "cell_type": "code",
   "execution_count": 38,
   "id": "9773b4ce",
   "metadata": {},
   "outputs": [
    {
     "data": {
      "text/plain": [
       "Outcome\n",
       "0    500\n",
       "1    268\n",
       "Name: count, dtype: int64"
      ]
     },
     "execution_count": 38,
     "metadata": {},
     "output_type": "execute_result"
    }
   ],
   "source": [
    "DB['Outcome'].value_counts()"
   ]
  },
  {
   "cell_type": "code",
   "execution_count": 39,
   "id": "0a5a8095",
   "metadata": {},
   "outputs": [],
   "source": [
    "X_heart = new_Heart_Dataset.drop(columns='target',axis=1)\n",
    "Y_heart = new_Heart_Dataset['target']"
   ]
  },
  {
   "cell_type": "code",
   "execution_count": 40,
   "id": "5183f209",
   "metadata": {},
   "outputs": [
    {
     "data": {
      "text/html": [
       "<div>\n",
       "<style scoped>\n",
       "    .dataframe tbody tr th:only-of-type {\n",
       "        vertical-align: middle;\n",
       "    }\n",
       "\n",
       "    .dataframe tbody tr th {\n",
       "        vertical-align: top;\n",
       "    }\n",
       "\n",
       "    .dataframe thead th {\n",
       "        text-align: right;\n",
       "    }\n",
       "</style>\n",
       "<table border=\"1\" class=\"dataframe\">\n",
       "  <thead>\n",
       "    <tr style=\"text-align: right;\">\n",
       "      <th></th>\n",
       "      <th>age</th>\n",
       "      <th>sex</th>\n",
       "      <th>cp</th>\n",
       "      <th>thalach</th>\n",
       "      <th>oldpeak</th>\n",
       "      <th>exang</th>\n",
       "      <th>slope</th>\n",
       "      <th>ca</th>\n",
       "      <th>thal</th>\n",
       "    </tr>\n",
       "  </thead>\n",
       "  <tbody>\n",
       "    <tr>\n",
       "      <th>0</th>\n",
       "      <td>65</td>\n",
       "      <td>0</td>\n",
       "      <td>2</td>\n",
       "      <td>157</td>\n",
       "      <td>0.8</td>\n",
       "      <td>0</td>\n",
       "      <td>2</td>\n",
       "      <td>1</td>\n",
       "      <td>2</td>\n",
       "    </tr>\n",
       "    <tr>\n",
       "      <th>1</th>\n",
       "      <td>55</td>\n",
       "      <td>0</td>\n",
       "      <td>0</td>\n",
       "      <td>130</td>\n",
       "      <td>2.0</td>\n",
       "      <td>1</td>\n",
       "      <td>1</td>\n",
       "      <td>1</td>\n",
       "      <td>3</td>\n",
       "    </tr>\n",
       "    <tr>\n",
       "      <th>2</th>\n",
       "      <td>54</td>\n",
       "      <td>0</td>\n",
       "      <td>1</td>\n",
       "      <td>159</td>\n",
       "      <td>0.0</td>\n",
       "      <td>1</td>\n",
       "      <td>2</td>\n",
       "      <td>1</td>\n",
       "      <td>2</td>\n",
       "    </tr>\n",
       "    <tr>\n",
       "      <th>3</th>\n",
       "      <td>41</td>\n",
       "      <td>0</td>\n",
       "      <td>1</td>\n",
       "      <td>163</td>\n",
       "      <td>0.0</td>\n",
       "      <td>0</td>\n",
       "      <td>2</td>\n",
       "      <td>0</td>\n",
       "      <td>2</td>\n",
       "    </tr>\n",
       "    <tr>\n",
       "      <th>4</th>\n",
       "      <td>43</td>\n",
       "      <td>1</td>\n",
       "      <td>0</td>\n",
       "      <td>181</td>\n",
       "      <td>1.2</td>\n",
       "      <td>0</td>\n",
       "      <td>1</td>\n",
       "      <td>0</td>\n",
       "      <td>2</td>\n",
       "    </tr>\n",
       "    <tr>\n",
       "      <th>...</th>\n",
       "      <td>...</td>\n",
       "      <td>...</td>\n",
       "      <td>...</td>\n",
       "      <td>...</td>\n",
       "      <td>...</td>\n",
       "      <td>...</td>\n",
       "      <td>...</td>\n",
       "      <td>...</td>\n",
       "      <td>...</td>\n",
       "    </tr>\n",
       "    <tr>\n",
       "      <th>1207</th>\n",
       "      <td>58</td>\n",
       "      <td>1</td>\n",
       "      <td>2</td>\n",
       "      <td>165</td>\n",
       "      <td>0.0</td>\n",
       "      <td>0</td>\n",
       "      <td>2</td>\n",
       "      <td>0</td>\n",
       "      <td>2</td>\n",
       "    </tr>\n",
       "    <tr>\n",
       "      <th>1208</th>\n",
       "      <td>42</td>\n",
       "      <td>1</td>\n",
       "      <td>0</td>\n",
       "      <td>178</td>\n",
       "      <td>0.0</td>\n",
       "      <td>0</td>\n",
       "      <td>2</td>\n",
       "      <td>0</td>\n",
       "      <td>2</td>\n",
       "    </tr>\n",
       "    <tr>\n",
       "      <th>1209</th>\n",
       "      <td>65</td>\n",
       "      <td>0</td>\n",
       "      <td>2</td>\n",
       "      <td>151</td>\n",
       "      <td>0.8</td>\n",
       "      <td>0</td>\n",
       "      <td>2</td>\n",
       "      <td>0</td>\n",
       "      <td>2</td>\n",
       "    </tr>\n",
       "    <tr>\n",
       "      <th>1210</th>\n",
       "      <td>54</td>\n",
       "      <td>1</td>\n",
       "      <td>2</td>\n",
       "      <td>165</td>\n",
       "      <td>1.6</td>\n",
       "      <td>0</td>\n",
       "      <td>2</td>\n",
       "      <td>0</td>\n",
       "      <td>3</td>\n",
       "    </tr>\n",
       "    <tr>\n",
       "      <th>1211</th>\n",
       "      <td>62</td>\n",
       "      <td>0</td>\n",
       "      <td>0</td>\n",
       "      <td>163</td>\n",
       "      <td>0.0</td>\n",
       "      <td>0</td>\n",
       "      <td>2</td>\n",
       "      <td>0</td>\n",
       "      <td>2</td>\n",
       "    </tr>\n",
       "  </tbody>\n",
       "</table>\n",
       "<p>1212 rows × 9 columns</p>\n",
       "</div>"
      ],
      "text/plain": [
       "      age  sex  cp  thalach  oldpeak  exang  slope  ca  thal\n",
       "0      65    0   2      157      0.8      0      2   1     2\n",
       "1      55    0   0      130      2.0      1      1   1     3\n",
       "2      54    0   1      159      0.0      1      2   1     2\n",
       "3      41    0   1      163      0.0      0      2   0     2\n",
       "4      43    1   0      181      1.2      0      1   0     2\n",
       "...   ...  ...  ..      ...      ...    ...    ...  ..   ...\n",
       "1207   58    1   2      165      0.0      0      2   0     2\n",
       "1208   42    1   0      178      0.0      0      2   0     2\n",
       "1209   65    0   2      151      0.8      0      2   0     2\n",
       "1210   54    1   2      165      1.6      0      2   0     3\n",
       "1211   62    0   0      163      0.0      0      2   0     2\n",
       "\n",
       "[1212 rows x 9 columns]"
      ]
     },
     "execution_count": 40,
     "metadata": {},
     "output_type": "execute_result"
    }
   ],
   "source": [
    "X_heart"
   ]
  },
  {
   "cell_type": "code",
   "execution_count": 41,
   "id": "804d9f90",
   "metadata": {},
   "outputs": [
    {
     "data": {
      "text/plain": [
       "0       1\n",
       "1       0\n",
       "2       1\n",
       "3       1\n",
       "4       1\n",
       "       ..\n",
       "1207    1\n",
       "1208    1\n",
       "1209    1\n",
       "1210    1\n",
       "1211    1\n",
       "Name: target, Length: 1212, dtype: int64"
      ]
     },
     "execution_count": 41,
     "metadata": {},
     "output_type": "execute_result"
    }
   ],
   "source": [
    "Y_heart"
   ]
  },
  {
   "cell_type": "code",
   "execution_count": 42,
   "id": "adb26d7a",
   "metadata": {},
   "outputs": [],
   "source": [
    "X_train_h,X_test_h,Y_train_h,Y_test_h = train_test_split(X_heart,Y_heart,test_size=0.2)"
   ]
  },
  {
   "cell_type": "code",
   "execution_count": 43,
   "id": "29955ae1",
   "metadata": {},
   "outputs": [
    {
     "data": {
      "text/plain": [
       "(969, 9)"
      ]
     },
     "execution_count": 43,
     "metadata": {},
     "output_type": "execute_result"
    }
   ],
   "source": [
    "X_train_h.shape"
   ]
  },
  {
   "cell_type": "code",
   "execution_count": 44,
   "id": "0041e953",
   "metadata": {},
   "outputs": [
    {
     "data": {
      "text/plain": [
       "(243, 9)"
      ]
     },
     "execution_count": 44,
     "metadata": {},
     "output_type": "execute_result"
    }
   ],
   "source": [
    "X_test_h.shape"
   ]
  },
  {
   "cell_type": "code",
   "execution_count": 45,
   "id": "e510b581",
   "metadata": {},
   "outputs": [
    {
     "data": {
      "text/plain": [
       "(969,)"
      ]
     },
     "execution_count": 45,
     "metadata": {},
     "output_type": "execute_result"
    }
   ],
   "source": [
    "Y_train_h.shape"
   ]
  },
  {
   "cell_type": "code",
   "execution_count": 46,
   "id": "ec3a21d0",
   "metadata": {},
   "outputs": [
    {
     "data": {
      "text/plain": [
       "(243,)"
      ]
     },
     "execution_count": 46,
     "metadata": {},
     "output_type": "execute_result"
    }
   ],
   "source": [
    "Y_test_h.shape"
   ]
  },
  {
   "cell_type": "markdown",
   "id": "4892dac7",
   "metadata": {},
   "source": [
    "<h2>Model Training</h2>"
   ]
  },
  {
   "cell_type": "code",
   "execution_count": 60,
   "id": "341bb73e",
   "metadata": {},
   "outputs": [],
   "source": [
    "model = LogisticRegression()"
   ]
  },
  {
   "cell_type": "code",
   "execution_count": 85,
   "id": "74f2e968",
   "metadata": {},
   "outputs": [
    {
     "name": "stderr",
     "output_type": "stream",
     "text": [
      "/home/anurag10/anaconda3/lib/python3.11/site-packages/sklearn/linear_model/_logistic.py:460: ConvergenceWarning: lbfgs failed to converge (status=1):\n",
      "STOP: TOTAL NO. of ITERATIONS REACHED LIMIT.\n",
      "\n",
      "Increase the number of iterations (max_iter) or scale the data as shown in:\n",
      "    https://scikit-learn.org/stable/modules/preprocessing.html\n",
      "Please also refer to the documentation for alternative solver options:\n",
      "    https://scikit-learn.org/stable/modules/linear_model.html#logistic-regression\n",
      "  n_iter_i = _check_optimize_result(\n"
     ]
    },
    {
     "data": {
      "text/html": [
       "<style>#sk-container-id-5 {color: black;}#sk-container-id-5 pre{padding: 0;}#sk-container-id-5 div.sk-toggleable {background-color: white;}#sk-container-id-5 label.sk-toggleable__label {cursor: pointer;display: block;width: 100%;margin-bottom: 0;padding: 0.3em;box-sizing: border-box;text-align: center;}#sk-container-id-5 label.sk-toggleable__label-arrow:before {content: \"▸\";float: left;margin-right: 0.25em;color: #696969;}#sk-container-id-5 label.sk-toggleable__label-arrow:hover:before {color: black;}#sk-container-id-5 div.sk-estimator:hover label.sk-toggleable__label-arrow:before {color: black;}#sk-container-id-5 div.sk-toggleable__content {max-height: 0;max-width: 0;overflow: hidden;text-align: left;background-color: #f0f8ff;}#sk-container-id-5 div.sk-toggleable__content pre {margin: 0.2em;color: black;border-radius: 0.25em;background-color: #f0f8ff;}#sk-container-id-5 input.sk-toggleable__control:checked~div.sk-toggleable__content {max-height: 200px;max-width: 100%;overflow: auto;}#sk-container-id-5 input.sk-toggleable__control:checked~label.sk-toggleable__label-arrow:before {content: \"▾\";}#sk-container-id-5 div.sk-estimator input.sk-toggleable__control:checked~label.sk-toggleable__label {background-color: #d4ebff;}#sk-container-id-5 div.sk-label input.sk-toggleable__control:checked~label.sk-toggleable__label {background-color: #d4ebff;}#sk-container-id-5 input.sk-hidden--visually {border: 0;clip: rect(1px 1px 1px 1px);clip: rect(1px, 1px, 1px, 1px);height: 1px;margin: -1px;overflow: hidden;padding: 0;position: absolute;width: 1px;}#sk-container-id-5 div.sk-estimator {font-family: monospace;background-color: #f0f8ff;border: 1px dotted black;border-radius: 0.25em;box-sizing: border-box;margin-bottom: 0.5em;}#sk-container-id-5 div.sk-estimator:hover {background-color: #d4ebff;}#sk-container-id-5 div.sk-parallel-item::after {content: \"\";width: 100%;border-bottom: 1px solid gray;flex-grow: 1;}#sk-container-id-5 div.sk-label:hover label.sk-toggleable__label {background-color: #d4ebff;}#sk-container-id-5 div.sk-serial::before {content: \"\";position: absolute;border-left: 1px solid gray;box-sizing: border-box;top: 0;bottom: 0;left: 50%;z-index: 0;}#sk-container-id-5 div.sk-serial {display: flex;flex-direction: column;align-items: center;background-color: white;padding-right: 0.2em;padding-left: 0.2em;position: relative;}#sk-container-id-5 div.sk-item {position: relative;z-index: 1;}#sk-container-id-5 div.sk-parallel {display: flex;align-items: stretch;justify-content: center;background-color: white;position: relative;}#sk-container-id-5 div.sk-item::before, #sk-container-id-5 div.sk-parallel-item::before {content: \"\";position: absolute;border-left: 1px solid gray;box-sizing: border-box;top: 0;bottom: 0;left: 50%;z-index: -1;}#sk-container-id-5 div.sk-parallel-item {display: flex;flex-direction: column;z-index: 1;position: relative;background-color: white;}#sk-container-id-5 div.sk-parallel-item:first-child::after {align-self: flex-end;width: 50%;}#sk-container-id-5 div.sk-parallel-item:last-child::after {align-self: flex-start;width: 50%;}#sk-container-id-5 div.sk-parallel-item:only-child::after {width: 0;}#sk-container-id-5 div.sk-dashed-wrapped {border: 1px dashed gray;margin: 0 0.4em 0.5em 0.4em;box-sizing: border-box;padding-bottom: 0.4em;background-color: white;}#sk-container-id-5 div.sk-label label {font-family: monospace;font-weight: bold;display: inline-block;line-height: 1.2em;}#sk-container-id-5 div.sk-label-container {text-align: center;}#sk-container-id-5 div.sk-container {/* jupyter's `normalize.less` sets `[hidden] { display: none; }` but bootstrap.min.css set `[hidden] { display: none !important; }` so we also need the `!important` here to be able to override the default hidden behavior on the sphinx rendered scikit-learn.org. See: https://github.com/scikit-learn/scikit-learn/issues/21755 */display: inline-block !important;position: relative;}#sk-container-id-5 div.sk-text-repr-fallback {display: none;}</style><div id=\"sk-container-id-5\" class=\"sk-top-container\"><div class=\"sk-text-repr-fallback\"><pre>LogisticRegression()</pre><b>In a Jupyter environment, please rerun this cell to show the HTML representation or trust the notebook. <br />On GitHub, the HTML representation is unable to render, please try loading this page with nbviewer.org.</b></div><div class=\"sk-container\" hidden><div class=\"sk-item\"><div class=\"sk-estimator sk-toggleable\"><input class=\"sk-toggleable__control sk-hidden--visually\" id=\"sk-estimator-id-5\" type=\"checkbox\" checked><label for=\"sk-estimator-id-5\" class=\"sk-toggleable__label sk-toggleable__label-arrow\">LogisticRegression</label><div class=\"sk-toggleable__content\"><pre>LogisticRegression()</pre></div></div></div></div></div>"
      ],
      "text/plain": [
       "LogisticRegression()"
      ]
     },
     "execution_count": 85,
     "metadata": {},
     "output_type": "execute_result"
    }
   ],
   "source": [
    "# Training logistic regression model on tranning data\n",
    "model.fit(X_train_h,Y_train_h)"
   ]
  },
  {
   "cell_type": "code",
   "execution_count": 62,
   "id": "606104bc",
   "metadata": {},
   "outputs": [],
   "source": [
    "# Model Evaluation\n",
    "X_train_prediction = model.predict(X_test_h)\n",
    "X_train_data_accuracy = accuracy_score(X_train_prediction,Y_test_h)"
   ]
  },
  {
   "cell_type": "code",
   "execution_count": 63,
   "id": "1524fcab",
   "metadata": {},
   "outputs": [
    {
     "data": {
      "text/plain": [
       "0.8765432098765432"
      ]
     },
     "execution_count": 63,
     "metadata": {},
     "output_type": "execute_result"
    }
   ],
   "source": [
    "X_train_data_accuracy"
   ]
  },
  {
   "cell_type": "code",
   "execution_count": 64,
   "id": "e2857c9c",
   "metadata": {},
   "outputs": [],
   "source": [
    "input_data_h = (41,0,1,172,0,1.4,2,0,2)"
   ]
  },
  {
   "cell_type": "code",
   "execution_count": 65,
   "id": "b82d9f2c",
   "metadata": {},
   "outputs": [],
   "source": [
    "# change i/p data to numpy array\n",
    "input_data_h_as_numpy = np.asarray(input_data_h)"
   ]
  },
  {
   "cell_type": "code",
   "execution_count": 66,
   "id": "02d17abe",
   "metadata": {},
   "outputs": [],
   "source": [
    "# reshape the numpy array as we are predicting for only on one data point\n",
    "input_data_h_reshape = input_data_h_as_numpy.reshape(1,-1)"
   ]
  },
  {
   "cell_type": "code",
   "execution_count": 67,
   "id": "d1d56bb1",
   "metadata": {},
   "outputs": [
    {
     "data": {
      "text/plain": [
       "array([[ 41. ,   0. ,   1. , 172. ,   0. ,   1.4,   2. ,   0. ,   2. ]])"
      ]
     },
     "execution_count": 67,
     "metadata": {},
     "output_type": "execute_result"
    }
   ],
   "source": [
    "input_data_h_reshape"
   ]
  },
  {
   "cell_type": "code",
   "execution_count": 68,
   "id": "6b1076b5",
   "metadata": {},
   "outputs": [
    {
     "name": "stderr",
     "output_type": "stream",
     "text": [
      "/home/anurag10/anaconda3/lib/python3.11/site-packages/sklearn/base.py:464: UserWarning: X does not have valid feature names, but LogisticRegression was fitted with feature names\n",
      "  warnings.warn(\n"
     ]
    }
   ],
   "source": [
    "prediction_of_heart = model.predict(input_data_h_reshape)"
   ]
  },
  {
   "cell_type": "code",
   "execution_count": 69,
   "id": "106aac01",
   "metadata": {},
   "outputs": [
    {
     "data": {
      "text/plain": [
       "array([1])"
      ]
     },
     "execution_count": 69,
     "metadata": {},
     "output_type": "execute_result"
    }
   ],
   "source": [
    "prediction_of_heart"
   ]
  },
  {
   "cell_type": "code",
   "execution_count": 117,
   "id": "bc95798d",
   "metadata": {
    "scrolled": true
   },
   "outputs": [
    {
     "name": "stdout",
     "output_type": "stream",
     "text": [
      "the person does not have heart Disease\n"
     ]
    }
   ],
   "source": [
    "if prediction_of_heart[0]==1:\n",
    "    print(\"the person does not have heart Disease\")\n",
    "else:\n",
    "    print(\"the person has heart Disease\")"
   ]
  },
  {
   "cell_type": "markdown",
   "id": "a15e3f94",
   "metadata": {},
   "source": [
    "# DECISION TREE"
   ]
  },
  {
   "cell_type": "code",
   "execution_count": 118,
   "id": "83c0d668",
   "metadata": {},
   "outputs": [
    {
     "name": "stdout",
     "output_type": "stream",
     "text": [
      "Accuracy: 1.0\n"
     ]
    }
   ],
   "source": [
    "from sklearn.tree import DecisionTreeClassifier # Import Decision Tree Classifier\n",
    "\n",
    "from sklearn import metrics #Import scikit-learn metrics module for accuracy calculation\n",
    "\n",
    "# Create Decision Tree classifer object\n",
    "clf = DecisionTreeClassifier()\n",
    "# Train Decision Tree Classifer\n",
    "clf = clf.fit(X_train_h,Y_train_h)\n",
    "#Predict the response for test dataset\n",
    "y_pred = clf.predict(X_test_h)\n",
    "print(\"Accuracy:\",metrics.accuracy_score(y_pred,Y_test_h))"
   ]
  },
  {
   "cell_type": "code",
   "execution_count": 72,
   "id": "749ecac1",
   "metadata": {},
   "outputs": [
    {
     "name": "stdout",
     "output_type": "stream",
     "text": [
      "Accuracy: 0.8189300411522634\n"
     ]
    }
   ],
   "source": [
    "clf = DecisionTreeClassifier(criterion=\"entropy\", max_depth=3)\n",
    "# Train Decision Tree Classifer\n",
    "clf = clf.fit(X_train_h,Y_train_h)\n",
    "#Predict the response for test dataset\n",
    "y_pred = clf.predict(X_test_h)\n",
    "print(\"Accuracy:\",metrics.accuracy_score(Y_test_h, y_pred))"
   ]
  },
  {
   "cell_type": "markdown",
   "id": "607c2240",
   "metadata": {},
   "source": [
    "# Diabetes dataset  "
   ]
  },
  {
   "cell_type": "code",
   "execution_count": 86,
   "id": "4055eabc",
   "metadata": {},
   "outputs": [],
   "source": [
    "from sklearn.preprocessing import StandardScaler\n",
    "from sklearn.model_selection import train_test_split\n",
    "from sklearn import svm\n",
    "from sklearn.metrics import accuracy_score"
   ]
  },
  {
   "cell_type": "code",
   "execution_count": 87,
   "id": "f80e8f5c",
   "metadata": {},
   "outputs": [
    {
     "data": {
      "text/html": [
       "<div>\n",
       "<style scoped>\n",
       "    .dataframe tbody tr th:only-of-type {\n",
       "        vertical-align: middle;\n",
       "    }\n",
       "\n",
       "    .dataframe tbody tr th {\n",
       "        vertical-align: top;\n",
       "    }\n",
       "\n",
       "    .dataframe thead th {\n",
       "        text-align: right;\n",
       "    }\n",
       "</style>\n",
       "<table border=\"1\" class=\"dataframe\">\n",
       "  <thead>\n",
       "    <tr style=\"text-align: right;\">\n",
       "      <th></th>\n",
       "      <th>Glucose</th>\n",
       "      <th>BloodPressure</th>\n",
       "      <th>SkinThickness</th>\n",
       "      <th>Insulin</th>\n",
       "      <th>BMI</th>\n",
       "      <th>DiabetesPedigreeFunction</th>\n",
       "      <th>Age</th>\n",
       "    </tr>\n",
       "    <tr>\n",
       "      <th>Outcome</th>\n",
       "      <th></th>\n",
       "      <th></th>\n",
       "      <th></th>\n",
       "      <th></th>\n",
       "      <th></th>\n",
       "      <th></th>\n",
       "      <th></th>\n",
       "    </tr>\n",
       "  </thead>\n",
       "  <tbody>\n",
       "    <tr>\n",
       "      <th>0</th>\n",
       "      <td>109.980000</td>\n",
       "      <td>68.184000</td>\n",
       "      <td>19.664000</td>\n",
       "      <td>68.792000</td>\n",
       "      <td>30.304200</td>\n",
       "      <td>0.429734</td>\n",
       "      <td>31.190000</td>\n",
       "    </tr>\n",
       "    <tr>\n",
       "      <th>1</th>\n",
       "      <td>141.257463</td>\n",
       "      <td>70.824627</td>\n",
       "      <td>22.164179</td>\n",
       "      <td>100.335821</td>\n",
       "      <td>35.142537</td>\n",
       "      <td>0.550500</td>\n",
       "      <td>37.067164</td>\n",
       "    </tr>\n",
       "  </tbody>\n",
       "</table>\n",
       "</div>"
      ],
      "text/plain": [
       "            Glucose  BloodPressure  SkinThickness     Insulin        BMI  \\\n",
       "Outcome                                                                    \n",
       "0        109.980000      68.184000      19.664000   68.792000  30.304200   \n",
       "1        141.257463      70.824627      22.164179  100.335821  35.142537   \n",
       "\n",
       "         DiabetesPedigreeFunction        Age  \n",
       "Outcome                                       \n",
       "0                        0.429734  31.190000  \n",
       "1                        0.550500  37.067164  "
      ]
     },
     "execution_count": 87,
     "metadata": {},
     "output_type": "execute_result"
    }
   ],
   "source": [
    "DB.groupby('Outcome').mean()"
   ]
  },
  {
   "cell_type": "code",
   "execution_count": 88,
   "id": "48ce8b53",
   "metadata": {},
   "outputs": [],
   "source": [
    "X_d = DB.drop(columns='Outcome',axis=1)\n",
    "Y_d = DB['Outcome']"
   ]
  },
  {
   "cell_type": "code",
   "execution_count": 89,
   "id": "bf3aee24",
   "metadata": {},
   "outputs": [
    {
     "data": {
      "text/html": [
       "<div>\n",
       "<style scoped>\n",
       "    .dataframe tbody tr th:only-of-type {\n",
       "        vertical-align: middle;\n",
       "    }\n",
       "\n",
       "    .dataframe tbody tr th {\n",
       "        vertical-align: top;\n",
       "    }\n",
       "\n",
       "    .dataframe thead th {\n",
       "        text-align: right;\n",
       "    }\n",
       "</style>\n",
       "<table border=\"1\" class=\"dataframe\">\n",
       "  <thead>\n",
       "    <tr style=\"text-align: right;\">\n",
       "      <th></th>\n",
       "      <th>Glucose</th>\n",
       "      <th>BloodPressure</th>\n",
       "      <th>SkinThickness</th>\n",
       "      <th>Insulin</th>\n",
       "      <th>BMI</th>\n",
       "      <th>DiabetesPedigreeFunction</th>\n",
       "      <th>Age</th>\n",
       "    </tr>\n",
       "  </thead>\n",
       "  <tbody>\n",
       "    <tr>\n",
       "      <th>0</th>\n",
       "      <td>148</td>\n",
       "      <td>72</td>\n",
       "      <td>35</td>\n",
       "      <td>0</td>\n",
       "      <td>33.6</td>\n",
       "      <td>0.627</td>\n",
       "      <td>50</td>\n",
       "    </tr>\n",
       "    <tr>\n",
       "      <th>1</th>\n",
       "      <td>85</td>\n",
       "      <td>66</td>\n",
       "      <td>29</td>\n",
       "      <td>0</td>\n",
       "      <td>26.6</td>\n",
       "      <td>0.351</td>\n",
       "      <td>31</td>\n",
       "    </tr>\n",
       "    <tr>\n",
       "      <th>2</th>\n",
       "      <td>183</td>\n",
       "      <td>64</td>\n",
       "      <td>0</td>\n",
       "      <td>0</td>\n",
       "      <td>23.3</td>\n",
       "      <td>0.672</td>\n",
       "      <td>32</td>\n",
       "    </tr>\n",
       "    <tr>\n",
       "      <th>3</th>\n",
       "      <td>89</td>\n",
       "      <td>66</td>\n",
       "      <td>23</td>\n",
       "      <td>94</td>\n",
       "      <td>28.1</td>\n",
       "      <td>0.167</td>\n",
       "      <td>21</td>\n",
       "    </tr>\n",
       "    <tr>\n",
       "      <th>4</th>\n",
       "      <td>137</td>\n",
       "      <td>40</td>\n",
       "      <td>35</td>\n",
       "      <td>168</td>\n",
       "      <td>43.1</td>\n",
       "      <td>2.288</td>\n",
       "      <td>33</td>\n",
       "    </tr>\n",
       "    <tr>\n",
       "      <th>...</th>\n",
       "      <td>...</td>\n",
       "      <td>...</td>\n",
       "      <td>...</td>\n",
       "      <td>...</td>\n",
       "      <td>...</td>\n",
       "      <td>...</td>\n",
       "      <td>...</td>\n",
       "    </tr>\n",
       "    <tr>\n",
       "      <th>763</th>\n",
       "      <td>101</td>\n",
       "      <td>76</td>\n",
       "      <td>48</td>\n",
       "      <td>180</td>\n",
       "      <td>32.9</td>\n",
       "      <td>0.171</td>\n",
       "      <td>63</td>\n",
       "    </tr>\n",
       "    <tr>\n",
       "      <th>764</th>\n",
       "      <td>122</td>\n",
       "      <td>70</td>\n",
       "      <td>27</td>\n",
       "      <td>0</td>\n",
       "      <td>36.8</td>\n",
       "      <td>0.340</td>\n",
       "      <td>27</td>\n",
       "    </tr>\n",
       "    <tr>\n",
       "      <th>765</th>\n",
       "      <td>121</td>\n",
       "      <td>72</td>\n",
       "      <td>23</td>\n",
       "      <td>112</td>\n",
       "      <td>26.2</td>\n",
       "      <td>0.245</td>\n",
       "      <td>30</td>\n",
       "    </tr>\n",
       "    <tr>\n",
       "      <th>766</th>\n",
       "      <td>126</td>\n",
       "      <td>60</td>\n",
       "      <td>0</td>\n",
       "      <td>0</td>\n",
       "      <td>30.1</td>\n",
       "      <td>0.349</td>\n",
       "      <td>47</td>\n",
       "    </tr>\n",
       "    <tr>\n",
       "      <th>767</th>\n",
       "      <td>93</td>\n",
       "      <td>70</td>\n",
       "      <td>31</td>\n",
       "      <td>0</td>\n",
       "      <td>30.4</td>\n",
       "      <td>0.315</td>\n",
       "      <td>23</td>\n",
       "    </tr>\n",
       "  </tbody>\n",
       "</table>\n",
       "<p>768 rows × 7 columns</p>\n",
       "</div>"
      ],
      "text/plain": [
       "     Glucose  BloodPressure  SkinThickness  Insulin   BMI  \\\n",
       "0        148             72             35        0  33.6   \n",
       "1         85             66             29        0  26.6   \n",
       "2        183             64              0        0  23.3   \n",
       "3         89             66             23       94  28.1   \n",
       "4        137             40             35      168  43.1   \n",
       "..       ...            ...            ...      ...   ...   \n",
       "763      101             76             48      180  32.9   \n",
       "764      122             70             27        0  36.8   \n",
       "765      121             72             23      112  26.2   \n",
       "766      126             60              0        0  30.1   \n",
       "767       93             70             31        0  30.4   \n",
       "\n",
       "     DiabetesPedigreeFunction  Age  \n",
       "0                       0.627   50  \n",
       "1                       0.351   31  \n",
       "2                       0.672   32  \n",
       "3                       0.167   21  \n",
       "4                       2.288   33  \n",
       "..                        ...  ...  \n",
       "763                     0.171   63  \n",
       "764                     0.340   27  \n",
       "765                     0.245   30  \n",
       "766                     0.349   47  \n",
       "767                     0.315   23  \n",
       "\n",
       "[768 rows x 7 columns]"
      ]
     },
     "execution_count": 89,
     "metadata": {},
     "output_type": "execute_result"
    }
   ],
   "source": [
    "X_d"
   ]
  },
  {
   "cell_type": "code",
   "execution_count": 90,
   "id": "08c9acc7",
   "metadata": {},
   "outputs": [
    {
     "data": {
      "text/plain": [
       "0      1\n",
       "1      0\n",
       "2      1\n",
       "3      0\n",
       "4      1\n",
       "      ..\n",
       "763    0\n",
       "764    0\n",
       "765    0\n",
       "766    1\n",
       "767    0\n",
       "Name: Outcome, Length: 768, dtype: int64"
      ]
     },
     "execution_count": 90,
     "metadata": {},
     "output_type": "execute_result"
    }
   ],
   "source": [
    "Y_d"
   ]
  },
  {
   "cell_type": "code",
   "execution_count": 91,
   "id": "7a225701",
   "metadata": {},
   "outputs": [],
   "source": [
    "X_train_d,X_text_d,Y_train_d,Y_test_d = train_test_split(X_d,Y_d,test_size=0.2,stratify=Y_d)"
   ]
  },
  {
   "cell_type": "code",
   "execution_count": 92,
   "id": "1aadf42f",
   "metadata": {},
   "outputs": [
    {
     "data": {
      "text/plain": [
       "(614, 7)"
      ]
     },
     "execution_count": 92,
     "metadata": {},
     "output_type": "execute_result"
    }
   ],
   "source": [
    " X_train_d.shape"
   ]
  },
  {
   "cell_type": "code",
   "execution_count": 93,
   "id": "e262de3f",
   "metadata": {},
   "outputs": [
    {
     "data": {
      "text/plain": [
       "(154, 7)"
      ]
     },
     "execution_count": 93,
     "metadata": {},
     "output_type": "execute_result"
    }
   ],
   "source": [
    "X_text_d.shape"
   ]
  },
  {
   "cell_type": "code",
   "execution_count": 94,
   "id": "093de013",
   "metadata": {},
   "outputs": [
    {
     "data": {
      "text/plain": [
       "(614,)"
      ]
     },
     "execution_count": 94,
     "metadata": {},
     "output_type": "execute_result"
    }
   ],
   "source": [
    "Y_train_d.shape"
   ]
  },
  {
   "cell_type": "code",
   "execution_count": 95,
   "id": "d71e68f1",
   "metadata": {},
   "outputs": [
    {
     "data": {
      "text/plain": [
       "(154,)"
      ]
     },
     "execution_count": 95,
     "metadata": {},
     "output_type": "execute_result"
    }
   ],
   "source": [
    "Y_test_d.shape"
   ]
  },
  {
   "cell_type": "markdown",
   "id": "3d2a1865",
   "metadata": {},
   "source": [
    "# Model Training"
   ]
  },
  {
   "cell_type": "code",
   "execution_count": 96,
   "id": "450881ba",
   "metadata": {},
   "outputs": [],
   "source": [
    "classifier = svm.SVC(kernel='linear')"
   ]
  },
  {
   "cell_type": "code",
   "execution_count": 97,
   "id": "4d24f8fd",
   "metadata": {},
   "outputs": [
    {
     "data": {
      "text/html": [
       "<style>#sk-container-id-6 {color: black;}#sk-container-id-6 pre{padding: 0;}#sk-container-id-6 div.sk-toggleable {background-color: white;}#sk-container-id-6 label.sk-toggleable__label {cursor: pointer;display: block;width: 100%;margin-bottom: 0;padding: 0.3em;box-sizing: border-box;text-align: center;}#sk-container-id-6 label.sk-toggleable__label-arrow:before {content: \"▸\";float: left;margin-right: 0.25em;color: #696969;}#sk-container-id-6 label.sk-toggleable__label-arrow:hover:before {color: black;}#sk-container-id-6 div.sk-estimator:hover label.sk-toggleable__label-arrow:before {color: black;}#sk-container-id-6 div.sk-toggleable__content {max-height: 0;max-width: 0;overflow: hidden;text-align: left;background-color: #f0f8ff;}#sk-container-id-6 div.sk-toggleable__content pre {margin: 0.2em;color: black;border-radius: 0.25em;background-color: #f0f8ff;}#sk-container-id-6 input.sk-toggleable__control:checked~div.sk-toggleable__content {max-height: 200px;max-width: 100%;overflow: auto;}#sk-container-id-6 input.sk-toggleable__control:checked~label.sk-toggleable__label-arrow:before {content: \"▾\";}#sk-container-id-6 div.sk-estimator input.sk-toggleable__control:checked~label.sk-toggleable__label {background-color: #d4ebff;}#sk-container-id-6 div.sk-label input.sk-toggleable__control:checked~label.sk-toggleable__label {background-color: #d4ebff;}#sk-container-id-6 input.sk-hidden--visually {border: 0;clip: rect(1px 1px 1px 1px);clip: rect(1px, 1px, 1px, 1px);height: 1px;margin: -1px;overflow: hidden;padding: 0;position: absolute;width: 1px;}#sk-container-id-6 div.sk-estimator {font-family: monospace;background-color: #f0f8ff;border: 1px dotted black;border-radius: 0.25em;box-sizing: border-box;margin-bottom: 0.5em;}#sk-container-id-6 div.sk-estimator:hover {background-color: #d4ebff;}#sk-container-id-6 div.sk-parallel-item::after {content: \"\";width: 100%;border-bottom: 1px solid gray;flex-grow: 1;}#sk-container-id-6 div.sk-label:hover label.sk-toggleable__label {background-color: #d4ebff;}#sk-container-id-6 div.sk-serial::before {content: \"\";position: absolute;border-left: 1px solid gray;box-sizing: border-box;top: 0;bottom: 0;left: 50%;z-index: 0;}#sk-container-id-6 div.sk-serial {display: flex;flex-direction: column;align-items: center;background-color: white;padding-right: 0.2em;padding-left: 0.2em;position: relative;}#sk-container-id-6 div.sk-item {position: relative;z-index: 1;}#sk-container-id-6 div.sk-parallel {display: flex;align-items: stretch;justify-content: center;background-color: white;position: relative;}#sk-container-id-6 div.sk-item::before, #sk-container-id-6 div.sk-parallel-item::before {content: \"\";position: absolute;border-left: 1px solid gray;box-sizing: border-box;top: 0;bottom: 0;left: 50%;z-index: -1;}#sk-container-id-6 div.sk-parallel-item {display: flex;flex-direction: column;z-index: 1;position: relative;background-color: white;}#sk-container-id-6 div.sk-parallel-item:first-child::after {align-self: flex-end;width: 50%;}#sk-container-id-6 div.sk-parallel-item:last-child::after {align-self: flex-start;width: 50%;}#sk-container-id-6 div.sk-parallel-item:only-child::after {width: 0;}#sk-container-id-6 div.sk-dashed-wrapped {border: 1px dashed gray;margin: 0 0.4em 0.5em 0.4em;box-sizing: border-box;padding-bottom: 0.4em;background-color: white;}#sk-container-id-6 div.sk-label label {font-family: monospace;font-weight: bold;display: inline-block;line-height: 1.2em;}#sk-container-id-6 div.sk-label-container {text-align: center;}#sk-container-id-6 div.sk-container {/* jupyter's `normalize.less` sets `[hidden] { display: none; }` but bootstrap.min.css set `[hidden] { display: none !important; }` so we also need the `!important` here to be able to override the default hidden behavior on the sphinx rendered scikit-learn.org. See: https://github.com/scikit-learn/scikit-learn/issues/21755 */display: inline-block !important;position: relative;}#sk-container-id-6 div.sk-text-repr-fallback {display: none;}</style><div id=\"sk-container-id-6\" class=\"sk-top-container\"><div class=\"sk-text-repr-fallback\"><pre>SVC(kernel=&#x27;linear&#x27;)</pre><b>In a Jupyter environment, please rerun this cell to show the HTML representation or trust the notebook. <br />On GitHub, the HTML representation is unable to render, please try loading this page with nbviewer.org.</b></div><div class=\"sk-container\" hidden><div class=\"sk-item\"><div class=\"sk-estimator sk-toggleable\"><input class=\"sk-toggleable__control sk-hidden--visually\" id=\"sk-estimator-id-6\" type=\"checkbox\" checked><label for=\"sk-estimator-id-6\" class=\"sk-toggleable__label sk-toggleable__label-arrow\">SVC</label><div class=\"sk-toggleable__content\"><pre>SVC(kernel=&#x27;linear&#x27;)</pre></div></div></div></div></div>"
      ],
      "text/plain": [
       "SVC(kernel='linear')"
      ]
     },
     "execution_count": 97,
     "metadata": {},
     "output_type": "execute_result"
    }
   ],
   "source": [
    "classifier.fit(X_train_d,Y_train_d)"
   ]
  },
  {
   "cell_type": "code",
   "execution_count": 98,
   "id": "efb8d8a3",
   "metadata": {},
   "outputs": [],
   "source": [
    "X_test_prediction_d = classifier.predict(X_train_d)\n",
    "training_data_accuracy_d = accuracy_score(X_test_prediction_d,Y_train_d)"
   ]
  },
  {
   "cell_type": "code",
   "execution_count": 99,
   "id": "544d4b00",
   "metadata": {},
   "outputs": [
    {
     "data": {
      "text/plain": [
       "0.7947882736156352"
      ]
     },
     "execution_count": 99,
     "metadata": {},
     "output_type": "execute_result"
    }
   ],
   "source": [
    "training_data_accuracy_d"
   ]
  },
  {
   "cell_type": "code",
   "execution_count": 100,
   "id": "72c29874",
   "metadata": {},
   "outputs": [],
   "source": [
    "input_data_d = (102,76,37,0,32.9,0.67,46)\n",
    "# change i/p data to numpy array\n",
    "input_data_d_as_numpy = np.asarray(input_data_d)"
   ]
  },
  {
   "cell_type": "code",
   "execution_count": 101,
   "id": "952c709c",
   "metadata": {},
   "outputs": [],
   "source": [
    "# reshape the numpy array as we are predicting for only on one data point\n",
    "input_data_d_reshape = input_data_d_as_numpy.reshape(1,-1)"
   ]
  },
  {
   "cell_type": "code",
   "execution_count": 102,
   "id": "b53d9549",
   "metadata": {
    "scrolled": true
   },
   "outputs": [
    {
     "data": {
      "text/plain": [
       "array([[102.  ,  76.  ,  37.  ,   0.  ,  32.9 ,   0.67,  46.  ]])"
      ]
     },
     "execution_count": 102,
     "metadata": {},
     "output_type": "execute_result"
    }
   ],
   "source": [
    "input_data_d_reshape"
   ]
  },
  {
   "cell_type": "code",
   "execution_count": 103,
   "id": "dd86d092",
   "metadata": {},
   "outputs": [
    {
     "name": "stdout",
     "output_type": "stream",
     "text": [
      "[0]\n"
     ]
    },
    {
     "name": "stderr",
     "output_type": "stream",
     "text": [
      "/home/anurag10/anaconda3/lib/python3.11/site-packages/sklearn/base.py:464: UserWarning: X does not have valid feature names, but SVC was fitted with feature names\n",
      "  warnings.warn(\n"
     ]
    }
   ],
   "source": [
    "prediction_of_diabetes = classifier.predict(input_data_d_reshape)\n",
    "print(prediction_of_diabetes)"
   ]
  },
  {
   "cell_type": "code",
   "execution_count": 104,
   "id": "33c1aaef",
   "metadata": {},
   "outputs": [
    {
     "name": "stdout",
     "output_type": "stream",
     "text": [
      "the person does not have diabetic Disease\n"
     ]
    }
   ],
   "source": [
    "if prediction_of_diabetes[0]==0:\n",
    "    print(\"the person does not have diabetic Disease\")\n",
    "else:\n",
    "    print(\"the person has diabetic Disease\")"
   ]
  },
  {
   "cell_type": "markdown",
   "id": "74790ef5",
   "metadata": {},
   "source": [
    "# Random Forest"
   ]
  },
  {
   "cell_type": "code",
   "execution_count": 111,
   "id": "2df80c0e",
   "metadata": {},
   "outputs": [
    {
     "data": {
      "text/html": [
       "<style>#sk-container-id-7 {color: black;}#sk-container-id-7 pre{padding: 0;}#sk-container-id-7 div.sk-toggleable {background-color: white;}#sk-container-id-7 label.sk-toggleable__label {cursor: pointer;display: block;width: 100%;margin-bottom: 0;padding: 0.3em;box-sizing: border-box;text-align: center;}#sk-container-id-7 label.sk-toggleable__label-arrow:before {content: \"▸\";float: left;margin-right: 0.25em;color: #696969;}#sk-container-id-7 label.sk-toggleable__label-arrow:hover:before {color: black;}#sk-container-id-7 div.sk-estimator:hover label.sk-toggleable__label-arrow:before {color: black;}#sk-container-id-7 div.sk-toggleable__content {max-height: 0;max-width: 0;overflow: hidden;text-align: left;background-color: #f0f8ff;}#sk-container-id-7 div.sk-toggleable__content pre {margin: 0.2em;color: black;border-radius: 0.25em;background-color: #f0f8ff;}#sk-container-id-7 input.sk-toggleable__control:checked~div.sk-toggleable__content {max-height: 200px;max-width: 100%;overflow: auto;}#sk-container-id-7 input.sk-toggleable__control:checked~label.sk-toggleable__label-arrow:before {content: \"▾\";}#sk-container-id-7 div.sk-estimator input.sk-toggleable__control:checked~label.sk-toggleable__label {background-color: #d4ebff;}#sk-container-id-7 div.sk-label input.sk-toggleable__control:checked~label.sk-toggleable__label {background-color: #d4ebff;}#sk-container-id-7 input.sk-hidden--visually {border: 0;clip: rect(1px 1px 1px 1px);clip: rect(1px, 1px, 1px, 1px);height: 1px;margin: -1px;overflow: hidden;padding: 0;position: absolute;width: 1px;}#sk-container-id-7 div.sk-estimator {font-family: monospace;background-color: #f0f8ff;border: 1px dotted black;border-radius: 0.25em;box-sizing: border-box;margin-bottom: 0.5em;}#sk-container-id-7 div.sk-estimator:hover {background-color: #d4ebff;}#sk-container-id-7 div.sk-parallel-item::after {content: \"\";width: 100%;border-bottom: 1px solid gray;flex-grow: 1;}#sk-container-id-7 div.sk-label:hover label.sk-toggleable__label {background-color: #d4ebff;}#sk-container-id-7 div.sk-serial::before {content: \"\";position: absolute;border-left: 1px solid gray;box-sizing: border-box;top: 0;bottom: 0;left: 50%;z-index: 0;}#sk-container-id-7 div.sk-serial {display: flex;flex-direction: column;align-items: center;background-color: white;padding-right: 0.2em;padding-left: 0.2em;position: relative;}#sk-container-id-7 div.sk-item {position: relative;z-index: 1;}#sk-container-id-7 div.sk-parallel {display: flex;align-items: stretch;justify-content: center;background-color: white;position: relative;}#sk-container-id-7 div.sk-item::before, #sk-container-id-7 div.sk-parallel-item::before {content: \"\";position: absolute;border-left: 1px solid gray;box-sizing: border-box;top: 0;bottom: 0;left: 50%;z-index: -1;}#sk-container-id-7 div.sk-parallel-item {display: flex;flex-direction: column;z-index: 1;position: relative;background-color: white;}#sk-container-id-7 div.sk-parallel-item:first-child::after {align-self: flex-end;width: 50%;}#sk-container-id-7 div.sk-parallel-item:last-child::after {align-self: flex-start;width: 50%;}#sk-container-id-7 div.sk-parallel-item:only-child::after {width: 0;}#sk-container-id-7 div.sk-dashed-wrapped {border: 1px dashed gray;margin: 0 0.4em 0.5em 0.4em;box-sizing: border-box;padding-bottom: 0.4em;background-color: white;}#sk-container-id-7 div.sk-label label {font-family: monospace;font-weight: bold;display: inline-block;line-height: 1.2em;}#sk-container-id-7 div.sk-label-container {text-align: center;}#sk-container-id-7 div.sk-container {/* jupyter's `normalize.less` sets `[hidden] { display: none; }` but bootstrap.min.css set `[hidden] { display: none !important; }` so we also need the `!important` here to be able to override the default hidden behavior on the sphinx rendered scikit-learn.org. See: https://github.com/scikit-learn/scikit-learn/issues/21755 */display: inline-block !important;position: relative;}#sk-container-id-7 div.sk-text-repr-fallback {display: none;}</style><div id=\"sk-container-id-7\" class=\"sk-top-container\"><div class=\"sk-text-repr-fallback\"><pre>RandomForestClassifier(n_estimators=200)</pre><b>In a Jupyter environment, please rerun this cell to show the HTML representation or trust the notebook. <br />On GitHub, the HTML representation is unable to render, please try loading this page with nbviewer.org.</b></div><div class=\"sk-container\" hidden><div class=\"sk-item\"><div class=\"sk-estimator sk-toggleable\"><input class=\"sk-toggleable__control sk-hidden--visually\" id=\"sk-estimator-id-7\" type=\"checkbox\" checked><label for=\"sk-estimator-id-7\" class=\"sk-toggleable__label sk-toggleable__label-arrow\">RandomForestClassifier</label><div class=\"sk-toggleable__content\"><pre>RandomForestClassifier(n_estimators=200)</pre></div></div></div></div></div>"
      ],
      "text/plain": [
       "RandomForestClassifier(n_estimators=200)"
      ]
     },
     "execution_count": 111,
     "metadata": {},
     "output_type": "execute_result"
    }
   ],
   "source": [
    "from sklearn.ensemble import RandomForestClassifier\n",
    "rfc = RandomForestClassifier(n_estimators=200)\n",
    "rfc.fit(X_train_d, Y_train_d)"
   ]
  },
  {
   "cell_type": "code",
   "execution_count": 116,
   "id": "4b75ce2a",
   "metadata": {},
   "outputs": [
    {
     "name": "stdout",
     "output_type": "stream",
     "text": [
      "Accuracy: 0.7077922077922078\n"
     ]
    }
   ],
   "source": [
    "from sklearn.metrics import accuracy_score\n",
    "\n",
    "y_pred = rfc.predict(X_text_d)\n",
    "accuracy = accuracy_score(Y_test_d, y_pred)\n",
    "print(\"Accuracy:\", accuracy)"
   ]
  },
  {
   "cell_type": "code",
   "execution_count": 77,
   "id": "bd8a9001",
   "metadata": {},
   "outputs": [],
   "source": [
    "import pickle"
   ]
  },
  {
   "cell_type": "code",
   "execution_count": 78,
   "id": "16cb1104",
   "metadata": {},
   "outputs": [],
   "source": [
    "filename = 'diabetes_model.sav'\n",
    "pickle.dump(classifier, open(filename, 'wb'))"
   ]
  },
  {
   "cell_type": "code",
   "execution_count": 79,
   "id": "89d938e1",
   "metadata": {},
   "outputs": [],
   "source": [
    "#loaded_model = pickle.load(open('diabetes_model.sav', 'rb'))"
   ]
  },
  {
   "cell_type": "code",
   "execution_count": 80,
   "id": "f189dbf5",
   "metadata": {},
   "outputs": [],
   "source": [
    "filename = 'heart_disease_model.sav'\n",
    "pickle.dump(model, open(filename, 'wb'))"
   ]
  },
  {
   "cell_type": "code",
   "execution_count": 81,
   "id": "8a71cbc5",
   "metadata": {},
   "outputs": [],
   "source": [
    "#loaded_model = pickle.load(open('heart_disease_model.sav', 'rb'))"
   ]
  },
  {
   "cell_type": "code",
   "execution_count": null,
   "id": "16799181",
   "metadata": {},
   "outputs": [],
   "source": [
    "pip install streamlit-option-menu"
   ]
  },
  {
   "cell_type": "code",
   "execution_count": null,
   "id": "9958c620",
   "metadata": {},
   "outputs": [],
   "source": []
  }
 ],
 "metadata": {
  "kernelspec": {
   "display_name": "Python 3 (ipykernel)",
   "language": "python",
   "name": "python3"
  },
  "language_info": {
   "codemirror_mode": {
    "name": "ipython",
    "version": 3
   },
   "file_extension": ".py",
   "mimetype": "text/x-python",
   "name": "python",
   "nbconvert_exporter": "python",
   "pygments_lexer": "ipython3",
   "version": "3.11.5"
  },
  "widgets": {
   "application/vnd.jupyter.widget-state+json": {
    "state": {},
    "version_major": 2,
    "version_minor": 0
   }
  }
 },
 "nbformat": 4,
 "nbformat_minor": 5
}
